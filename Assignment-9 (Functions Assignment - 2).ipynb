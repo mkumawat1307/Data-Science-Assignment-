{
 "cells": [
  {
   "cell_type": "markdown",
   "id": "4ed5bf8f-e040-45d2-b0d2-7fc80908f5fd",
   "metadata": {},
   "source": [
    "## Q1. What is a lambda function in Python, and how does it differ from a regular function?"
   ]
  },
  {
   "cell_type": "markdown",
   "id": "830aa48a-ed40-48b2-ae9c-64c453c43474",
   "metadata": {},
   "source": [
    "`Answer`\n",
    "- lambda function:-\n",
    ">a lambda function is an anonymous function that can be defined without a formal name using the lambda keyword. It is also known as a \"lambda expression\" or a \"lambda abstraction.\" Lambda functions are typically used when you need a small, one-time function and don't want to define a full-fledged named function.\n",
    "- A lambda function is an anonymous function (i.e., defined without a name) that can take any number of arguments but, unlike normal functions, evaluates and returns only one expression. Note that, unlike a normal function, we don't surround the parameters of a lambda function with parentheses."
   ]
  },
  {
   "cell_type": "markdown",
   "id": "4032edb4-a03b-4a6c-8671-3150206a6f2e",
   "metadata": {},
   "source": [
    "## Q2. Can a lambda function in Python have multiple arguments? If yes, how can you define and use them?"
   ]
  },
  {
   "cell_type": "markdown",
   "id": "17150f0d-e50e-43f7-a7ab-575fd4c91ec0",
   "metadata": {},
   "source": [
    "`Answer`\n",
    "\n",
    "- Yes, a lambda function in Python can have multiple arguments. You can define and use multiple arguments in a lambda function by separating them with commas, just like in a regular function."
   ]
  },
  {
   "cell_type": "code",
   "execution_count": 1,
   "id": "ed5b0e13-c8b6-4af9-8ffc-276d49060d21",
   "metadata": {},
   "outputs": [
    {
     "data": {
      "text/plain": [
       "6"
      ]
     },
     "execution_count": 1,
     "metadata": {},
     "output_type": "execute_result"
    }
   ],
   "source": [
    "output=lambda a, b, c: a + b + c\n",
    "output(1,2,3)"
   ]
  },
  {
   "cell_type": "markdown",
   "id": "588d283f-48f7-419f-ade8-117baf2cedcd",
   "metadata": {},
   "source": [
    "## Q3. How are lambda functions typically used in Python? Provide an example use case."
   ]
  },
  {
   "cell_type": "markdown",
   "id": "2481cb8a-9a0c-4536-a49f-3fdd02d90c91",
   "metadata": {},
   "source": [
    "`Answer`\n",
    "\n",
    "- Lambda functions in Python are commonly used in situations where a small, one-time function is needed, especially as arguments to higher-order functions such as map(), filter(), and reduce(). They provide a concise way to define these temporary functions without the need for explicitly defining a separate named function."
   ]
  },
  {
   "cell_type": "code",
   "execution_count": 2,
   "id": "83bc4174-8f5b-4455-a3f7-050f4edc3494",
   "metadata": {},
   "outputs": [
    {
     "data": {
      "text/plain": [
       "[2, 4, 6, 8, 10]"
      ]
     },
     "execution_count": 2,
     "metadata": {},
     "output_type": "execute_result"
    }
   ],
   "source": [
    "numbers = [1, 2, 3, 4, 5,6,7,8,9,10]\n",
    "even_numbers = list(filter(lambda x: x % 2 == 0, numbers))\n",
    "even_numbers "
   ]
  },
  {
   "cell_type": "markdown",
   "id": "9a08e63f-1406-4970-947d-4d8f61ebbf8b",
   "metadata": {},
   "source": [
    "## Q4. What are the advantages and limitations of lambda functions compared to regular functions in Python?"
   ]
  },
  {
   "cell_type": "markdown",
   "id": "104f209d-f856-4b64-9b5b-1e7a2f835fb3",
   "metadata": {},
   "source": [
    "`Answer`\n",
    "\n",
    "`Advantages:-`\n",
    "1. Lambda functions are anonymous, meaning they don't require a formal name.\n",
    "2. Lambda functions are useful for small tasks that are not reused throughout your code.\n",
    "3. They're often used with functions like map(), filter(), reduce(), and sorted().\n",
    "4. Lambda functions are especially useful when you want to define a small function to pass as an argument to another function.\n",
    "5. They can be assigned to variables and used like regular functions. \n",
    "\n",
    "`Limitations:-`\n",
    "1. Lambda functions can only contain expressions, not statements. Statements like print(), assignments, or return cannot be directly used within a lambda function.\n",
    "2. Lambda functions are limited to a single expression. They cannot contain multiple statements or complex control flow structures like loops or conditional statements.\n",
    "3. Although lambda functions can enhance code readability when used appropriately, they can become less readable if they are too complex or packed with intricate logic. "
   ]
  },
  {
   "cell_type": "markdown",
   "id": "6b5c56fa-be72-47a0-a3bf-ae85b18c958f",
   "metadata": {},
   "source": [
    "## Q5. Are lambda functions in Python able to access variables defined outside of their own scope? Explain with an example."
   ]
  },
  {
   "cell_type": "markdown",
   "id": "de74e67b-4c08-4a11-8f3f-4c5c142e2d47",
   "metadata": {},
   "source": [
    "`Answer`\n",
    "\n",
    "> Yes, lambda functions in Python can access variables defined outside of their own scope."
   ]
  },
  {
   "cell_type": "code",
   "execution_count": 5,
   "id": "d2b7bbd9-94bb-44ec-a29d-4f93cc74e454",
   "metadata": {},
   "outputs": [
    {
     "data": {
      "text/plain": [
       "'Hello, Manish'"
      ]
     },
     "execution_count": 5,
     "metadata": {},
     "output_type": "execute_result"
    }
   ],
   "source": [
    "def out_fun():\n",
    "    message = 'Hello'\n",
    "    inn_fun = lambda name: message + ', ' + name\n",
    "    return inn_fun\n",
    "\n",
    "grt = out_fun()\n",
    "grt(\"Manish\") "
   ]
  },
  {
   "cell_type": "markdown",
   "id": "48cc39e3-31e1-42b7-886f-457338ef3304",
   "metadata": {},
   "source": [
    "the outer_function() defines a variable message and a lambda function inner_function that takes a name argument. The lambda function concatenates the message variable with the name argument.\n",
    "\n",
    "When outer_function() is called and assigned to greeting, it returns the lambda function inner_function. Later, when we call greeting('John'), it invokes the lambda function, which still has access to the message variable defined in the outer scope. The lambda function concatenates the value of message with the provided name, resulting in the output: \"Hello, Manish\"."
   ]
  },
  {
   "cell_type": "markdown",
   "id": "15948d95-5854-4078-ba79-259bef6766d9",
   "metadata": {},
   "source": [
    "## Q6. Write a lambda function to calculate the square of a given number."
   ]
  },
  {
   "cell_type": "code",
   "execution_count": 7,
   "id": "77c5198e-41c9-488d-bf7f-272394a7c57f",
   "metadata": {},
   "outputs": [
    {
     "name": "stdin",
     "output_type": "stream",
     "text": [
      "Enter a number:  6\n"
     ]
    },
    {
     "data": {
      "text/plain": [
       "36"
      ]
     },
     "execution_count": 7,
     "metadata": {},
     "output_type": "execute_result"
    }
   ],
   "source": [
    "square=lambda x: x**2\n",
    "x=int(input(\"Enter a number: \"))\n",
    "square(x)"
   ]
  },
  {
   "cell_type": "markdown",
   "id": "7d28baca-2471-468b-a14d-61734b347c1d",
   "metadata": {},
   "source": [
    "## Q7. Create a lambda function to find the maximum value in a list of integers."
   ]
  },
  {
   "cell_type": "code",
   "execution_count": 9,
   "id": "3e652e38-b68a-4fb4-b097-2ab1266a7c7e",
   "metadata": {},
   "outputs": [
    {
     "data": {
      "text/plain": [
       "200"
      ]
     },
     "execution_count": 9,
     "metadata": {},
     "output_type": "execute_result"
    }
   ],
   "source": [
    "_list = [1,2,44,5,6,8,10,44,100,200]\n",
    "_max_number=lambda _list: max(_list)\n",
    "_max_number(_list)"
   ]
  },
  {
   "cell_type": "markdown",
   "id": "2856cd53-e151-4661-af4f-e636af709335",
   "metadata": {},
   "source": [
    "## Q8. Implement a lambda function to filter out all the even numbers from a list of integers."
   ]
  },
  {
   "cell_type": "code",
   "execution_count": 13,
   "id": "1c531536-2601-43b0-84f7-53bc6b8ff178",
   "metadata": {},
   "outputs": [
    {
     "data": {
      "text/plain": [
       "[2, 4, 6, 8, 10, 12, 44, 36, 48]"
      ]
     },
     "execution_count": 13,
     "metadata": {},
     "output_type": "execute_result"
    }
   ],
   "source": [
    "list_integers= [1,2,3,4,5,6,7,8,9,10,11,12,13,44,45,36,48]\n",
    "even_number_filter=lambda x: x%2==0\n",
    "list(filter(even_number_filter, list_integers))"
   ]
  },
  {
   "cell_type": "markdown",
   "id": "a366b5ab-d3f0-4808-9a73-35344008f415",
   "metadata": {},
   "source": [
    "## Q9. Write a lambda function to sort a list of strings in ascending order based on the length of each string."
   ]
  },
  {
   "cell_type": "code",
   "execution_count": 17,
   "id": "3346ddf9-9ca3-4790-8cbf-c88bbfd5f9e8",
   "metadata": {},
   "outputs": [
    {
     "data": {
      "text/plain": [
       "['kiwi', 'pear', 'apple', 'banana', 'orange', 'Pineapple', 'Watermelon']"
      ]
     },
     "execution_count": 17,
     "metadata": {},
     "output_type": "execute_result"
    }
   ],
   "source": [
    "list_strings= ['Watermelon','apple', 'banana', 'orange', 'kiwi', 'pear','Pineapple']\n",
    "sorted(list_strings, key=lambda x: len(x))"
   ]
  },
  {
   "cell_type": "markdown",
   "id": "e59e4ea8-5e54-4147-ac96-22065799c1e7",
   "metadata": {},
   "source": [
    "## Q10. Create a lambda function that takes two lists as input and returns a new list containing the common elements between the two lists."
   ]
  },
  {
   "cell_type": "code",
   "execution_count": 23,
   "id": "b1e9b3dc-ea0d-4892-acbf-06e7cf179e68",
   "metadata": {},
   "outputs": [
    {
     "data": {
      "text/plain": [
       "[4, 5, 6, 7, 11]"
      ]
     },
     "execution_count": 23,
     "metadata": {},
     "output_type": "execute_result"
    }
   ],
   "source": [
    "l1 = [1, 2, 3, 4, 5, 6, 7, 10,55,11]\n",
    "l2 = [4, 5, 6, 7, 8, 11, 12, 13]\n",
    "common_element= lambda l1, l2: list(filter(lambda x: x in l2,l1))\n",
    "common_element(l1,l2)"
   ]
  },
  {
   "cell_type": "markdown",
   "id": "604ac52d-f933-421c-bbbf-110fcb76d577",
   "metadata": {},
   "source": [
    "## Q11. Write a recursive function to calculate the factorial of a given positive integer."
   ]
  },
  {
   "cell_type": "code",
   "execution_count": 27,
   "id": "b4066397-ef62-4ca3-a2b7-a6ffcff50858",
   "metadata": {},
   "outputs": [
    {
     "name": "stdin",
     "output_type": "stream",
     "text": [
      "Enter number:  3\n"
     ]
    },
    {
     "data": {
      "text/plain": [
       "6"
      ]
     },
     "execution_count": 27,
     "metadata": {},
     "output_type": "execute_result"
    }
   ],
   "source": [
    "def factorial(num):\n",
    "    if num == 1:\n",
    "        return 1\n",
    "    else:\n",
    "        return num * factorial(num-1)\n",
    "num=int(input(\"Enter number: \"))\n",
    "factorial(num)    "
   ]
  },
  {
   "cell_type": "markdown",
   "id": "34687a1c-bb65-4efb-a285-92336baa91eb",
   "metadata": {},
   "source": [
    "## Q12. Implement a recursive function to compute the nth Fibonacci number."
   ]
  },
  {
   "cell_type": "code",
   "execution_count": 48,
   "id": "1052ced3-47e2-46a9-a62e-3abbd4dbd3bc",
   "metadata": {},
   "outputs": [
    {
     "data": {
      "text/plain": [
       "3"
      ]
     },
     "execution_count": 48,
     "metadata": {},
     "output_type": "execute_result"
    }
   ],
   "source": [
    "def fibonacci_number(n):\n",
    "    if n == 0:\n",
    "        return 0\n",
    "    elif n == 1 or n == 2:\n",
    "        return 1\n",
    "    else:\n",
    "        return fibonacci_number(n - 1) + fibonacci_number(n - 2)\n",
    "fibonacci_number(4)"
   ]
  },
  {
   "cell_type": "markdown",
   "id": "7655d8fc-1196-46e2-b08c-7fb798500ca2",
   "metadata": {},
   "source": [
    "## Q13. Create a recursive function to find the sum of all the elements in a given list."
   ]
  },
  {
   "cell_type": "code",
   "execution_count": 54,
   "id": "c292ddbd-8bcf-4413-85c2-ef17a86abb6c",
   "metadata": {},
   "outputs": [
    {
     "data": {
      "text/plain": [
       "12"
      ]
     },
     "execution_count": 54,
     "metadata": {},
     "output_type": "execute_result"
    }
   ],
   "source": [
    "def recursive_sum(l):\n",
    "    if len(l) == 0:\n",
    "        return 0\n",
    "    else:\n",
    "        return l[0] + recursive_sum(l[1:])\n",
    "    \n",
    "_list=[0,1,1,2,3,5]\n",
    "recursive_sum(_list)"
   ]
  },
  {
   "cell_type": "markdown",
   "id": "a595c29a-b3aa-49e9-b6f0-d5fc2d2715f2",
   "metadata": {},
   "source": [
    "## Q14. Write a recursive function to determine whether a given string is a palindrome."
   ]
  },
  {
   "cell_type": "code",
   "execution_count": 65,
   "id": "4e341ec3-e15a-4fc2-8c66-37529e00dafc",
   "metadata": {},
   "outputs": [
    {
     "name": "stdout",
     "output_type": "stream",
     "text": [
      "True\n",
      "False\n"
     ]
    }
   ],
   "source": [
    "def is_palinDrom(s):\n",
    "    if len(s)<=1:\n",
    "        return True\n",
    "    else:\n",
    "        if s[0]==s[-1]:\n",
    "            return is_palinDrom(s[1:-1])\n",
    "        else:\n",
    "            return False\n",
    "s1 = \"raddar\"\n",
    "s2 = \"hello\"\n",
    "print(is_palinDrom(s1))\n",
    "print(is_palinDrom(s2))"
   ]
  },
  {
   "cell_type": "markdown",
   "id": "accca2b5-bdcd-4ea5-873d-761bc63055ba",
   "metadata": {},
   "source": [
    "## Q15. Implement a recursive function to find the greatest common divisor (GCD) of two positive integers."
   ]
  },
  {
   "cell_type": "code",
   "execution_count": 79,
   "id": "d4c22d50-48ab-4ae6-b406-1631b8c9c4fb",
   "metadata": {},
   "outputs": [
    {
     "data": {
      "text/plain": [
       "25"
      ]
     },
     "execution_count": 79,
     "metadata": {},
     "output_type": "execute_result"
    }
   ],
   "source": [
    "def gcd(a,b):\n",
    "    if b==0:\n",
    "        return a\n",
    "    else:\n",
    "        return gcd(b, a%b)\n",
    "gcd(25,50)"
   ]
  }
 ],
 "metadata": {
  "kernelspec": {
   "display_name": "Python 3 (ipykernel)",
   "language": "python",
   "name": "python3"
  },
  "language_info": {
   "codemirror_mode": {
    "name": "ipython",
    "version": 3
   },
   "file_extension": ".py",
   "mimetype": "text/x-python",
   "name": "python",
   "nbconvert_exporter": "python",
   "pygments_lexer": "ipython3",
   "version": "3.10.6"
  }
 },
 "nbformat": 4,
 "nbformat_minor": 5
}
