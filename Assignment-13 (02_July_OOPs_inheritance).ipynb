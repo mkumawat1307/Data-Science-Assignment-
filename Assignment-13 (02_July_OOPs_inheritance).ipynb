{
 "cells": [
  {
   "cell_type": "markdown",
   "id": "e5d51320-c94b-4897-9a05-c4c0c1bec92b",
   "metadata": {},
   "source": [
    "## Q1. Explain what inheritance is in object-oriented programming and why it is used."
   ]
  },
  {
   "cell_type": "markdown",
   "id": "1c0d7069-297c-4234-9ed7-f8398fab754b",
   "metadata": {},
   "source": [
    "`Answer`\n",
    "\n",
    "> Inheritance is a fundamental concept that allows classes to inherit attributes and behaviors from other classes. It enables the creation of a hierarchy of classes, where a new class, called the derived or subclass, can inherit the properties and methods of an existing class, known as the base or superclass.\n",
    "\n",
    "> Inheritance is used for code reuse and to establish relationships between classes. It promotes the idea of creating classes based on existing ones, thereby reducing redundancy and increasing modularity and maintainability of code. "
   ]
  },
  {
   "cell_type": "markdown",
   "id": "5b76644a-f2d1-4cc9-85bf-adc55bd14522",
   "metadata": {},
   "source": [
    "## Q2. Discuss the concept of single inheritance and multiple inheritance, highlighting their differences and advantages."
   ]
  },
  {
   "cell_type": "markdown",
   "id": "f8ac65eb-a52f-4727-80de-5cdfed72597e",
   "metadata": {},
   "source": [
    "`Answer`\n",
    "\n",
    "1. Single Inheritance:\n",
    "> Single inheritance refers to the concept where a class can inherit from only one base or superclass. In this approach, a subclass extends the functionality of a single superclass, forming a linear hierarchy.\n",
    "\n",
    "2. Multiple Inheritance:\n",
    "> Multiple inheritance allows a class to inherit attributes and behaviors from multiple base classes. In this approach, a subclass can derive characteristics from multiple superclasses, creating a more complex inheritance hierarchy.\n",
    "\n",
    "<h3>Differences between Single and Multiple Inheritance:</h3>\n",
    "\n",
    "1. Inheritance Structure: Single inheritance forms a linear hierarchy, while multiple inheritance results in a more complex, diamond-shaped hierarchy.\n",
    "2. Number of Base Classes: Single inheritance allows a class to inherit from only one base class, while multiple inheritance permits inheritance from multiple base classes.\n",
    "3. Code Organization: Single inheritance provides a simpler and more straightforward class organization, whereas multiple inheritance can introduce greater complexity and potential for conflicts.\n",
    "4. Name Conflicts: In multiple inheritance, there can be name conflicts if two or more base classes define methods or attributes with the same name. Careful consideration and resolution are required in such cases.\n",
    "5. Language Support: Some programming languages, like Java, support only single inheritance, while others, like C++, support both single and multiple inheritance.\n",
    "\n",
    "<h3>Advantages of Single and Multiple Inheritance:</h3> \n",
    "\n",
    "|Single Inheritance|Multiple Inheritance|\n",
    "|------------------|--------------------|\n",
    "|Simplicity: Single inheritance simplifies the class hierarchy as it enforces a clear parent-child relationship between classes.|Code Reusability: Multiple inheritance facilitates greater code reuse as a class can inherit functionality from multiple sources. This can result in more efficient and concise code.|\n",
    "|Easy to understand: With a single superclass, the relationship and behavior of the subclass are straightforward and easier to comprehend.|Increased flexibility: With multiple inheritance, a class can combine the features of different classes, enabling greater flexibility in designing complex systems.|\n",
    "|Reduced complexity: Single inheritance reduces the chances of conflicts or ambiguities that may arise from inheriting multiple properties or methods with the same name.|Modeling real-world scenarios: In certain scenarios, multiple inheritance can better represent real-world relationships where an object can inherit characteristics from multiple entities.|"
   ]
  },
  {
   "cell_type": "markdown",
   "id": "22a9252f-f598-4ea4-be29-d733fdc35ff9",
   "metadata": {},
   "source": [
    "## Q3. Explain the terms \"base class\" and \"derived class\" in the context of inheritance."
   ]
  },
  {
   "cell_type": "markdown",
   "id": "dd2e9fd5-be27-44bb-a90a-8ef48e282a8d",
   "metadata": {},
   "source": [
    "`Answer`\n",
    "\n",
    "1. Base Class:\n",
    ">A base class, also known as a superclass or parent class, is the class from which other classes inherit properties and methods. It is at the top of the class hierarchy and serves as a template or blueprint for creating derived classes. The base class defines common attributes and behaviors that can be shared among multiple derived classes.\n",
    "\n",
    "2. Derived Class:\n",
    "> A derived class, also referred to as a subclass or child class, is a class that inherits properties and methods from a base class. It is created by extending or inheriting the attributes and behaviors of the base class. A derived class can add its own unique features, attributes, or methods in addition to the inherited ones, thus enhancing or modifying the behavior defined in the base class."
   ]
  },
  {
   "cell_type": "markdown",
   "id": "106f78cc-0a33-4437-b9d3-ae6952e808e4",
   "metadata": {},
   "source": [
    "## Q4. What is the significance of the \"protected\" access modifier in inheritance? How does it differ from \"private\" and \"public\" modifiers?"
   ]
  },
  {
   "cell_type": "markdown",
   "id": "7a8ce206-903a-4565-997d-bda78c6c0d75",
   "metadata": {},
   "source": [
    "`Answer`\n",
    "\n",
    "> the \"protected\" access modifier is not enforced by the language itself, unlike \"private\" and \"public\" modifiers. However, by convention, a single leading underscore (e.g., _protected) is used to indicate a protected member. This naming convention is a way to signal that the member should be treated as protected and not accessed directly from outside the class or subclass.\n",
    "\n",
    "> 1. Private: a double leading underscore (e.g., __private) is used to indicate a private member. This naming convention invokes name mangling, where the actual name of the member is modified to include the class name. Private members are intended to be accessed only within the class itself, and their visibility is limited to prevent accidental or unauthorized access from outside the class.\n",
    "\n",
    "> 2. Protected: As mentioned earlier, the convention for a protected member in Python is to use a single leading underscore (e.g., _protected). However, Python does not enforce any restrictions on accessing or modifying these members. It's merely a convention to indicate that the member should be treated as protected and not accessed directly from outside the class or subclass. Developers are expected to follow this convention and respect the intent of protecting the member.\n",
    "\n",
    "> 3. Public: members that don't have any leading underscores are considered public. Public members can be accessed and modified from anywhere, including outside the class or subclass. There are no access restrictions imposed by the language, and these members are intended to be used and interacted with freely."
   ]
  },
  {
   "cell_type": "markdown",
   "id": "e4134084-8a86-4151-a5ed-8b7b8b76f13f",
   "metadata": {},
   "source": [
    "## Q5. What is the purpose of the \"super\" keyword in inheritance? Provide an example."
   ]
  },
  {
   "cell_type": "markdown",
   "id": "f22b2a73-f78a-44f0-bc4d-ee37d9013c3f",
   "metadata": {},
   "source": [
    "`Answer`\n",
    "\n",
    "> The \"super\" keyword in inheritance is used to refer to the superclass or parent class of a subclass. It provides a way to call and access the methods and attributes of the superclass from within the subclass.\n",
    "\n",
    "> The primary purpose of the \"super\" keyword is to enable code reuse and to facilitate the implementation of inheritance hierarchies. It allows the subclass to extend or override the behavior of the superclass while still being able to invoke the superclass's functionality."
   ]
  },
  {
   "cell_type": "code",
   "execution_count": 7,
   "id": "51c5b0df-b558-4cbc-b644-3cd7397561a5",
   "metadata": {},
   "outputs": [
    {
     "name": "stdout",
     "output_type": "stream",
     "text": [
      "Spike\n",
      "Spike makes 'woof' 'woof' sound.\n",
      "The dog barks.\n"
     ]
    }
   ],
   "source": [
    "class Animal:\n",
    "    def __init__(self, name):\n",
    "        self.name = name\n",
    "\n",
    "    def make_sound(self):\n",
    "        print(f\"{self.name} makes 'woof' 'woof' sound.\")\n",
    "\n",
    "\n",
    "class Dog(Animal):\n",
    "    def __init__(self, name, breed):\n",
    "        super().__init__(name)  # Calling the superclass's __init__ method\n",
    "        self.breed = breed\n",
    "\n",
    "    def make_sound(self):\n",
    "        super().make_sound()  # Calling the superclass's make_sound method\n",
    "        print(\"The dog barks.\")\n",
    "\n",
    "\n",
    "dog = Dog(\"Spike\", \"Bulldog\")\n",
    "print(dog.name)  # Accessing the attribute from the superclass\n",
    "dog.make_sound()  # Invoking the method from the subclass"
   ]
  },
  {
   "cell_type": "markdown",
   "id": "fd0e4271-38fc-4ae5-8ecc-24a5530935e9",
   "metadata": {},
   "source": [
    "## Q6. Create a base class called \"Vehicle\" with attributes like \"make\", \"model\", and \"year\". Then, create a derived class called \"Car\" that inherits from \"Vehicle\" and adds an attribute called \"fuel_type\". Implement appropriate methods in both classes."
   ]
  },
  {
   "cell_type": "code",
   "execution_count": 18,
   "id": "2b45e4bb-0485-4c33-ac42-a738f3b85569",
   "metadata": {},
   "outputs": [],
   "source": [
    "class Vehicle:\n",
    "    def __init__(self,make,model,year):\n",
    "        \"\"\"\n",
    "        Initializes the Vehicle object with make, model, and year attributes.\n",
    "\n",
    "        Args:\n",
    "            make (str): The make of the vehicle.\n",
    "            model (str): The model of the vehicle.\n",
    "            year (int): The manufacturing year of the vehicle.\n",
    "        \"\"\"\n",
    "        self.make = make\n",
    "        self.model = model\n",
    "        self.year = year\n",
    "        \n",
    "    def display_info(self):\n",
    "        \"\"\"\n",
    "        Displays the information about the vehicle.\n",
    "        \"\"\"\n",
    "        print(f\"Make: {self.make}\")\n",
    "        print(f\"Model: {self.model}\")\n",
    "        print(f\"Year: {self.year}\")\n",
    "        \n",
    "class Car(Vehicle):\n",
    "    def __init__(self, make, model, year, fuel_type):\n",
    "        \"\"\"\n",
    "        Initializes the Car object with make, model, year, and fuel_type attributes.\n",
    "\n",
    "        Args:\n",
    "            make (str): The make of the car.\n",
    "            model (str): The model of the car.\n",
    "            year (int): The manufacturing year of the car.\n",
    "            fuel_type (str): The type of fuel used by the car.\n",
    "        \"\"\"\n",
    "        super().__init__(make, model, year)\n",
    "        self.fuel_type = fuel_type\n",
    "        \n",
    "    def display_info(self):\n",
    "        \"\"\"\n",
    "        Displays the information about the car, including the base Vehicle information and fuel type.\n",
    "        \"\"\"\n",
    "        super().display_info()\n",
    "        print(f\"Fuel Type: {self.fuel_type}\")"
   ]
  },
  {
   "cell_type": "code",
   "execution_count": 20,
   "id": "ac25968c-89e0-4a69-a69b-5047952e2c9d",
   "metadata": {},
   "outputs": [
    {
     "name": "stdout",
     "output_type": "stream",
     "text": [
      "Make: Lamborghini\n",
      "Model: Aventador S\n",
      "Year: 2011\n",
      "Fuel Type: Petrol\n"
     ]
    }
   ],
   "source": [
    "# Creating an instance of the Car class\n",
    "car = Car(\"Lamborghini\", \"Aventador S\", 2011, \"Petrol\")\n",
    "# Accessing attributes and invoking methods\n",
    "car.display_info()"
   ]
  },
  {
   "cell_type": "markdown",
   "id": "99978dcb-b099-4942-bce1-0da1f1243c5c",
   "metadata": {},
   "source": [
    "## Q7. Create a base class called \"Employee\" with attributes like \"name\" and \"salary.\" Derive two classes, \"Manager\" and \"Developer,\" from \"Employee.\" Add an additional attribute called \"department\" for the \"Manager\" class and \"programming_language\" for the \"Developer\" class."
   ]
  },
  {
   "cell_type": "code",
   "execution_count": 22,
   "id": "1445f9ea-5001-4445-8a86-3cd3e185906e",
   "metadata": {},
   "outputs": [
    {
     "name": "stdout",
     "output_type": "stream",
     "text": [
      "Name: Manish\n",
      "Salary: ₹100000\n",
      "Department: Senior Developer\n",
      "\n",
      "Name: Pankaj\n",
      "Salary: ₹60000\n",
      "Programming Language: Python Developer\n"
     ]
    }
   ],
   "source": [
    "class Employee:\n",
    "    def __init__(self, name, salary):\n",
    "        \"\"\"\n",
    "        Initializes an Employee object with name and salary attributes.\n",
    "\n",
    "        Args:\n",
    "            name (str): The name of the employee.\n",
    "            salary (float): The salary of the employee.\n",
    "        \"\"\"\n",
    "        self.name = name\n",
    "        self.salary = salary\n",
    "\n",
    "    def display_info(self):\n",
    "        \"\"\"\n",
    "        Displays the information about the employee.\n",
    "        \"\"\"\n",
    "        print(f\"Name: {self.name}\")\n",
    "        print(f\"Salary: ₹{self.salary}\")\n",
    "\n",
    "\n",
    "class Manager(Employee):\n",
    "    def __init__(self, name, salary, department):\n",
    "        \"\"\"\n",
    "        Initializes a Manager object with name, salary, and department attributes.\n",
    "\n",
    "        Args:\n",
    "            name (str): The name of the manager.\n",
    "            salary (float): The salary of the manager.\n",
    "            department (str): The department the manager belongs to.\n",
    "        \"\"\"\n",
    "        super().__init__(name, salary)\n",
    "        self.department = department\n",
    "\n",
    "    def display_info(self):\n",
    "        \"\"\"\n",
    "        Displays the information about the manager, including the base Employee information and the department.\n",
    "        \"\"\"\n",
    "        super().display_info()\n",
    "        print(f\"Department: {self.department}\")\n",
    "\n",
    "\n",
    "class Developer(Employee):\n",
    "    def __init__(self, name, salary, programming_language):\n",
    "        \"\"\"\n",
    "        Initializes a Developer object with name, salary, and programming_language attributes.\n",
    "\n",
    "        Args:\n",
    "            name (str): The name of the developer.\n",
    "            salary (float): The salary of the developer.\n",
    "            programming_language (str): The programming language the developer specializes in.\n",
    "        \"\"\"\n",
    "        super().__init__(name, salary)\n",
    "        self.programming_language = programming_language\n",
    "\n",
    "    def display_info(self):\n",
    "        \"\"\"\n",
    "        Displays the information about the developer, including the base Employee information and the programming language.\n",
    "        \"\"\"\n",
    "        super().display_info()\n",
    "        print(f\"Programming Language: {self.programming_language}\")\n",
    "\n",
    "\n",
    "# Creating instances of Manager and Developer\n",
    "manager = Manager(\"Manish\", 100000, \"Senior Developer\")\n",
    "developer = Developer(\"Pankaj\", 60000, \"Python Developer\")\n",
    "\n",
    "# Accessing attributes and invoking methods\n",
    "manager.display_info()\n",
    "print()\n",
    "developer.display_info()"
   ]
  },
  {
   "cell_type": "markdown",
   "id": "0cbf8de1-a7ad-46e5-bc26-32b4626c24a3",
   "metadata": {},
   "source": [
    "## Q8. Design a base class called \"Shape\" with attributes like \"colour\" and \"border_width.\" Create derived classes, \"Rectangle\" and \"Circle,\" that inherit from \"Shape\" and add specific attributes like \"length\" and \"width\" for the \"Rectangle\" class and \"radius\" for the \"Circle\" class."
   ]
  },
  {
   "cell_type": "code",
   "execution_count": 29,
   "id": "bdecd9de-f709-440b-8aed-c08fcc19e0b5",
   "metadata": {},
   "outputs": [
    {
     "name": "stdout",
     "output_type": "stream",
     "text": [
      "Colour: Blue\n",
      "Border Width: 2\n",
      "Length: 5\n",
      "Width: 3\n",
      "\n",
      "Colour: Red\n",
      "Border Width: 1.5\n",
      "Radius: 4\n"
     ]
    }
   ],
   "source": [
    "class Shape:\n",
    "    def __init__(self, colour, border_width):\n",
    "        \"\"\"\n",
    "        Initializes a Shape object with colour and border_width attributes.\n",
    "\n",
    "        Args:\n",
    "            colour (str): The colour of the shape.\n",
    "            border_width (float): The width of the shape's border.\n",
    "        \"\"\"\n",
    "        self.colour = colour\n",
    "        self.border_width = border_width\n",
    "\n",
    "    def display_info(self):\n",
    "        \"\"\"\n",
    "        Displays the information about the shape.\n",
    "        \"\"\"\n",
    "        print(f\"Colour: {self.colour}\")\n",
    "        print(f\"Border Width: {self.border_width}\")\n",
    "\n",
    "\n",
    "class Rectangle(Shape):\n",
    "    def __init__(self, colour, border_width, length, width):\n",
    "        \"\"\"\n",
    "        Initializes a Rectangle object with colour, border_width, length, and width attributes.\n",
    "\n",
    "        Args:\n",
    "            colour (str): The colour of the rectangle.\n",
    "            border_width (float): The width of the rectangle's border.\n",
    "            length (float): The length of the rectangle.\n",
    "            width (float): The width of the rectangle.\n",
    "        \"\"\"\n",
    "        super().__init__(colour, border_width)\n",
    "        self.length = length\n",
    "        self.width = width\n",
    "\n",
    "    def display_info(self):\n",
    "        \"\"\"\n",
    "        Displays the information about the rectangle\n",
    "        \"\"\"\n",
    "        super().display_info()\n",
    "        print(f\"Length: {self.length}\")\n",
    "        print(f\"Width: {self.width}\")\n",
    "\n",
    "\n",
    "class Circle(Shape):\n",
    "    def __init__(self, colour, border_width, radius):\n",
    "        \"\"\"\n",
    "        Initializes a Circle object with colour, border_width, and radius attributes.\n",
    "\n",
    "        Args:\n",
    "            colour (str): The colour of the circle.\n",
    "            border_width (float): The width of the circle's border.\n",
    "            radius (float): The radius of the circle.\n",
    "        \"\"\"\n",
    "        super().__init__(colour, border_width)\n",
    "        self.radius = radius\n",
    "\n",
    "    def display_info(self):\n",
    "        \"\"\"\n",
    "        Displays the information about the circle\n",
    "        \"\"\"\n",
    "        super().display_info()\n",
    "        print(f\"Radius: {self.radius}\")\n",
    "\n",
    "\n",
    "# Creating instances of Rectangle and Circle\n",
    "rectangle = Rectangle(\"Blue\", 2, 5, 3)\n",
    "circle = Circle(\"Red\", 1.5, 4)\n",
    "\n",
    "# Accessing attributes and invoking methods\n",
    "rectangle.display_info()\n",
    "print()\n",
    "circle.display_info()"
   ]
  },
  {
   "cell_type": "markdown",
   "id": "47b287fd-c2fa-42e0-a329-d8f794f988d8",
   "metadata": {},
   "source": [
    "## Q9. Create a base class called \"Device\" with attributes like \"brand\" and \"model.\" Derive two classes, \"Phone\" and \"Tablet,\" from \"Device.\" Add specific attributes like \"screen_size\" for the \"Phone\" class and \"battery_capacity\" for the \"Tablet\" class."
   ]
  },
  {
   "cell_type": "code",
   "execution_count": 34,
   "id": "f170fc09-0b6a-430b-a125-b863e20dc9c7",
   "metadata": {},
   "outputs": [
    {
     "name": "stdout",
     "output_type": "stream",
     "text": [
      "Brand: Apple\n",
      "Model: iPhone 14 pro max\n",
      "Screen Size: 7.1 inches\n",
      "\n",
      "Brand: Samsung\n",
      "Model: Galaxy Tab S7\n",
      "Battery Capacity: 8000 mAh\n"
     ]
    }
   ],
   "source": [
    "class Device:\n",
    "    def __init__(self, brand, model):\n",
    "        \"\"\"\n",
    "        Initializes a Device object with brand and model attributes.\n",
    "\n",
    "        Args:\n",
    "            brand (str): The brand of the device.\n",
    "            model (str): The model of the device.\n",
    "        \"\"\"\n",
    "        self.brand = brand\n",
    "        self.model = model\n",
    "\n",
    "    def display_info(self):\n",
    "        \"\"\"\n",
    "        Displays the information about the device.\n",
    "        \"\"\"\n",
    "        print(f\"Brand: {self.brand}\")\n",
    "        print(f\"Model: {self.model}\")\n",
    "\n",
    "\n",
    "class Phone(Device):\n",
    "    def __init__(self, brand, model, screen_size):\n",
    "        \"\"\"\n",
    "        Initializes a Phone object with brand, model, and screen_size attributes.\n",
    "\n",
    "        Args:\n",
    "            brand (str): The brand of the phone.\n",
    "            model (str): The model of the phone.\n",
    "            screen_size (float): The screen size of the phone in inches.\n",
    "        \"\"\"\n",
    "        super().__init__(brand, model)\n",
    "        self.screen_size = screen_size\n",
    "\n",
    "    def display_info(self):\n",
    "        \"\"\"\n",
    "        Displays the information about the phone\n",
    "        \"\"\"\n",
    "        super().display_info()\n",
    "        print(f\"Screen Size: {self.screen_size} inches\")\n",
    "\n",
    "\n",
    "class Tablet(Device):\n",
    "    def __init__(self, brand, model, battery_capacity):\n",
    "        \"\"\"\n",
    "        Initializes a Tablet object with brand, model, and battery_capacity attributes.\n",
    "\n",
    "        Args:\n",
    "            brand (str): The brand of the tablet.\n",
    "            model (str): The model of the tablet.\n",
    "            battery_capacity (float): The battery capacity of the tablet in mAh.\n",
    "        \"\"\"\n",
    "        super().__init__(brand, model)\n",
    "        self.battery_capacity = battery_capacity\n",
    "\n",
    "    def display_info(self):\n",
    "        \"\"\"\n",
    "        Displays the information about the tablet\n",
    "        \"\"\"\n",
    "        super().display_info()\n",
    "        print(f\"Battery Capacity: {self.battery_capacity} mAh\")\n",
    "\n",
    "\n",
    "# Creating instances of Phone and Tablet\n",
    "phone = Phone(\"Apple\", \"iPhone 14 pro max\", 7.1)\n",
    "tablet = Tablet(\"Samsung\", \"Galaxy Tab S7\", 8000)\n",
    "\n",
    "# Accessing attributes and invoking methods\n",
    "phone.display_info()\n",
    "print()\n",
    "tablet.display_info()"
   ]
  },
  {
   "cell_type": "markdown",
   "id": "01a834d8-63b8-42a3-80d1-e8a536cfaef4",
   "metadata": {},
   "source": [
    "## Q10. Create a base class called \"BankAccount\" with attributes like \"account_number\" and \"balance.\" Derive two classes, \"SavingsAccount\" and \"CheckingAccount,\" from \"BankAccount.\" Add specific methods like \"calculate_interest\" for the \"SavingsAccount\" class and \"deduct_fees\" for the \"CheckingAccount\" class."
   ]
  },
  {
   "cell_type": "code",
   "execution_count": 81,
   "id": "bf9650e7-1e0b-46f6-b8e5-f0a3211852c7",
   "metadata": {},
   "outputs": [],
   "source": [
    "class BankAccount:\n",
    "    def __init__(self, account_number, balance):\n",
    "        \"\"\"\n",
    "        Initializes a BankAccount object with account_number and balance attributes.\n",
    "\n",
    "        Args:\n",
    "            account_number (str): The account number of the bank account.\n",
    "            balance (float): The current balance of the bank account.\n",
    "        \"\"\"\n",
    "        self.account_number = account_number\n",
    "        self.balance = balance\n",
    "\n",
    "    def display_info(self):\n",
    "        \"\"\"\n",
    "        Displays the information about the bank account.\n",
    "        \"\"\"\n",
    "        print(f\"Account Number: {self.account_number}\")\n",
    "        print(f\"Balance: ₹{self.balance:.2f}\")\n",
    "\n",
    "\n",
    "class SavingsAccount(BankAccount):\n",
    "    def calculate_interest(self, interest_rate):\n",
    "        \"\"\"\n",
    "        Calculates and adds the interest to the savings account based on the interest_rate.\n",
    "\n",
    "        Args:\n",
    "            interest_rate (float): The interest rate for calculating the interest.\n",
    "        \"\"\"\n",
    "        interest = self.balance * interest_rate\n",
    "        self.balance += interest\n",
    "        print(f\"Interest of ₹{interest:.2f} added. New balance: ₹{self.balance:.2f}\")\n",
    "\n",
    "\n",
    "class CheckingAccount(BankAccount):\n",
    "   \n",
    "    def deduct_fees(self, fee_amount):\n",
    "        \"\"\"\n",
    "        Deducts fees from the checking account balance.\n",
    "\n",
    "        Args:\n",
    "            fee_amount (float): The amount of fees to be deducted.\n",
    "        \"\"\"\n",
    "        if self.balance >= fee_amount:\n",
    "            self.balance -= fee_amount\n",
    "            print(f\"Fees of ₹{fee_amount:.2f} deducted. New balance: ₹{self.balance:.2f}\")\n",
    "        else:\n",
    "            print(\"Insufficient balance to deduct fees.\")"
   ]
  },
  {
   "cell_type": "code",
   "execution_count": 82,
   "id": "ab7481fc-7199-4fba-b041-aad71e8a99e5",
   "metadata": {},
   "outputs": [],
   "source": [
    "# Creating instances of SavingsAccount and CheckingAccount\n",
    "savings_account = SavingsAccount(\"123456789\", 1000)\n",
    "checking_account = CheckingAccount(\"123456789\", 1000)"
   ]
  },
  {
   "cell_type": "code",
   "execution_count": 83,
   "id": "091d63e0-5ba2-49c6-b137-8ebb45c5534b",
   "metadata": {},
   "outputs": [
    {
     "name": "stdout",
     "output_type": "stream",
     "text": [
      "Account Number: 123456789\n",
      "Balance: ₹1000.00\n",
      "Interest of ₹50.00 added. New balance: ₹1050.00\n",
      "\n",
      "Account Number: 123456789\n",
      "Balance: ₹1000.00\n",
      "Fees of ₹10.00 deducted. New balance: ₹990.00\n"
     ]
    }
   ],
   "source": [
    "# Accessing attributes and invoking methods\n",
    "savings_account.display_info()\n",
    "savings_account.calculate_interest(0.05)  # 5% interest rate\n",
    "print()\n",
    "checking_account.display_info()\n",
    "checking_account.deduct_fees(10)"
   ]
  },
  {
   "cell_type": "code",
   "execution_count": null,
   "id": "be6c1334-cca4-49d4-baee-32e683c4405a",
   "metadata": {},
   "outputs": [],
   "source": []
  }
 ],
 "metadata": {
  "kernelspec": {
   "display_name": "Python 3 (ipykernel)",
   "language": "python",
   "name": "python3"
  },
  "language_info": {
   "codemirror_mode": {
    "name": "ipython",
    "version": 3
   },
   "file_extension": ".py",
   "mimetype": "text/x-python",
   "name": "python",
   "nbconvert_exporter": "python",
   "pygments_lexer": "ipython3",
   "version": "3.10.6"
  }
 },
 "nbformat": 4,
 "nbformat_minor": 5
}
