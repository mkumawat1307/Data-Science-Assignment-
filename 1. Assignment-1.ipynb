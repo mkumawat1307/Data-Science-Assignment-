{
 "cells": [
  {
   "cell_type": "markdown",
   "id": "2d10048c-4920-4837-9c4e-3ce8f7bf5dbc",
   "metadata": {},
   "source": [
    "## Q1. In the below elements which of them are values or an expression? eg:- values can be integer or string and expressions will be mathematical operators.\n",
    "*<br>\n",
    "'hello'<br>\n",
    "-87.8<br>\n",
    "-<br>\n",
    "/<br>\n",
    "+<br>\n",
    "6<br>"
   ]
  },
  {
   "cell_type": "markdown",
   "id": "e9b7f379-8037-4f98-ba3d-790ecb4f5677",
   "metadata": {},
   "source": [
    "`Answer`\n",
    "\n",
    "`*`       -  expressions<br>\n",
    "`'hello'` -  Values<br>\n",
    "`-87.8`   -  Values<br>\n",
    "`-`       -  expressions<br>\n",
    "`/`       -  expressions<br>\n",
    "`+`       -  expressions<br>\n",
    "`6`       -  Values<br>"
   ]
  },
  {
   "cell_type": "markdown",
   "id": "312c77a9-368f-4989-a949-6f3d85ae2f66",
   "metadata": {},
   "source": [
    "## Q2. What is the difference between string and variable?"
   ]
  },
  {
   "cell_type": "markdown",
   "id": "fbeeca27-dc7a-4307-8486-228131cb8dd5",
   "metadata": {},
   "source": [
    "`Answer`\n",
    "\n",
    "A Variable is a store of information, and a String is a type of information you would store in a Variable. A String is usually words, enclosed with \"\"\n",
    "\n",
    "Eg\n",
    "String x =\"Welcome to SoloLearn\"<br>\n",
    "X is the Variable, and we declared it as a String, use the single = to assign the text to it."
   ]
  },
  {
   "cell_type": "markdown",
   "id": "d88c2042-7d1b-4270-9582-edae5b34853f",
   "metadata": {},
   "source": [
    "## Q3. Describe three different data types."
   ]
  },
  {
   "cell_type": "markdown",
   "id": "42e299df-d657-4b80-b3f0-e4b8fd519b8e",
   "metadata": {},
   "source": [
    "`Answer`\n",
    "\n",
    "|Data type              |\tUsed for                 |\tExamples                |\n",
    "|-----------------------|----------------------------|--------------------------|\n",
    "|String                 |Alphanumeric characters\t |hello word, Alice, Bob123 |\n",
    "|Integer                |Whole numbers\t             |7, 12, 999                |\n",
    "|Float (floating point)\t|Numbers with a decimal point|\t3.15, 9.06,00.13        |"
   ]
  },
  {
   "cell_type": "markdown",
   "id": "dba81269-6cb9-4542-9c15-e5d2d40abebe",
   "metadata": {},
   "source": [
    "## Q4. What is an expression made up of? What do all expressions do?"
   ]
  },
  {
   "cell_type": "markdown",
   "id": "468f3af6-9c4a-4078-89d6-5b5e48565215",
   "metadata": {},
   "source": [
    "`Answer`\n",
    "\n",
    "expressions are made up of variables, literals (constants), operators, and function calls. These components are combined together to create meaningful expressions that perform calculations, comparisons, or generate new values.\n",
    "\n",
    "Expressions in Python are used to perform calculations, make decisions, and manipulate data. They can be used to assign values to variables, compare values, perform mathematical operations, concatenate strings, evaluate conditions, and much more. The primary purpose of expressions is to evaluate and produce a single value as a result. This result can be used in further computations, assigned to a variable, or used in control structures like if statements or loops."
   ]
  },
  {
   "cell_type": "markdown",
   "id": "9b8479a7-5b41-408a-9ee8-85dbcf03ecdd",
   "metadata": {},
   "source": [
    "## Q5. This assignment statements, like spam = 10. What is the difference between an expression and a statement?"
   ]
  },
  {
   "cell_type": "markdown",
   "id": "a6665100-6287-4032-904f-93b52201fe74",
   "metadata": {},
   "source": [
    "`Answer`\n",
    "\n",
    "The key difference between expressions and statements is that expressions produce a value, whereas statements perform an action. Expressions can be embedded within statements to calculate values or make comparisons. Statements, on the other hand, are used to control program flow, modify variables, or interact with the environment.\n",
    "\n",
    "In the example spam = 10, it is a statement that assigns the value 10 to the variable spam. The right side of the assignment (10) is an expression that evaluates to the value 10. The statement itself performs the action of assigning that value to the variable."
   ]
  },
  {
   "cell_type": "markdown",
   "id": "d72498b8-13d4-4255-907f-67cbf04d3eba",
   "metadata": {},
   "source": [
    "## 6. After running the following code, what does the variable bacon contain?\n",
    "bacon = 22<br>\n",
    "bacon + 1<br>"
   ]
  },
  {
   "cell_type": "code",
   "execution_count": 1,
   "id": "5231578c-f566-408d-8c5c-beb1956e27e7",
   "metadata": {},
   "outputs": [
    {
     "data": {
      "text/plain": [
       "23"
      ]
     },
     "execution_count": 1,
     "metadata": {},
     "output_type": "execute_result"
    }
   ],
   "source": [
    "bacon = 22\n",
    "bacon + 1"
   ]
  },
  {
   "cell_type": "code",
   "execution_count": 2,
   "id": "f98a5e2a-c6e6-4e2e-9a78-4efff64d5f84",
   "metadata": {},
   "outputs": [
    {
     "data": {
      "text/plain": [
       "22"
      ]
     },
     "execution_count": 2,
     "metadata": {},
     "output_type": "execute_result"
    }
   ],
   "source": [
    "bacon"
   ]
  },
  {
   "cell_type": "markdown",
   "id": "6c96dc29-5a09-4629-855c-f1bd75a4236a",
   "metadata": {},
   "source": [
    "## Q7. What should the values of the following two terms be?\n",
    "'spam' + 'spamspam'<br>\n",
    "'spam'*3<br>"
   ]
  },
  {
   "cell_type": "code",
   "execution_count": 5,
   "id": "82d4519d-25eb-4f07-8756-91cd20a835ad",
   "metadata": {},
   "outputs": [
    {
     "data": {
      "text/plain": [
       "'spamspamspam'"
      ]
     },
     "execution_count": 5,
     "metadata": {},
     "output_type": "execute_result"
    }
   ],
   "source": [
    "'spam' + 'spamspam'"
   ]
  },
  {
   "cell_type": "code",
   "execution_count": 6,
   "id": "0934d6f4-032c-436f-b50d-4082808edae3",
   "metadata": {},
   "outputs": [
    {
     "data": {
      "text/plain": [
       "'spamspamspam'"
      ]
     },
     "execution_count": 6,
     "metadata": {},
     "output_type": "execute_result"
    }
   ],
   "source": [
    "'spam'*3"
   ]
  },
  {
   "cell_type": "markdown",
   "id": "0644390c-4d84-493c-8694-87b93d47d303",
   "metadata": {},
   "source": [
    "## Q8. Why is eggs a valid variable name while 100 is invalid?"
   ]
  },
  {
   "cell_type": "markdown",
   "id": "3103b662-3d0e-41cc-b8ae-52d3c135b148",
   "metadata": {},
   "source": [
    "`Answer`\n",
    "\n",
    "- `eggs` is a valid variable name because it starts with a letter, doesn't consist solely of reserved keywords, and follows the rules for valid characters in Python variable names.\n",
    "- `100` is not a valid variable name because it starts with a number, which is not allowed, regardless of whether it is a reserved keyword or not."
   ]
  },
  {
   "cell_type": "markdown",
   "id": "87664617-d75c-4a22-be15-382e5fc03943",
   "metadata": {},
   "source": [
    "## Q9. What three functions can be used to get the integer, floating-point number, or string version of a value?"
   ]
  },
  {
   "cell_type": "markdown",
   "id": "c126b265-f325-47fe-a31d-ce0731e60dc7",
   "metadata": {},
   "source": [
    "`Answer`\n",
    "\n",
    "1. `int():` "
   ]
  },
  {
   "cell_type": "code",
   "execution_count": 8,
   "id": "e0041dde-5785-4fa5-9b01-5a90cf288464",
   "metadata": {},
   "outputs": [
    {
     "data": {
      "text/plain": [
       "10"
      ]
     },
     "execution_count": 8,
     "metadata": {},
     "output_type": "execute_result"
    }
   ],
   "source": [
    "int(5.8)   # Output: 5\n",
    "int(\"10\")  # Output: 10"
   ]
  },
  {
   "cell_type": "markdown",
   "id": "e215c283-fefc-4bd4-9a6e-7ab034a8b043",
   "metadata": {},
   "source": [
    "2. `float():`"
   ]
  },
  {
   "cell_type": "code",
   "execution_count": 9,
   "id": "dc1c8f38-6485-4940-ba09-9d7f59af5e02",
   "metadata": {},
   "outputs": [
    {
     "data": {
      "text/plain": [
       "3.14"
      ]
     },
     "execution_count": 9,
     "metadata": {},
     "output_type": "execute_result"
    }
   ],
   "source": [
    "float(10)    # Output: 10.0\n",
    "float(\"3.14\")  # Output: 3.14"
   ]
  },
  {
   "cell_type": "markdown",
   "id": "3789ed92-5fab-47b9-92ca-5d8da8d46c78",
   "metadata": {},
   "source": [
    "3. `str():` "
   ]
  },
  {
   "cell_type": "code",
   "execution_count": 10,
   "id": "3853ed52-11ef-4b9a-a9f3-17c69ad2b61a",
   "metadata": {},
   "outputs": [
    {
     "data": {
      "text/plain": [
       "'3.14'"
      ]
     },
     "execution_count": 10,
     "metadata": {},
     "output_type": "execute_result"
    }
   ],
   "source": [
    "str(42)      # Output: \"42\"\n",
    "str(3.14)    # Output: \"3.14\""
   ]
  },
  {
   "cell_type": "markdown",
   "id": "46f8723e-0545-4ca5-9a1c-d05dca35cfa6",
   "metadata": {},
   "source": [
    "## 10. Why does this expression cause an error? How can you fix it?\n",
    "'I have eaten'+99+'burritos.'"
   ]
  },
  {
   "cell_type": "code",
   "execution_count": 11,
   "id": "754fabb6-9a24-440d-a28a-9bb34fa53a75",
   "metadata": {},
   "outputs": [
    {
     "ename": "TypeError",
     "evalue": "can only concatenate str (not \"int\") to str",
     "output_type": "error",
     "traceback": [
      "\u001b[0;31m---------------------------------------------------------------------------\u001b[0m",
      "\u001b[0;31mTypeError\u001b[0m                                 Traceback (most recent call last)",
      "Cell \u001b[0;32mIn [11], line 1\u001b[0m\n\u001b[0;32m----> 1\u001b[0m \u001b[38;5;124;43m'\u001b[39;49m\u001b[38;5;124;43mI have eaten\u001b[39;49m\u001b[38;5;124;43m'\u001b[39;49m\u001b[38;5;241;43m+\u001b[39;49m\u001b[38;5;241;43m99\u001b[39;49m\u001b[38;5;241m+\u001b[39m\u001b[38;5;124m'\u001b[39m\u001b[38;5;124mburritos.\u001b[39m\u001b[38;5;124m'\u001b[39m\n",
      "\u001b[0;31mTypeError\u001b[0m: can only concatenate str (not \"int\") to str"
     ]
    }
   ],
   "source": [
    "'I have eaten'+99+'burritos.'"
   ]
  },
  {
   "cell_type": "markdown",
   "id": "432acbda-1a39-4050-9cae-418876ca89e1",
   "metadata": {},
   "source": [
    "`Answer`\n",
    "\n",
    "The expression 'I have eaten' + 99 + 'burritos.' causes an error because you are trying to concatenate a string ('I have eaten') with an integer (99) using the + operator. In Python, the + operator is overloaded for concatenating strings, but it does not automatically convert other data types, such as integers, to strings.\n",
    "\n",
    "To fix this error, you need to explicitly convert the integer 99 into a string before concatenating it with the other strings. You can achieve this by using the str() function to convert the integer to a string representation. Here's the corrected version of the expression:"
   ]
  },
  {
   "cell_type": "code",
   "execution_count": 12,
   "id": "c0cfd3c3-3995-4881-9646-c44a314493a6",
   "metadata": {},
   "outputs": [
    {
     "data": {
      "text/plain": [
       "'I have eaten 99 burritos.'"
      ]
     },
     "execution_count": 12,
     "metadata": {},
     "output_type": "execute_result"
    }
   ],
   "source": [
    "'I have eaten ' + str(99) + ' burritos.'"
   ]
  }
 ],
 "metadata": {
  "kernelspec": {
   "display_name": "Python 3 (ipykernel)",
   "language": "python",
   "name": "python3"
  },
  "language_info": {
   "codemirror_mode": {
    "name": "ipython",
    "version": 3
   },
   "file_extension": ".py",
   "mimetype": "text/x-python",
   "name": "python",
   "nbconvert_exporter": "python",
   "pygments_lexer": "ipython3",
   "version": "3.10.6"
  }
 },
 "nbformat": 4,
 "nbformat_minor": 5
}
