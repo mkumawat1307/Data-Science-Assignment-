{
 "cells": [
  {
   "cell_type": "markdown",
   "id": "676da1ea-ec81-412f-bbf8-397a498cd39e",
   "metadata": {},
   "source": [
    "## Q1. What is the role of the 'else' block in a try-except statement? Provide an example scenario where it would be useful."
   ]
  },
  {
   "cell_type": "markdown",
   "id": "0b11ec3d-2864-4376-8fbf-f9c9a1d78efe",
   "metadata": {},
   "source": [
    "`Answer`\n",
    "\n",
    ">a try-except statement, the 'else' block is optional and provides a section of code that is executed only if no exceptions are raised within the 'try' block. when the 'try' block run successfully, without encountering any exceptions, then 'else' block executed. "
   ]
  },
  {
   "cell_type": "code",
   "execution_count": 9,
   "id": "53971637-bb50-4ca4-a97c-c7994484ea3c",
   "metadata": {},
   "outputs": [],
   "source": [
    "def divide_numbers(a, b):\n",
    "    try:\n",
    "        result = a / b\n",
    "    except ZeroDivisionError:\n",
    "        return \"Error: Division by zero\"\n",
    "    else:\n",
    "        print(\"The division was successful.\")\n",
    "        return result"
   ]
  },
  {
   "cell_type": "code",
   "execution_count": 10,
   "id": "34219cb5-a0d6-42a0-9bb5-c91c61c16001",
   "metadata": {},
   "outputs": [
    {
     "name": "stdout",
     "output_type": "stream",
     "text": [
      "The division was successful.\n",
      "0.8333333333333334\n",
      "\n",
      "Error: Division by zero\n"
     ]
    }
   ],
   "source": [
    "print(divide_numbers(5,6))\n",
    "print()\n",
    "print(divide_numbers(5,0))"
   ]
  },
  {
   "cell_type": "markdown",
   "id": "a33c57ab-7f64-4f08-8ef9-8fe1bd64c055",
   "metadata": {},
   "source": [
    "## Q2. Can a try-except block be nested inside another try-except block? Explain with an example."
   ]
  },
  {
   "cell_type": "markdown",
   "id": "888ad86a-ffbb-4f9e-8e28-061bbf7e6550",
   "metadata": {},
   "source": [
    "`Answer`\n",
    "\n",
    ">Yes, a try-except block can be nested inside another try-except block"
   ]
  },
  {
   "cell_type": "code",
   "execution_count": 23,
   "id": "becaabfc-9fdf-4cff-866d-c909c70df265",
   "metadata": {},
   "outputs": [
    {
     "name": "stdout",
     "output_type": "stream",
     "text": [
      "The division was successful in else block.\n",
      "operation complete\n",
      "5.0\n",
      "\n",
      "operation complete\n",
      "Error: Division by zero is not allowed!\n",
      "\n",
      "operation complete\n",
      "Error: Invalid operand types!\n"
     ]
    }
   ],
   "source": [
    "def divide_numbers(a, b):\n",
    "    try:\n",
    "        try:\n",
    "            result = a / b\n",
    "        except ZeroDivisionError:\n",
    "            return \"Error: Division by zero is not allowed!\"\n",
    "    except TypeError:\n",
    "        return \"Error: Invalid operand types!\"\n",
    "    else:\n",
    "        print(\"The division was successful in else block.\")\n",
    "        return result\n",
    "    finally:\n",
    "        print(\"operation complete\")\n",
    "        \n",
    "\n",
    "print(divide_numbers(10, 2))\n",
    "print()\n",
    "print(divide_numbers(10, 0))\n",
    "print()\n",
    "print(divide_numbers(10, \"2\"))"
   ]
  },
  {
   "cell_type": "markdown",
   "id": "eec9a0bf-050f-4fd5-a1d8-3958f0a66ffd",
   "metadata": {},
   "source": [
    "## Q3. How can you create a custom exception class in Python? Provide an example that demonstrates its usage."
   ]
  },
  {
   "cell_type": "code",
   "execution_count": 62,
   "id": "a04d7f38-3205-4435-8fa4-8fb5a5131ca4",
   "metadata": {},
   "outputs": [
    {
     "name": "stdout",
     "output_type": "stream",
     "text": [
      "5.0\n",
      "\n",
      "Error: Division by zero\n",
      "Error: You Enter string value\n"
     ]
    }
   ],
   "source": [
    "class MyException(Exception):\n",
    "    pass\n",
    "\n",
    "def divide_numbers(a, b):\n",
    "    if b == 0:\n",
    "        raise MyException(\"Error: Division by zero\")\n",
    "    elif isinstance(a, str) or isinstance(b, str):\n",
    "        raise MyException(\"Error: You Enter string value\")\n",
    "    return a / b\n",
    "\n",
    "try:\n",
    "    print(divide_numbers(10, 2))\n",
    "    print()\n",
    "    print(divide_numbers(10, 0))\n",
    "    print()\n",
    "except MyException as e:\n",
    "    print(e)\n",
    "try:\n",
    "    print(divide_numbers(10, \"a\"))\n",
    "except MyException as e:\n",
    "    print(e)"
   ]
  },
  {
   "cell_type": "markdown",
   "id": "1fd19325-4590-43ef-baeb-13a6645d967f",
   "metadata": {},
   "source": [
    "## Q4. What are some common exceptions that are built-in to Python?"
   ]
  },
  {
   "cell_type": "markdown",
   "id": "feb6c1ad-900b-4fa2-96c1-ba346a157491",
   "metadata": {},
   "source": [
    "`Answer`\n",
    "\n",
    "1. `Exception`: The base class for all built-in exceptions.\n",
    "2. `SyntaxError`: Raised when a syntax error is encountered.\n",
    "3. `TypeError`: Raised when an operation or function is applied to an object of an inappropriate type.\n",
    "4. `NameError`: Raised when a local or global name is not found.\n",
    "5. `IndexError`: Raised when a sequence subscript is out of range.\n",
    "6. `KeyError`: Raised when a dictionary key is not found.\n",
    "7. `ValueError`: Raised when a function receives an argument of the correct type but an inappropriate value.\n",
    "8. `ZeroDivisionError`: Raised when division or modulo operation is performed with zero as the divisor.\n",
    "9. `FileNotFoundError`: Raised when a file or directory is requested but cannot be found.\n",
    "10. `IOError`: Raised when an input/output operation fails.\n",
    "11. `ImportError`: Raised when an import statement fails to find the requested module.\n",
    "12. `AttributeError`: Raised when an attribute reference or assignment fails.\n",
    "13. `KeyboardInterrupt`: Raised when the user interrupts the execution, typically by pressing Ctrl+C."
   ]
  },
  {
   "cell_type": "markdown",
   "id": "f417d21d-1664-4ad6-8acb-c5efd607c03c",
   "metadata": {},
   "source": [
    "## Q5. What is logging in Python, and why is it important in software development?"
   ]
  },
  {
   "cell_type": "markdown",
   "id": "b13c0bd3-4ee2-4fa8-a1e7-2368593931f9",
   "metadata": {},
   "source": [
    "`Answer`\n",
    "\n",
    ">Python has a built-in module logging which allows writing status messages to a file or any other output streams. The file can contain the information on which part of the code is executed and what problems have been arisen.\n",
    "\n",
    "\n",
    "`logging importance in software development`\n",
    ">logging is a fundamental aspect of software development that helps improve code quality, detect and fix issues, monitor application behavior, and ensure the smooth operation of your software throughout its lifecycle."
   ]
  },
  {
   "cell_type": "markdown",
   "id": "e253d992-f9bc-4e83-aed5-4739dc485082",
   "metadata": {},
   "source": [
    "## Q6. Explain the purpose of log levels in Python logging and provide examples of when each log level would be appropriate."
   ]
  },
  {
   "cell_type": "markdown",
   "id": "15d150a6-ee13-4366-bd0a-3cd550c11254",
   "metadata": {},
   "source": [
    "`Answer`\n",
    "<br>\n",
    "<br>\n",
    "`Levels of Log Message`:-\n",
    ">There are five built-in levels of the log message.\n",
    ">- `Debug` : These are used to give Detailed information, typically of interest only when diagnosing problems.\n",
    ">- `Info` : These are used to confirm that things are working as expected\n",
    ">- `Warning` : These are used an indication that something unexpected happened, or is indicative of some problem in the near future\n",
    ">- `Error` : This tells that due to a more serious problem, the software has not been able to perform some function\n",
    ">- `Critical` : This tells serious error, indicating that the program itself may be unable to continue running"
   ]
  },
  {
   "cell_type": "markdown",
   "id": "8e643aab-1456-41f9-bbab-1dacd8a616ac",
   "metadata": {},
   "source": [
    "1. `DEBUG`: This is the lowest log level and is used for detailed information useful for debugging and development purposes."
   ]
  },
  {
   "cell_type": "code",
   "execution_count": 63,
   "id": "a18eaf2c-a3b4-45bd-8450-abc59c022fd2",
   "metadata": {},
   "outputs": [
    {
     "name": "stderr",
     "output_type": "stream",
     "text": [
      "DEBUG:root:This is a debug message.\n"
     ]
    }
   ],
   "source": [
    "import logging\n",
    "\n",
    "logging.basicConfig(level=logging.DEBUG)\n",
    "logging.debug(\"This is a debug message.\")"
   ]
  },
  {
   "cell_type": "markdown",
   "id": "ad817010-300b-42b7-a82c-7709338cd48a",
   "metadata": {},
   "source": [
    "2. `INFO`: This level is used for general information about the program's execution. It provides confirmation that certain events or processes have occurred successfully. INFO-level logs are often used to keep track of the application's progress."
   ]
  },
  {
   "cell_type": "code",
   "execution_count": 64,
   "id": "078922d5-8655-4d64-80e9-922907f5209e",
   "metadata": {},
   "outputs": [
    {
     "name": "stderr",
     "output_type": "stream",
     "text": [
      "INFO:root:The process has started successfully.\n"
     ]
    }
   ],
   "source": [
    "import logging\n",
    "\n",
    "logging.basicConfig(level=logging.INFO)\n",
    "logging.info(\"The process has started successfully.\")"
   ]
  },
  {
   "cell_type": "markdown",
   "id": "67e2cd9c-fe46-4781-beaf-4db54f87eca3",
   "metadata": {},
   "source": [
    "3. `WARNING`: This level is used to indicate potential issues or unexpected situations that do not prevent the program from running but should be noted. Warnings are usually used to flag conditions that may cause problems or lead to errors in the future."
   ]
  },
  {
   "cell_type": "code",
   "execution_count": 66,
   "id": "9ce321e2-c588-4e93-b1e8-e29f628d8e14",
   "metadata": {},
   "outputs": [
    {
     "name": "stderr",
     "output_type": "stream",
     "text": [
      "WARNING:root:The resource usage is approaching its limit.\n"
     ]
    }
   ],
   "source": [
    "import logging\n",
    "\n",
    "logging.basicConfig(level=logging.WARNING)\n",
    "logging.warning(\"The resource usage is approaching its limit.\")"
   ]
  },
  {
   "cell_type": "markdown",
   "id": "932df8e7-51f8-4824-85dd-8d789da11d6e",
   "metadata": {},
   "source": [
    "4. `ERROR`: This level is used to indicate error conditions that prevent the program from executing a particular function or completing a task. Errors signify more severe issues that require attention and often lead to exceptions being raised"
   ]
  },
  {
   "cell_type": "code",
   "execution_count": 67,
   "id": "6dab106f-2953-4736-9d7e-a56da1bba278",
   "metadata": {},
   "outputs": [
    {
     "name": "stderr",
     "output_type": "stream",
     "text": [
      "ERROR:root:An error occurred while processing the data.\n"
     ]
    }
   ],
   "source": [
    "import logging\n",
    "\n",
    "logging.basicConfig(level=logging.ERROR)\n",
    "logging.error(\"An error occurred while processing the data.\")"
   ]
  },
  {
   "cell_type": "markdown",
   "id": "0c4c26b4-29eb-4c36-9857-15ad2fb3c832",
   "metadata": {},
   "source": [
    "5. `CRITICAL`: This is the highest log level and is used for critical errors that may result in the termination of the program or significant failures in the system. Critical logs indicate severe problems that require immediate attention."
   ]
  },
  {
   "cell_type": "code",
   "execution_count": 68,
   "id": "ad44b52c-6905-4112-a0da-e9de00cc922a",
   "metadata": {},
   "outputs": [
    {
     "name": "stderr",
     "output_type": "stream",
     "text": [
      "CRITICAL:root:A critical error has occurred. Terminating the program.\n"
     ]
    }
   ],
   "source": [
    "import logging\n",
    "\n",
    "logging.basicConfig(level=logging.CRITICAL)\n",
    "logging.critical(\"A critical error has occurred. Terminating the program.\")"
   ]
  },
  {
   "cell_type": "markdown",
   "id": "be7c5b68-64bf-4f27-a7fa-5c1f85d2e6c4",
   "metadata": {},
   "source": [
    "## Q7. What are log formatters in Python logging, and how can you customise the log message format using formatters?"
   ]
  },
  {
   "cell_type": "markdown",
   "id": "47377495-9a7b-4bad-9c59-0a0b25bac583",
   "metadata": {},
   "source": [
    "`Answer`\n",
    ">The handlers use logging. Formatter objects to format a log record into a string-based log entry. A formatter works by combining the fields/data in a log record with the user-specified format string.\n",
    "\n",
    "Formatter objects are used by the Python logging handlers to enhance the information available through LogRecord attributes. Python Standard Library provides logging.Formatter() function that takes string entries as a single parameter.\n",
    "\n",
    "exampleFormatter = logging.Formatter('%(asctime)s - %(name)s - %(levelname)s - %(message)s')\n",
    "\n",
    "- %(asctime)s - attribute represents the time the log message was generated\n",
    "- %(name)s - attribute represents the name of the logger object\n",
    "- %(levelname)s - attribute represents the severity level of the log message\n",
    "- %(message)s - attribute represents the log message.\n",
    "\n"
   ]
  },
  {
   "cell_type": "markdown",
   "id": "a347cdae-8240-4fa9-99c9-71b68c705b91",
   "metadata": {},
   "source": [
    "## Q8. How can you set up logging to capture log messages from multiple modules or classes in a Python application?"
   ]
  },
  {
   "cell_type": "markdown",
   "id": "0e82b9c3-25aa-42c3-9484-0ca8b0e9a00f",
   "metadata": {},
   "source": [
    "`Answer`\n",
    "\n",
    "To capture log messages from multiple modules or classes in a Python application, we can set up a logging configuration that allows for centralized logging across the entire application. Here's a step-by-step approach to achieving this:\n",
    "\n",
    "- Step 1: Create a Logger:"
   ]
  },
  {
   "cell_type": "code",
   "execution_count": 76,
   "id": "905f1cc3-27b0-4d6b-a556-da9fa40c5f7a",
   "metadata": {},
   "outputs": [],
   "source": [
    "logger = logging.getLogger()"
   ]
  },
  {
   "cell_type": "markdown",
   "id": "d5bd7c91-b14d-458c-a118-71b10964ae43",
   "metadata": {},
   "source": [
    "- Step 2: Set the Level:"
   ]
  },
  {
   "cell_type": "code",
   "execution_count": 77,
   "id": "85154cd4-0e5c-4437-9007-324ced46ed1f",
   "metadata": {},
   "outputs": [],
   "source": [
    "logger.setLevel(logging.DEBUG)"
   ]
  },
  {
   "cell_type": "markdown",
   "id": "091cf2fe-c08a-4747-8e6b-337742a87af3",
   "metadata": {},
   "source": [
    "- Step 3: Create a FileHandler instance to write logs to a file"
   ]
  },
  {
   "cell_type": "code",
   "execution_count": 78,
   "id": "dbcfdf0d-d36f-4b3d-97df-bd1a0960b293",
   "metadata": {},
   "outputs": [],
   "source": [
    "handler = logging.FileHandler(\"logging.log\")"
   ]
  },
  {
   "cell_type": "markdown",
   "id": "0220c4bf-0d64-453b-95c5-a1a041c8dd3a",
   "metadata": {},
   "source": [
    "- Step 4:  Create and Set a Formatter"
   ]
  },
  {
   "cell_type": "code",
   "execution_count": 79,
   "id": "b346063d-8141-458b-84d1-e5aef4ca5a37",
   "metadata": {},
   "outputs": [],
   "source": [
    "formatter = logging.Formatter('%(asctime)s:%(levelname)s:%(message)s')\n",
    "handler.setFormatter(formatter)"
   ]
  },
  {
   "cell_type": "markdown",
   "id": "7de2b61b-cc4e-438c-b447-8d52fe85b388",
   "metadata": {},
   "source": [
    "- Step 5: Add the handler to the logger"
   ]
  },
  {
   "cell_type": "code",
   "execution_count": 80,
   "id": "f265917d-fea4-4747-aae5-081c489443b8",
   "metadata": {},
   "outputs": [],
   "source": [
    "logger.addHandler(handler)"
   ]
  },
  {
   "cell_type": "markdown",
   "id": "0249c3d7-d7c7-4efb-8a21-e0f2a08eefd4",
   "metadata": {},
   "source": [
    "- Step 6: Write the Log Messages"
   ]
  },
  {
   "cell_type": "code",
   "execution_count": 81,
   "id": "2d32d9ba-6fd9-4442-a26c-834bc835dc27",
   "metadata": {},
   "outputs": [
    {
     "name": "stderr",
     "output_type": "stream",
     "text": [
      "DEBUG:root:write your message\n"
     ]
    }
   ],
   "source": [
    "logger.debug('write your message')"
   ]
  },
  {
   "cell_type": "code",
   "execution_count": 95,
   "id": "986e728a-ca3d-45c8-ad0e-d0ab4ee348b9",
   "metadata": {},
   "outputs": [
    {
     "name": "stderr",
     "output_type": "stream",
     "text": [
      "DEBUG:root:division error: 0\n"
     ]
    },
    {
     "name": "stdout",
     "output_type": "stream",
     "text": [
      "you cannot divide by 0\n"
     ]
    }
   ],
   "source": [
    "class DivisionError(Exception):\n",
    "    pass\n",
    "\n",
    "def division(a, b):\n",
    "    if b==0:\n",
    "        logging.debug('division error: %s', b)\n",
    "        raise DivisionError(\"you cannot divide by 0\")\n",
    "    else:\n",
    "        result = a/b\n",
    "        logging.info('division successful: %s', result)\n",
    "        return result\n",
    "\n",
    "try:\n",
    "    print(division(4,0))\n",
    "except DivisionError as e:\n",
    "    print(e)\n",
    "finally:\n",
    "    handler.close()"
   ]
  },
  {
   "cell_type": "markdown",
   "id": "4d76e4db-a74e-41f2-833d-c71f3072e8eb",
   "metadata": {},
   "source": [
    "## Q9. What is the difference between the logging and print statements in Python? When should you use logging over print statements in a real-world application?"
   ]
  },
  {
   "cell_type": "markdown",
   "id": "6b5ad5b3-4340-4746-acc3-ddfa09e78902",
   "metadata": {},
   "source": [
    "`Answer`\n",
    "\n",
    "- difference between the logging and print statements:-\n",
    "|Logging in Python|Print in Python|\n",
    "|-----------------|---------------|\n",
    "|Record events and errors that occur during the execution of Python programs.|Displays the information to the console for the debugging purposes.|\n",
    "|Mainly used in the production environment.|Mainly for debugging.|\n",
    "|Some features are: Log levels, filtering, formatting, and more.|There are no good features|\n",
    "|It provides different log levels such as Debug, Info, Error, Warning, and Critical.|It does not have any levels, it simply prints whatever is passed to it.|\n",
    "    \n",
    "- print statements can be useful for quick and temporary debugging during development, logging is more suitable for long-term maintenance, production environments, and larger-scale applications. It provides a comprehensive and controlled approach to capturing, managing, and analyzing output, facilitating better understanding, debugging, and support of the application."
   ]
  },
  {
   "cell_type": "markdown",
   "id": "8b74b3c6-4c2b-4165-ace7-afa00e7e66ae",
   "metadata": {},
   "source": [
    "## Q10. Write a Python program that logs a message to a file named \"app.log\" with the following requirements:\n",
    "    ● The log message should be \"Hello, World!\"\n",
    "    ● The log level should be set to \"INFO.\"\n",
    "    ● The log file should append new log entries without overwriting previous ones."
   ]
  },
  {
   "cell_type": "code",
   "execution_count": 107,
   "id": "74e5ab3d-3062-4a8f-b219-f358cfc4bc8e",
   "metadata": {},
   "outputs": [
    {
     "name": "stderr",
     "output_type": "stream",
     "text": [
      "INFO:root:Hello, World!\n"
     ]
    }
   ],
   "source": [
    "import logging\n",
    "\n",
    "logger = logging.getLogger()\n",
    "logger.setLevel(logging.INFO)\n",
    "\n",
    "handler=logging.FileHandler('app.log', 'a')\n",
    "\n",
    "formatter = logging.Formatter('%(asctime)s | %(levelname)s | %(message)s')\n",
    "handler.setFormatter(formatter)\n",
    "\n",
    "logger.addHandler(handler)\n",
    "\n",
    "logger.info(\"Hello, World!\")\n",
    "handler.close()"
   ]
  },
  {
   "cell_type": "markdown",
   "id": "22160dee-cab4-4931-8b89-a4fca1620c92",
   "metadata": {},
   "source": [
    "## Q11. Create a Python program that logs an error message to the console and a file named \"errors.log\" if an exception occurs during the program's execution. The error message should include the exception type and a timestamp."
   ]
  },
  {
   "cell_type": "code",
   "execution_count": 110,
   "id": "2bf8d210-6827-4138-ac84-3fda8d9282cb",
   "metadata": {},
   "outputs": [],
   "source": [
    "import logging\n",
    "\n",
    "logger = logging.getLogger()\n",
    "logger.setLevel(logging.INFO)\n",
    "\n",
    "handler=logging.FileHandler('errors.log', 'w')\n",
    "\n",
    "formatter = logging.Formatter('%(asctime)s | %(levelname)s | %(message)s')\n",
    "handler.setFormatter(formatter)\n",
    "\n",
    "logger.addHandler(handler)"
   ]
  },
  {
   "cell_type": "code",
   "execution_count": 119,
   "id": "79902df4-0693-4bbd-a420-f087c1437cbd",
   "metadata": {},
   "outputs": [
    {
     "name": "stderr",
     "output_type": "stream",
     "text": [
      "ERROR:root:2023-06-23 08:42:19.162489 | ValueError, This is a ValueError\n"
     ]
    }
   ],
   "source": [
    "import datetime\n",
    "try:\n",
    "    raise ValueError(\"This is a ValueError\")\n",
    "except Exception as e:\n",
    "    logging.error(f\"{datetime.datetime.now()} | {type(e).__name__}, {e}\")"
   ]
  },
  {
   "cell_type": "code",
   "execution_count": null,
   "id": "eae15434-71e7-4c79-8305-6e2451641b7a",
   "metadata": {},
   "outputs": [],
   "source": []
  }
 ],
 "metadata": {
  "kernelspec": {
   "display_name": "Python 3 (ipykernel)",
   "language": "python",
   "name": "python3"
  },
  "language_info": {
   "codemirror_mode": {
    "name": "ipython",
    "version": 3
   },
   "file_extension": ".py",
   "mimetype": "text/x-python",
   "name": "python",
   "nbconvert_exporter": "python",
   "pygments_lexer": "ipython3",
   "version": "3.10.6"
  }
 },
 "nbformat": 4,
 "nbformat_minor": 5
}
