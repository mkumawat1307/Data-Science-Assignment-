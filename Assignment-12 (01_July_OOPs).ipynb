{
 "cells": [
  {
   "cell_type": "markdown",
   "id": "92e9bb6f-b741-49df-a9de-917b61bf5026",
   "metadata": {},
   "source": [
    "## Q1. What is the primary goal of Object-Oriented Programming (OOP)?"
   ]
  },
  {
   "cell_type": "markdown",
   "id": "1cc6bff9-d107-438f-ac69-dad6e402af14",
   "metadata": {},
   "source": [
    "`ANswer`\n",
    "\n",
    "> The three goals of Object Oriented Programming are Robustness, Adaptability, and Reusability.\n",
    "> 1. Robustness :- we want the software to be robust, that is, capable of handling unexpected inputs that are not explicitly defined for its application.\n",
    "> 2. Adaptability :- Modern software projects, such as word processors, web browsers, and Internet Search engines, typically involve large programs that are expected to last for many years. Therefore, software needs to evolve over time in response to changing conditions in its environment.\n",
    "> 3. Reusability :- code should be usable as a component of different systems in various applications. Developing quality software can be an expensive enterprise, and its cost can be offset somewhat if the software is designed in a way that makes it easily reusable in future applications."
   ]
  },
  {
   "cell_type": "markdown",
   "id": "73b6848b-5fd4-43ea-aae0-1becc562f4f5",
   "metadata": {},
   "source": [
    "## Q2. What is an object in Python?"
   ]
  },
  {
   "cell_type": "markdown",
   "id": "b36a5798-56a0-4596-ac35-4034b9181097",
   "metadata": {},
   "source": [
    "`Answer`\n",
    "\n",
    "> An Object is an instance of a Class. A class is like a blueprint while an instance is a copy of the class with actual values. Python is an object-oriented programming language that stresses objects i.e. it mainly emphasizes functions. Python Objects are basically an encapsulation of data variables and methods acting on that data into a single entity.\n",
    "\n",
    ">In Python, almost everything is an object. Built-in types like integers, floats, strings, lists, and dictionaries are objects. Additionally, you can create your own custom objects by defining classes."
   ]
  },
  {
   "cell_type": "markdown",
   "id": "55fbc1cc-0b83-4a99-bd01-57b0ff7586a2",
   "metadata": {},
   "source": [
    "## Q3. What is a class in Python?"
   ]
  },
  {
   "cell_type": "markdown",
   "id": "686b189d-1edb-4f69-a5a7-bdcc16e99f80",
   "metadata": {},
   "source": [
    "`Answer`\n",
    "\n",
    ">  a class is a blueprint or a template that defines the structure and behavior of objects. It is a way to create user-defined data types that encapsulate data (attributes) and functions (methods) that operate on that data.\n",
    "\n",
    "> A class acts as a blueprint for creating multiple objects of the same type, each having its own unique identity and state. It defines the attributes and methods that the objects of that class will possess."
   ]
  },
  {
   "cell_type": "markdown",
   "id": "2bbccc96-9202-4b48-ac62-e5f0b211dbcd",
   "metadata": {},
   "source": [
    "## Q4. What are attributes and methods in a class?"
   ]
  },
  {
   "cell_type": "markdown",
   "id": "58754478-c63a-40b9-a30a-1737a598929e",
   "metadata": {},
   "source": [
    "`Answer`\n",
    "\n",
    "> attributes and methods are the two main components that define the structure and behavior of objects.\n",
    "> 1. Attributes: Attributes are variables that hold data and represent the state of an object. They store information that is specific to each instance of the class. Attributes can be thought of as the characteristics or properties of an object.\n",
    "> 2. Methods: Methods are functions defined within a class that define the behavior or actions that an object can perform. They operate on the object's attributes and can interact with other objects or modify the object's state."
   ]
  },
  {
   "cell_type": "markdown",
   "id": "3293f7b4-628d-44ec-a3dd-04dd59309f7b",
   "metadata": {},
   "source": [
    "## Q5. What is the difference between class variables and instance variables in Python?"
   ]
  },
  {
   "cell_type": "markdown",
   "id": "e142aa79-307f-4043-b8c4-c615b565f810",
   "metadata": {},
   "source": [
    "`Answer`\n",
    "\n",
    "> 1. Class Variables: Class variables are variables that are shared among all instances (objects) of a class. They are defined within the class but outside any method. Class variables have the same value for every object of the class.\n",
    "> 2. Instance variables: Instance variables are unique to each instance (object) of a class. They are defined within the class's methods, especially in the special method called __init__() which is used to initialize instance variables. Each object of the class has its own copy of instance variables."
   ]
  },
  {
   "cell_type": "markdown",
   "id": "7ddf8873-7990-4a31-b418-f1761052ba28",
   "metadata": {},
   "source": [
    "## Q6. What is the purpose of the self parameter in Python class methods?"
   ]
  },
  {
   "cell_type": "markdown",
   "id": "d1280e1b-8004-4d12-bd72-38b31ef2b23f",
   "metadata": {},
   "source": [
    "`Answer`\n",
    "\n",
    "> The self parameter is a reference to the current instance of the class, and is used to access variables that belongs to the class.\n",
    "\n",
    "> It does not have to be named self , you can call it whatever you like, but it has to be the first parameter of any function in the class"
   ]
  },
  {
   "cell_type": "markdown",
   "id": "a4deeb25-6959-4b3e-a94b-6ad5c68f4156",
   "metadata": {},
   "source": [
    "## Q7. For a library management system, you have to design the \"Book\" class with OOP principles in mind. \n",
    "## The “Book” class will have following attributes:\n",
    "    a. title: Represents the title of the book.\n",
    "    b. author: Represents the author(s) of the book.\n",
    "    c. isbn: Represents the ISBN (International Standard Book Number) of the book.\n",
    "    d. publication_year: Represents the year of publication of the book.\n",
    "    e. available_copies: Represents the number of copies available for checkout.\n",
    "    \n",
    "## The class will also include the following methods:\n",
    "    a. check_out(self): Decrements the available copies by one if there are copies available for checkout.\n",
    "    b. return_book(self): Increments the available copies by one when a book is returned.\n",
    "    c. display_book_info(self): Displays the information about the book, including its attributes and the number of available copies."
   ]
  },
  {
   "cell_type": "code",
   "execution_count": 86,
   "id": "af3778dd-e39f-46ab-99e6-ac86d48b8ec9",
   "metadata": {},
   "outputs": [],
   "source": [
    "# Define a class called 'Book' \n",
    "class Book:\n",
    "    \"\"\"\n",
    "    This class represents a book in a library management system.\n",
    "    \n",
    "    Attributes:\n",
    "    - title: Represents the title of the book.\n",
    "    - author: Represents the author(s) of the book.\n",
    "    - isbn: Represents the ISBN (International Standard Book Number) of the book.\n",
    "    - publication_year: Represents the year of publication of the book.\n",
    "    - available_copies: Represents the number of copies available for checkout.\n",
    "    \"\"\"\n",
    "    def __init__(self, title, author, isbn, publication_year, available_copies):\n",
    "        # Instance attribute\n",
    "        self.title = title \n",
    "        self.author = author \n",
    "        self.isbn = isbn \n",
    "        self.publication_year = publication_year \n",
    "        self.available_copies = available_copies \n",
    "    \n",
    "    # defined a class method(check out) that is store checking out book details\n",
    "    def check_out(self):\n",
    "        \"\"\"\n",
    "         Decrements the available copies by one if there are copies available for checkout.\n",
    "        \"\"\"\n",
    "        if self.available_copies > 0:\n",
    "            self.available_copies -= 1\n",
    "            print(f\"Book '{self.title}' checked out successfully.\")\n",
    "        else:\n",
    "            print(f\"Book '{self.title}' is currently not available.\")\n",
    "            \n",
    "    # defined a class method(return book) that is store returned book details\n",
    "    def return_book(self): \n",
    "        \"\"\"\n",
    "        Increments the available copies by one when a book is returned.\n",
    "        \"\"\"\n",
    "        self.available_copies += 1\n",
    "        print(f\"Book '{self.title}' returned successfully.\")\n",
    "        \n",
    "    # defined a class method(display book info) that is displaying book information\n",
    "    def display_book_info(self): \n",
    "        \"\"\"\n",
    "        Displays the information about the book, including its attributes and the number of available copies.\n",
    "        \"\"\"\n",
    "        print(\"Book Information:\")\n",
    "        print()\n",
    "        print(f\"Title: {self.title}\")\n",
    "        print(f\"Author(s): {self.author}\")\n",
    "        print(f\"ISBN (International Standard Book Number): {self.isbn}\")\n",
    "        print(f\"Publication Year: {self.publication_year}\")\n",
    "        print(f\"Available Copies: {self.available_copies}\")\n",
    "            "
   ]
  },
  {
   "cell_type": "code",
   "execution_count": 87,
   "id": "81fad09c-400c-4a8b-be3f-4005732dc78c",
   "metadata": {},
   "outputs": [],
   "source": [
    "# Creating an instance of the Book class\n",
    "book1 = Book(\" One Piece\", \"Eiichiro Oda\", \"9780743273565\",  1997, 50)"
   ]
  },
  {
   "cell_type": "code",
   "execution_count": 88,
   "id": "22330d28-d187-4888-aba9-f80291a7ecec",
   "metadata": {},
   "outputs": [
    {
     "name": "stdout",
     "output_type": "stream",
     "text": [
      "Book ' One Piece' checked out successfully.\n"
     ]
    }
   ],
   "source": [
    "# Checking out a book\n",
    "book1.check_out()"
   ]
  },
  {
   "cell_type": "code",
   "execution_count": 89,
   "id": "7e2e7414-213c-4ea3-9f08-fa6635577e41",
   "metadata": {},
   "outputs": [
    {
     "name": "stdout",
     "output_type": "stream",
     "text": [
      "Book ' One Piece' returned successfully.\n"
     ]
    }
   ],
   "source": [
    "# Returning a book\n",
    "book1.return_book()"
   ]
  },
  {
   "cell_type": "code",
   "execution_count": 90,
   "id": "ba4c4e3f-04c7-4ee0-8f54-0e042ebb63e2",
   "metadata": {},
   "outputs": [
    {
     "name": "stdout",
     "output_type": "stream",
     "text": [
      "Book Information:\n",
      "\n",
      "Title:  One Piece\n",
      "Author(s): Eiichiro Oda\n",
      "ISBN (International Standard Book Number): 9780743273565\n",
      "Publication Year: 1997\n",
      "Available Copies: 50\n"
     ]
    }
   ],
   "source": [
    "# Displaying book information\n",
    "book1.display_book_info()"
   ]
  },
  {
   "cell_type": "markdown",
   "id": "627b6fde-e4bf-4de7-aea2-ff985f4b4daf",
   "metadata": {},
   "source": [
    "## Q8. For a ticket booking system, you have to design the \"Ticket\" class with OOP principles in mind. \n",
    "## The “Ticket” class should have the following attributes:\n",
    "    a. ticket_id: Represents the unique identifier for the ticket.\n",
    "    b. event_name: Represents the name of the event.\n",
    "    c. event_date: Represents the date of the event.\n",
    "    d. venue: Represents the venue of the event.\n",
    "    e. seat_number: Represents the seat number associated with the ticket.\n",
    "    f. price: Represents the price of the ticket.\n",
    "    g. is_reserved: Represents the reservation status of the ticket.\n",
    "## The class also includes the following methods:\n",
    "    a. reserve_ticket(self): Marks the ticket as reserved if it is not already reserved.\n",
    "    b. cancel_reservation(self): Cancels the reservation of the ticket if it is already reserved.\n",
    "    c. display_ticket_info(self): Displays the information about the ticket, including its attributes and reservation status."
   ]
  },
  {
   "cell_type": "code",
   "execution_count": 91,
   "id": "9069eb08-8e85-4d1f-b265-4add6b30d15c",
   "metadata": {},
   "outputs": [],
   "source": [
    "# Define a class called 'Ticket' \n",
    "class Ticket:\n",
    "    def __init__(self, ticket_id, event_name, event_date, venue, seat_number, price):\n",
    "        \"\"\"\n",
    "         Initialize a Ticket object with the provided attributes.\n",
    "    \n",
    "         Attributes:\n",
    "           - ticket_id: Unique identifier for the ticket.\n",
    "           - event_name: Name of the event.\n",
    "           - event_date: Date of the event.\n",
    "           - venue: Venue of the event.\n",
    "           - seat_number: Seat number associated with the ticket.\n",
    "           - price: Price of the ticket.\n",
    "        \"\"\"\n",
    "        self.ticket_id = ticket_id\n",
    "        self.event_name = event_name\n",
    "        self.event_date = event_date\n",
    "        self.venue = venue\n",
    "        self.seat_number = seat_number\n",
    "        self.price = price\n",
    "        self.is_reserved = False\n",
    "        \n",
    "    def reserve_ticket(self):\n",
    "        \"\"\"\n",
    "        Marks the ticket as reserved if it is not already reserved.\n",
    "        \"\"\"\n",
    "        if not self.is_reserved:\n",
    "            self.is_reserved = True\n",
    "            print(\"Ticket reserved successfully.\")\n",
    "        else:\n",
    "            print(\"Ticket is already reserved.\")\n",
    "            \n",
    "    def cancel_reservation(self):\n",
    "        \"\"\"\n",
    "        Cancels the reservation of the ticket if it is already reserved.\n",
    "        \"\"\"\n",
    "        if self.is_reserved:\n",
    "            self.is_reserved = False\n",
    "            print(\"Reservation canceled successfully.\")\n",
    "        else:\n",
    "            print(\"Ticket is not reserved.\")\n",
    "            \n",
    "    def display_ticket_info(self):\n",
    "        \"\"\"\n",
    "        Displays the information about the ticket, including its attributes and reservation status.\n",
    "        \"\"\"\n",
    "        print(\"Ticket Information:\")\n",
    "        print()\n",
    "        print(f\"Ticket ID: {self.ticket_id}\")\n",
    "        print(f\"Event Name: {self.event_name}\")\n",
    "        print(f\"Event Date: {self.event_date}\")\n",
    "        print(f\"Venue: {self.venue}\")\n",
    "        print(f\"Seat Number: {self.seat_number}\")\n",
    "        print(f\"Price: {self.price}\")\n",
    "        print(f\"Reservation Status: {'Reserved' if self.is_reserved else 'Not Reserved'}\")    "
   ]
  },
  {
   "cell_type": "code",
   "execution_count": 92,
   "id": "01bf6a91-0de9-49ff-a812-ea6a46f45ebc",
   "metadata": {},
   "outputs": [],
   "source": [
    "# Creating an instance of the Ticket class\n",
    "ticket1 = Ticket(\"T420\", \"event1\", \"2023-07-13\", \"Main-Hall\", \"A1\", \"₹800.0\")"
   ]
  },
  {
   "cell_type": "code",
   "execution_count": 93,
   "id": "9857964e-70b4-44d8-987e-7475b3051272",
   "metadata": {},
   "outputs": [
    {
     "name": "stdout",
     "output_type": "stream",
     "text": [
      "Ticket reserved successfully.\n"
     ]
    }
   ],
   "source": [
    "# Reserving a ticket\n",
    "ticket1.reserve_ticket()"
   ]
  },
  {
   "cell_type": "code",
   "execution_count": 94,
   "id": "6b50b9bb-6520-42c1-8d61-22690c09a421",
   "metadata": {},
   "outputs": [
    {
     "name": "stdout",
     "output_type": "stream",
     "text": [
      "Reservation canceled successfully.\n"
     ]
    }
   ],
   "source": [
    "# Canceling a reservation\n",
    "ticket1.cancel_reservation()"
   ]
  },
  {
   "cell_type": "code",
   "execution_count": 95,
   "id": "3feff082-ddca-4a08-9333-ed6687970485",
   "metadata": {},
   "outputs": [
    {
     "name": "stdout",
     "output_type": "stream",
     "text": [
      "Ticket Information:\n",
      "\n",
      "Ticket ID: T420\n",
      "Event Name: event1\n",
      "Event Date: 2023-07-13\n",
      "Venue: Main-Hall\n",
      "Seat Number: A1\n",
      "Price: ₹800.0\n",
      "Reservation Status: Not Reserved\n"
     ]
    }
   ],
   "source": [
    "# Displaying ticket information\n",
    "ticket1.display_ticket_info()"
   ]
  },
  {
   "cell_type": "markdown",
   "id": "3c1aac98-074d-4209-a92a-dc27c5aea59a",
   "metadata": {},
   "source": [
    "## Q9. You are creating a shopping cart for an e-commerce website. Using OOP to model the \"ShoppingCart\" functionality the class should contain following attributes and methods:\n",
    "    a. items: Represents the list of items in the shopping cart. \n",
    "\n",
    "### The class also includes the following methods:\n",
    "    a. add_item(self, item): Adds an item to the shopping cart by appending it to the list of items.\n",
    "    b. remove_item(self, item): Removes an item from the shopping cart if it exists in the list.\n",
    "    c. view_cart(self): Displays the items currently present in the shopping cart.\n",
    "    d. clear_cart(self): Clears all items from the shopping cart by reassigning an empty list to the items attribute."
   ]
  },
  {
   "cell_type": "code",
   "execution_count": 103,
   "id": "350e7a0c-7583-4f49-ae95-0c7e13cf89cf",
   "metadata": {},
   "outputs": [],
   "source": [
    "class ShoppingCart:\n",
    "    def __init__(self):\n",
    "        \"\"\"\n",
    "        Initialize a ShoppingCart object with an empty list of items.\n",
    "        \"\"\"\n",
    "        self.items = []\n",
    "\n",
    "    def add_item(self, item):\n",
    "        \"\"\"\n",
    "        Adds an item to the shopping cart by appending it to the list of items.\n",
    "        \n",
    "        Args:\n",
    "        - item: The item to be added to the shopping cart.\n",
    "        \"\"\"\n",
    "        self.items.append(item)\n",
    "        print(f\"Item '{item}' added to the shopping cart.\")\n",
    "\n",
    "    def remove_item(self, item):\n",
    "        \"\"\"\n",
    "        Removes an item from the shopping cart if it exists in the list.\n",
    "        \n",
    "        Args:\n",
    "        - item: The item to be removed from the shopping cart.\n",
    "        \"\"\"\n",
    "        if item in self.items:\n",
    "            self.items.remove(item)\n",
    "            print(f\"Item '{item}' removed from the shopping cart.\")\n",
    "        else:\n",
    "            print(f\"Item '{item}' is not in the shopping cart.\")\n",
    "\n",
    "    def view_cart(self):\n",
    "        \"\"\"\n",
    "        Displays the items currently present in the shopping cart.\n",
    "        \"\"\"\n",
    "        if self.items:\n",
    "            print(\"Shopping Cart:\")\n",
    "            for item in self.items:\n",
    "                print(item)\n",
    "        else:\n",
    "            print(\"Shopping cart is empty.\")\n",
    "\n",
    "    def clear_cart(self):\n",
    "        \"\"\"\n",
    "        Clears all items from the shopping cart by reassigning an empty list to the items attribute.\n",
    "        \"\"\"\n",
    "        self.items = []\n",
    "        print(\"Shopping cart cleared.\")"
   ]
  },
  {
   "cell_type": "code",
   "execution_count": 104,
   "id": "4f8e9656-9d64-44b0-a5a0-e5c35a80d5fb",
   "metadata": {},
   "outputs": [],
   "source": [
    "# Creating an instance of the ShoppingCart class\n",
    "cart = ShoppingCart()"
   ]
  },
  {
   "cell_type": "code",
   "execution_count": 105,
   "id": "38d61804-2b67-4a36-bac8-dbb420e1f827",
   "metadata": {},
   "outputs": [
    {
     "name": "stdout",
     "output_type": "stream",
     "text": [
      "Item 'Shirt' added to the shopping cart.\n",
      "Item 'Shoes' added to the shopping cart.\n",
      "Item 'Foods' added to the shopping cart.\n",
      "Item 'Cheese' added to the shopping cart.\n",
      "Item 'Rice' added to the shopping cart.\n"
     ]
    }
   ],
   "source": [
    "# Adding items to the shopping cart\n",
    "cart.add_item(\"Shirt\")\n",
    "cart.add_item(\"Shoes\")\n",
    "cart.add_item(\"Foods\")\n",
    "cart.add_item(\"Cheese\")\n",
    "cart.add_item(\"Rice\")"
   ]
  },
  {
   "cell_type": "code",
   "execution_count": 106,
   "id": "9f40baad-32ef-4ea7-a071-d5512497f4eb",
   "metadata": {},
   "outputs": [
    {
     "name": "stdout",
     "output_type": "stream",
     "text": [
      "Item 'Shoes' removed from the shopping cart.\n"
     ]
    }
   ],
   "source": [
    "# Removing an item from the shopping cart\n",
    "cart.remove_item(\"Shoes\")"
   ]
  },
  {
   "cell_type": "code",
   "execution_count": 107,
   "id": "e017ea6e-80ee-4325-984e-a907d3da26e2",
   "metadata": {},
   "outputs": [
    {
     "name": "stdout",
     "output_type": "stream",
     "text": [
      "Shopping Cart:\n",
      "Shirt\n",
      "Foods\n",
      "Cheese\n",
      "Rice\n"
     ]
    }
   ],
   "source": [
    "# Viewing the shopping cart\n",
    "cart.view_cart()"
   ]
  },
  {
   "cell_type": "code",
   "execution_count": 108,
   "id": "4881f08f-153a-4907-8826-bf0a91aba34c",
   "metadata": {},
   "outputs": [
    {
     "name": "stdout",
     "output_type": "stream",
     "text": [
      "Shopping cart cleared.\n"
     ]
    }
   ],
   "source": [
    "# Clearing the shopping cart\n",
    "cart.clear_cart()"
   ]
  },
  {
   "cell_type": "code",
   "execution_count": 109,
   "id": "d4049111-da87-4b55-9bc8-464f199059c2",
   "metadata": {},
   "outputs": [
    {
     "name": "stdout",
     "output_type": "stream",
     "text": [
      "Shopping cart is empty.\n"
     ]
    }
   ],
   "source": [
    "# Viewing the shopping cart after clearing\n",
    "cart.view_cart()"
   ]
  },
  {
   "cell_type": "markdown",
   "id": "d5e2d468-015f-4854-9ec4-737202077f38",
   "metadata": {},
   "source": [
    "## Q10. Imagine a school management system. You have to design the \"Student\" class using\n",
    "## OOP concepts.The “Student” class has the following attributes:\n",
    "    a. name: Represents the name of the student.\n",
    "    b. age: Represents the age of the student.\n",
    "    c. grade: Represents the grade or class of the student.\n",
    "    d. student_id: Represents the unique identifier for the student.\n",
    "    e. attendance: Represents the attendance record of the student.\n",
    "## The class should also include the following methods:\n",
    "    a. update_attendance(self, date, status): Updates the attendance record of the student for a given date with the provided status (e.g., present or absent).\n",
    "    b. get_attendance(self): Returns the attendance record of the student.\n",
    "    c. get_average_attendance(self): Calculates and returns the average attendance percentage of the student based on their attendance record."
   ]
  },
  {
   "cell_type": "code",
   "execution_count": 114,
   "id": "39128417-f20b-482b-bc59-9b04838a749a",
   "metadata": {},
   "outputs": [],
   "source": [
    "class Student:\n",
    "    def __init__(self, name, age, grade, student_id):\n",
    "        \"\"\"\n",
    "        Initialize a Student object with the provided attributes.\n",
    "\n",
    "        Args:\n",
    "        - name: Name of the student.\n",
    "        - age: Age of the student.\n",
    "        - grade: Grade or class of the student.\n",
    "        - student_id: Unique identifier for the student.\n",
    "        \"\"\"\n",
    "        self.name = name\n",
    "        self.age = age\n",
    "        self.grade = grade\n",
    "        self.student_id = student_id\n",
    "        self.attendance = {}\n",
    "\n",
    "    def update_attendance(self, date, status):\n",
    "        \"\"\"\n",
    "        Updates the attendance record of the student for a given date with the provided status.\n",
    "\n",
    "        Args:\n",
    "        - date: Date for which the attendance is updated.\n",
    "        - status: Attendance status for the date (e.g., 'present' or 'absent').\n",
    "        \"\"\"\n",
    "        self.attendance[date] = status\n",
    "        print(f\"Attendance updated for {self.name} on {date}: {status}\")\n",
    "\n",
    "    def get_attendance(self):\n",
    "        \"\"\"\n",
    "        Returns the attendance record of the student.\n",
    "\n",
    "        Returns:\n",
    "        - Dictionary representing the attendance record, where keys are dates and values are attendance statuses.\n",
    "        \"\"\"\n",
    "        return self.attendance\n",
    "\n",
    "    def get_average_attendance(self):\n",
    "        \"\"\"\n",
    "        Calculates and returns the average attendance percentage of the student based on their attendance record.\n",
    "\n",
    "        Returns:\n",
    "        - Average attendance percentage of the student.\n",
    "        \"\"\"\n",
    "        total_days = len(self.attendance)\n",
    "        present_days = sum(status == 'present' for status in self.attendance.values())\n",
    "        if total_days > 0:\n",
    "            average_attendance = (present_days / total_days) * 100\n",
    "            return average_attendance\n",
    "        else:\n",
    "            return 0.0"
   ]
  },
  {
   "cell_type": "code",
   "execution_count": 115,
   "id": "f4375e5f-2182-4ad2-9788-6408402628d7",
   "metadata": {},
   "outputs": [],
   "source": [
    "# Creating an instance of the Student class\n",
    "student1 = Student(\"Manish Kumawat\", 29, 10, \"S222\")"
   ]
  },
  {
   "cell_type": "code",
   "execution_count": 119,
   "id": "c15a4d75-be9a-4841-b27a-6858336f60e4",
   "metadata": {},
   "outputs": [
    {
     "name": "stdout",
     "output_type": "stream",
     "text": [
      "Attendance updated for Manish Kumawat on 2023-07-01: present\n",
      "Attendance updated for Manish Kumawat on 2023-07-02: absent\n",
      "Attendance updated for Manish Kumawat on 2023-07-03: present\n",
      "Attendance updated for Manish Kumawat on 2023-07-04: present\n",
      "Attendance updated for Manish Kumawat on 2023-07-05: absent\n"
     ]
    }
   ],
   "source": [
    "# Updating attendance\n",
    "student1.update_attendance(\"2023-07-01\", \"present\")\n",
    "student1.update_attendance(\"2023-07-02\", \"absent\")\n",
    "student1.update_attendance(\"2023-07-03\", \"present\")\n",
    "student1.update_attendance(\"2023-07-04\", \"present\")\n",
    "student1.update_attendance(\"2023-07-05\", \"absent\")"
   ]
  },
  {
   "cell_type": "code",
   "execution_count": 120,
   "id": "551522e5-ce1e-400e-9ae6-c1da8dff4e8c",
   "metadata": {},
   "outputs": [
    {
     "name": "stdout",
     "output_type": "stream",
     "text": [
      "Attendance Record:\n",
      "2023-07-01: present\n",
      "2023-07-02: absent\n",
      "2023-07-03: present\n",
      "2023-07-04: present\n",
      "2023-07-05: absent\n"
     ]
    }
   ],
   "source": [
    "# Getting attendance record\n",
    "attendance_record = student1.get_attendance()\n",
    "print(\"Attendance Record:\")\n",
    "for date, status in attendance_record.items():\n",
    "    print(f\"{date}: {status}\")"
   ]
  },
  {
   "cell_type": "code",
   "execution_count": 121,
   "id": "caf66146-dd27-4bd7-b2e3-5cd04232eb5c",
   "metadata": {},
   "outputs": [
    {
     "name": "stdout",
     "output_type": "stream",
     "text": [
      "Average Attendance: 60.0%\n"
     ]
    }
   ],
   "source": [
    "# Getting average attendance\n",
    "average_attendance = student1.get_average_attendance()\n",
    "print(f\"Average Attendance: {average_attendance}%\")"
   ]
  }
 ],
 "metadata": {
  "kernelspec": {
   "display_name": "Python 3 (ipykernel)",
   "language": "python",
   "name": "python3"
  },
  "language_info": {
   "codemirror_mode": {
    "name": "ipython",
    "version": 3
   },
   "file_extension": ".py",
   "mimetype": "text/x-python",
   "name": "python",
   "nbconvert_exporter": "python",
   "pygments_lexer": "ipython3",
   "version": "3.10.6"
  }
 },
 "nbformat": 4,
 "nbformat_minor": 5
}
