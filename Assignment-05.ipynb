{
 "cells": [
  {
   "cell_type": "markdown",
   "id": "5b22f0e1-b1c0-4842-a20c-5f3231aa2a8a",
   "metadata": {},
   "source": [
    "## Q1. What does an empty dictionary&#39;s code look like?"
   ]
  },
  {
   "cell_type": "code",
   "execution_count": 3,
   "id": "15dd1c52-7607-4c2d-9d0e-c29e8bf646e9",
   "metadata": {},
   "outputs": [
    {
     "data": {
      "text/plain": [
       "dict"
      ]
     },
     "execution_count": 3,
     "metadata": {},
     "output_type": "execute_result"
    }
   ],
   "source": [
    "_dict={}\n",
    "type(dict)"
   ]
  },
  {
   "cell_type": "markdown",
   "id": "688c925e-5870-4aca-9189-21f785a97f0d",
   "metadata": {},
   "source": [
    "## Q2. What is the value of a dictionary value with the key &#39;foo&#39; and the value 42?"
   ]
  },
  {
   "cell_type": "code",
   "execution_count": 4,
   "id": "18ce5005-40d0-4b6b-aeca-479f635681e1",
   "metadata": {},
   "outputs": [
    {
     "name": "stdout",
     "output_type": "stream",
     "text": [
      "42\n"
     ]
    }
   ],
   "source": [
    "_dict = {'foo': 42}\n",
    "value = my_dict['foo']\n",
    "print(value)"
   ]
  },
  {
   "cell_type": "markdown",
   "id": "c86dd874-d875-479c-9542-38f5296d808b",
   "metadata": {},
   "source": [
    "## Q3. What is the most significant distinction between a dictionary and a list?"
   ]
  },
  {
   "cell_type": "markdown",
   "id": "439a7116-24c5-49f7-b56e-983a44f7f315",
   "metadata": {},
   "source": [
    "`Answer`\n",
    "\n",
    "1. Structure:\n",
    "\n",
    "    - Dictionary: A dictionary is an unordered collection of key-value pairs. Each key within the dictionary must be unique, and it is used to access its corresponding value.\n",
    "    - List: A list is an ordered collection of elements. The elements can be of any data type and are accessed by their position or index within the list.\n",
    "\n",
    "2. Accessing Elements:\n",
    "\n",
    "    - Dictionary: Elements in a dictionary are accessed by their keys rather than by their positions. You can retrieve the value associated with a specific key using the key as an index.\n",
    "    - List: Elements in a list are accessed by their positions or indices. You can retrieve an element by specifying its index within square brackets.\n",
    "\n",
    "3. Ordering:\n",
    "\n",
    "    - Dictionary: Dictionaries do not have a fixed order. The elements are stored based on a hash table implementation, which allows for efficient lookup and retrieval but does not preserve the order in which elements were added.\n",
    "    - List: Lists maintain the order of elements as they were added. The position of an element in the list remains fixed unless explicitly modified.\n",
    "\n",
    "4. Mutable vs. Immutable:\n",
    "\n",
    "    - Dictionary: Dictionaries are mutable, which means you can modify, add, or remove key-value pairs once the dictionary is created.\n",
    "    - List: Lists are mutable as well, allowing you to modify, add, or remove elements at any position within the list."
   ]
  },
  {
   "cell_type": "markdown",
   "id": "3293913e-bf8b-4394-8851-c81f0cf2bfb2",
   "metadata": {},
   "source": [
    "## Q4. What happens if you try to access spam[&#39;foo&#39;] if spam is {&#39;bar&#39;: 100}?"
   ]
  },
  {
   "cell_type": "markdown",
   "id": "7a384ab8-679b-452b-8e33-6f6e4c39d37c",
   "metadata": {},
   "source": [
    "`Answer`\n",
    "\n",
    "If you try to access spam['foo'] where spam is {'bar': 100}, you will encounter a KeyError because the key 'foo' does not exist in the dictionary spam"
   ]
  },
  {
   "cell_type": "code",
   "execution_count": 5,
   "id": "0f100a3c-9858-4525-89ca-d295f65a9e45",
   "metadata": {},
   "outputs": [
    {
     "ename": "SyntaxError",
     "evalue": "invalid syntax (2888662979.py, line 1)",
     "output_type": "error",
     "traceback": [
      "\u001b[0;36m  Cell \u001b[0;32mIn [5], line 1\u001b[0;36m\u001b[0m\n\u001b[0;31m    spam={'bar':`100}\u001b[0m\n\u001b[0m                ^\u001b[0m\n\u001b[0;31mSyntaxError\u001b[0m\u001b[0;31m:\u001b[0m invalid syntax\n"
     ]
    }
   ],
   "source": [
    "spam={'bar':`100}\n",
    "spam[\"foo\"]"
   ]
  },
  {
   "cell_type": "markdown",
   "id": "1a1791d6-988d-4012-88d0-bf1f4d51e7b1",
   "metadata": {},
   "source": [
    "## Q5. If a dictionary is stored in spam, what is the difference between the expressions &#39;cat&#39; in spam and &#39;cat&#39; in spam.keys()?"
   ]
  },
  {
   "cell_type": "markdown",
   "id": "374c331e-5f89-430b-bdbf-cd5f2b24cb20",
   "metadata": {},
   "source": [
    "`Answer`\n",
    "\n",
    "1. `cat` in `spam`:\n",
    "\n",
    "    - This expression checks whether the key 'cat' exists in the dictionary spam.\n",
    "    - It returns a boolean value (True or False) indicating whether the key is present in the dictionary.\n",
    "    - It directly checks the keys of the dictionary for the presence of the key 'cat'.\n",
    "    - Example: {'cat': 'meow'}\n",
    "    - Returns True if 'cat' is a key in spam, False otherwise.\n",
    "\n",
    "2. `cat` in `spam.keys()`:\n",
    "\n",
    "    - This expression checks whether the string 'cat' exists in the list of keys of the dictionary spam.\n",
    "    - It returns a boolean value (True or False) indicating whether the string is present in the list of keys.\n",
    "    - It explicitly accesses the .keys() method of the dictionary spam, which returns a view object representing the keys of the dictionary.\n",
    "    - Example: dict_keys(['cat'])\n",
    "    - Returns True if 'cat' is in the list of keys returned by spam.keys(), False otherwise."
   ]
  },
  {
   "cell_type": "markdown",
   "id": "0e605f78-cea1-4511-ba77-9d3ef42eacb8",
   "metadata": {},
   "source": [
    "## Q6. If a dictionary is stored in spam, what is the difference between the expressions &#39;cat&#39; in spam and &#39;cat&#39; in spam.values()?"
   ]
  },
  {
   "cell_type": "markdown",
   "id": "bdaeab4c-486a-47ba-8500-aa81ef9b7743",
   "metadata": {},
   "source": [
    "`Answer`\n",
    "\n",
    "1. `cat` in `spam:`\n",
    "\n",
    "    - This expression checks whether the string 'cat' exists as a key in the dictionary spam.\n",
    "    - It returns a boolean value (True or False) indicating whether the key is present in the dictionary.\n",
    "    - It directly checks the keys of the dictionary for the presence of the key 'cat'.\n",
    "    - Example: {'cat': 'meow'}\n",
    "    - Returns True if 'cat' is a key in spam, False otherwise.\n",
    "\n",
    "2. `cat` in `spam.values():`\n",
    "\n",
    "    - This expression checks whether the string 'cat' exists as a value in the dictionary spam.\n",
    "    - It returns a boolean value (True or False) indicating whether the value is present in the dictionary.\n",
    "    - It explicitly accesses the .values() method of the dictionary spam, which returns a view object representing the values of the dictionary.\n",
    "    - Example: dict_values(['meow'])\n",
    "    - Returns True if 'cat' is in the list of values returned by spam.values(), False otherwise."
   ]
  },
  {
   "cell_type": "markdown",
   "id": "e58778b5-2ebe-44ef-ae75-931c43d95d12",
   "metadata": {},
   "source": [
    "## Q7. What is a shortcut for the following code?\n",
    "\n",
    "if &#39;color&#39; not in spam:<br>\n",
    "spam[&#39;color&#39;] = &#39;black&#39;"
   ]
  },
  {
   "cell_type": "code",
   "execution_count": 17,
   "id": "d6d8ca8a-c988-4980-9f39-642b539d1d14",
   "metadata": {},
   "outputs": [
    {
     "data": {
      "text/plain": [
       "{'color': 'black'}"
      ]
     },
     "execution_count": 17,
     "metadata": {},
     "output_type": "execute_result"
    }
   ],
   "source": [
    "spam={}\n",
    "if 'color' not in spam:\n",
    "    spam['color'] = 'black'\n",
    "spam"
   ]
  },
  {
   "cell_type": "code",
   "execution_count": 18,
   "id": "3f3144d2-ece2-4f37-a79d-83a16e13dae1",
   "metadata": {},
   "outputs": [
    {
     "data": {
      "text/plain": [
       "'black'"
      ]
     },
     "execution_count": 18,
     "metadata": {},
     "output_type": "execute_result"
    }
   ],
   "source": [
    "spam.setdefault('color', 'black')"
   ]
  },
  {
   "cell_type": "markdown",
   "id": "63b4ba27-9ac8-4353-b12e-44f503fb19e4",
   "metadata": {},
   "source": [
    "## Q8. How do you &quot;pretty print&quot; dictionary values using which module and function?"
   ]
  },
  {
   "cell_type": "code",
   "execution_count": 20,
   "id": "69364968-0154-4c98-a576-dc9c60aa1246",
   "metadata": {},
   "outputs": [
    {
     "name": "stdout",
     "output_type": "stream",
     "text": [
      "{'key1': 'value1', 'key2': 'value2', 'key3': 'value3'}\n"
     ]
    }
   ],
   "source": [
    "import pprint\n",
    "\n",
    "my_dict = {'key1': 'value1', \n",
    "           'key2': 'value2', \n",
    "           'key3': 'value3'}\n",
    "pprint.pprint(my_dict)"
   ]
  }
 ],
 "metadata": {
  "kernelspec": {
   "display_name": "Python 3 (ipykernel)",
   "language": "python",
   "name": "python3"
  },
  "language_info": {
   "codemirror_mode": {
    "name": "ipython",
    "version": 3
   },
   "file_extension": ".py",
   "mimetype": "text/x-python",
   "name": "python",
   "nbconvert_exporter": "python",
   "pygments_lexer": "ipython3",
   "version": "3.10.6"
  }
 },
 "nbformat": 4,
 "nbformat_minor": 5
}
