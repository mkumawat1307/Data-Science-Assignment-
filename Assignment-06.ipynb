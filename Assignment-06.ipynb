{
 "cells": [
  {
   "cell_type": "markdown",
   "id": "eb06176e-738d-4121-b538-5c8fa40f56cb",
   "metadata": {},
   "source": [
    "## Q.1. What are keywords in python? Using the keyword library, print all the python keywords."
   ]
  },
  {
   "cell_type": "code",
   "execution_count": 2,
   "id": "538c527e-35f2-4248-8899-f7b5ec76cc59",
   "metadata": {},
   "outputs": [
    {
     "name": "stdout",
     "output_type": "stream",
     "text": [
      "['False', 'None', 'True', 'and', 'as', 'assert', 'async', 'await', 'break', 'class', 'continue', 'def', 'del', 'elif', 'else', 'except', 'finally', 'for', 'from', 'global', 'if', 'import', 'in', 'is', 'lambda', 'nonlocal', 'not', 'or', 'pass', 'raise', 'return', 'try', 'while', 'with', 'yield']\n"
     ]
    }
   ],
   "source": [
    "# load package\n",
    "import keyword\n",
    "\n",
    "# display all keywords\n",
    "print(keyword.kwlist)"
   ]
  },
  {
   "cell_type": "markdown",
   "id": "6c6cc566-383c-411b-899e-214b245c85ca",
   "metadata": {},
   "source": [
    "## Q.2. What are the rules to create variables in python?"
   ]
  },
  {
   "cell_type": "markdown",
   "id": "49c3af8d-2c85-4809-bd40-9e85d59140a0",
   "metadata": {},
   "source": [
    "`Answer`\n",
    "\n",
    "1. Valid Characters: Variables can consist of letters (both uppercase and lowercase), digits, and underscores. However, they must start with a letter or an underscore.\n",
    "\n",
    "- Examples of valid variable names:\n",
    "\n",
    "    - my_var<br>\n",
    "    - count<br>\n",
    "    - _name<br>\n",
    "    - temperature2<br>\n",
    "    \n",
    "- Examples of invalid variable names:\n",
    "\n",
    "    - 2count (starts with a digit)\n",
    "    - my-var (contains a hyphen)\n",
    "    - my var (contains a space)\n",
    "    \n",
    "2. Case-Sensitive: Python is case-sensitive, so variables with different cases are considered distinct. For example, my_var and My_var are two different variables.\n",
    "\n",
    "3. Reserved Keywords: You cannot use reserved keywords as variable names because they have special meanings in Python. For example, you cannot use if, for, while, def, print, or import as variable names."
   ]
  },
  {
   "cell_type": "markdown",
   "id": "da2c0c99-8536-4c21-80d3-116d50e01843",
   "metadata": {},
   "source": [
    "## Q.3. What are the standards and conventions followed for the nomenclature of variables in python to improve code readability and maintainability?"
   ]
  },
  {
   "cell_type": "markdown",
   "id": "64cdecbd-a5d6-4214-95c9-cede785da99e",
   "metadata": {},
   "source": [
    "`Answer`\n",
    "\n",
    "1. Use Descriptive Names: Variable names should be descriptive and convey the purpose or meaning of the variable. This makes the code more readable and self-explanatory. Avoid using single-character or cryptic names that may be hard to understand.\n",
    "\n",
    "2. Use lowercase with underscores: For most variables, it is recommended to use lowercase letters and separate words with underscores (snake_case). This convention enhances readability and makes it easier to distinguish between words in a variable name.\n",
    "\n",
    "Example: total_count, user_name, is_active\n",
    "\n",
    "3. Avoid Reserved Keywords: Avoid using reserved keywords or built-in function names as variable names to prevent conflicts and confusion. For example, avoid using names like list, str, print, import, etc.\n",
    "\n",
    "4. Constants: If you have variables that represent constants, such as configuration values that do not change, use uppercase letters with underscores to indicate that they are constant. This convention is known as SCREAMING_SNAKE_CASE.\n",
    "\n",
    "Example: MAX_ITERATIONS, PI, CONFIG_FILE\n",
    "\n",
    "5. Class Names: For class names, follow the convention of using CamelCase (also known as PascalCase), where each word starts with an uppercase letter without underscores. This convention helps distinguish classes from variables or functions.\n",
    "\n",
    "Example: MyClass, SomeOtherClass\n",
    "\n",
    "6. Avoid Ambiguous Names: Choose variable names that are unambiguous and do not create confusion or ambiguity with similar names. For instance, be cautious when using names like l (lowercase \"L\") that can be easily mistaken for 1 (number one) or O (capital \"O\") that can be mistaken for 0 (number zero).\n",
    "\n",
    "7. Function Names and Method Names: Use lowercase with underscores for function names, following the same convention as variable names. For methods within a class, the convention is the same as function names.\n",
    "\n",
    "Example: calculate_average, process_data, get_user_details"
   ]
  },
  {
   "cell_type": "markdown",
   "id": "66b832b3-6b44-4507-accf-45287f36ad1b",
   "metadata": {},
   "source": [
    "## Q.4. What will happen if a keyword is used as a variable name?"
   ]
  },
  {
   "cell_type": "markdown",
   "id": "b6208f84-2989-42bb-bbff-2853ec90d413",
   "metadata": {},
   "source": [
    "`Answer`\n",
    "\n",
    "If a keyword is used as a variable name in Python, it will result in a SyntaxError because keywords have predefined meanings in the language and cannot be used as identifiers for variables or other purposes."
   ]
  },
  {
   "cell_type": "code",
   "execution_count": 3,
   "id": "c2aea377-2faf-4e14-b95f-d61b9a4a8b7a",
   "metadata": {},
   "outputs": [
    {
     "ename": "SyntaxError",
     "evalue": "invalid syntax (3874171560.py, line 1)",
     "output_type": "error",
     "traceback": [
      "\u001b[0;36m  Cell \u001b[0;32mIn [3], line 1\u001b[0;36m\u001b[0m\n\u001b[0;31m    for =5\u001b[0m\n\u001b[0m        ^\u001b[0m\n\u001b[0;31mSyntaxError\u001b[0m\u001b[0;31m:\u001b[0m invalid syntax\n"
     ]
    }
   ],
   "source": [
    "for =5"
   ]
  },
  {
   "cell_type": "markdown",
   "id": "397abcac-3537-4024-bc33-a95b1bae509a",
   "metadata": {},
   "source": [
    "## Q.5. For what purpose def keyword is used?"
   ]
  },
  {
   "cell_type": "markdown",
   "id": "4c19b449-fe0e-4650-b221-229e8cd61054",
   "metadata": {},
   "source": [
    "`Answer`\n",
    "\n",
    "he def keyword in Python is used to define functions. Functions are blocks of reusable code that perform a specific task. The def keyword, followed by the function name and a set of parentheses, is used to declare and define a function"
   ]
  },
  {
   "cell_type": "markdown",
   "id": "5c87735f-8c1b-417d-a3c0-8be755f6fce0",
   "metadata": {},
   "source": [
    "## Q.6. What is the operation of this special character ‘\\’?"
   ]
  },
  {
   "cell_type": "markdown",
   "id": "dc40ed19-b7e3-46f8-b8be-c9c3c0184295",
   "metadata": {},
   "source": [
    "`Answer`\n",
    "\n",
    "Escape Sequences: The backslash is used to create escape sequences that represent special characters within strings. For example:\n",
    "\n",
    "    - '\\n': Represents a newline character.\n",
    "    - '\\t': Represents a tab character.\n",
    "    - '\\\\\"': Represents a double quotation mark within a string.\n",
    "    - '\\\\': Represents a backslash character itself.\n",
    "    \n",
    "the backslash `\\` in Python is a versatile character used for escape sequences, raw strings, line continuation, and representing Unicode characters."
   ]
  },
  {
   "cell_type": "markdown",
   "id": "75847900-666e-44b4-868c-9d7b4e0e3b76",
   "metadata": {},
   "source": [
    "## Q.7. Give an example of the following conditions:\n",
    "1. Homogeneous list\n",
    "2.  Heterogeneous set\n",
    "3.  Homogeneous tuple"
   ]
  },
  {
   "cell_type": "markdown",
   "id": "aeceeeda-264c-4b99-bb9e-0f67342e3765",
   "metadata": {},
   "source": [
    "`Answer`\n",
    "\n",
    "1. Homogeneous List: A homogeneous list is a list where all the elements have the same data type. Here's an example of a homogeneous list of integers: \n",
    "> numbers = [1, 2, 3, 4, 5]\n",
    "\n",
    "2. Heterogeneous Set: A heterogeneous set is a set where the elements can have different data types. Here's an example of a heterogeneous set:\n",
    "> my_set = {1, 'apple', 3.14, True}\n",
    "\n",
    "3. Homogeneous Tuple: A homogeneous tuple is a tuple where all the elements have the same data type. Here's an example of a homogeneous tuple of strings:\n",
    "> fruits = ('apple', 'banana', 'orange')"
   ]
  },
  {
   "cell_type": "markdown",
   "id": "01f4baa0-4fc0-478c-ad8f-305ab9ff7232",
   "metadata": {},
   "source": [
    "## Q.8. Explain the mutable and immutable data types with proper explanation & examples."
   ]
  },
  {
   "cell_type": "markdown",
   "id": "f2e1c7c5-9617-48a2-bdd2-c9804287508a",
   "metadata": {},
   "source": [
    "`Answer`\n",
    "\n",
    "1. Mutable Data Types:\n",
    ">Mutable data types are those whose values can be modified after they are created. This means you can change individual elements, add or remove elements, or modify their properties without creating a new object. Examples of mutable data types in Python include lists, dictionaries, and sets."
   ]
  },
  {
   "cell_type": "code",
   "execution_count": 4,
   "id": "10a7735a-af28-415f-8be0-bf7c440a24e4",
   "metadata": {},
   "outputs": [
    {
     "name": "stdout",
     "output_type": "stream",
     "text": [
      "[10, 2, 3]\n"
     ]
    }
   ],
   "source": [
    "my_list = [1, 2, 3]\n",
    "my_list[0] = 10\n",
    "print(my_list)"
   ]
  },
  {
   "cell_type": "markdown",
   "id": "6f3d5003-f6a8-4b0c-9b82-dffbe8074a2c",
   "metadata": {},
   "source": [
    "2. Immutable Data Types:\n",
    "\n",
    ">Immutable data types are those whose values cannot be changed once they are created. If you need to modify the value, you need to create a new object. Examples of immutable data types in Python include strings, tuples, and numeric types (integers, floats, etc.)."
   ]
  },
  {
   "cell_type": "code",
   "execution_count": 5,
   "id": "14c8e1a2-2fd6-4405-b7f5-eef2af1251a0",
   "metadata": {},
   "outputs": [
    {
     "ename": "TypeError",
     "evalue": "'str' object does not support item assignment",
     "output_type": "error",
     "traceback": [
      "\u001b[0;31m---------------------------------------------------------------------------\u001b[0m",
      "\u001b[0;31mTypeError\u001b[0m                                 Traceback (most recent call last)",
      "Cell \u001b[0;32mIn [5], line 2\u001b[0m\n\u001b[1;32m      1\u001b[0m my_string \u001b[38;5;241m=\u001b[39m \u001b[38;5;124m\"\u001b[39m\u001b[38;5;124mHello\u001b[39m\u001b[38;5;124m\"\u001b[39m\n\u001b[0;32m----> 2\u001b[0m \u001b[43mmy_string\u001b[49m\u001b[43m[\u001b[49m\u001b[38;5;241;43m0\u001b[39;49m\u001b[43m]\u001b[49m \u001b[38;5;241m=\u001b[39m \u001b[38;5;124m'\u001b[39m\u001b[38;5;124mJ\u001b[39m\u001b[38;5;124m'\u001b[39m\n",
      "\u001b[0;31mTypeError\u001b[0m: 'str' object does not support item assignment"
     ]
    }
   ],
   "source": [
    "my_string = \"Hello\"\n",
    "my_string[0] = 'J'  "
   ]
  },
  {
   "cell_type": "markdown",
   "id": "c17d9134-fb2e-484d-b7cb-02f65f179c53",
   "metadata": {},
   "source": [
    "## Q.9. Write a code to create the given structure using only for loop.\n",
    "$$*$$\n",
    "$$***$$\n",
    "$$*****$$\n",
    "$$*******$$\n",
    "$$*********$$"
   ]
  },
  {
   "cell_type": "code",
   "execution_count": 12,
   "id": "2fefb0d0-7d96-4fc8-a7c7-936ed2baf2f7",
   "metadata": {},
   "outputs": [
    {
     "name": "stdout",
     "output_type": "stream",
     "text": [
      "        * \n",
      "      * * * \n",
      "    * * * * * \n",
      "  * * * * * * * \n",
      "* * * * * * * * * \n"
     ]
    }
   ],
   "source": [
    "rows = 5\n",
    "\n",
    "for i in range(1, rows + 1):\n",
    "    for j in range(rows - i):\n",
    "        print(' ', end=' ')\n",
    "    for k in range(2 * i - 1):\n",
    "        print('*', end=' ')\n",
    "    print()"
   ]
  },
  {
   "cell_type": "markdown",
   "id": "1b0ddc04-f954-48f3-8ac5-28455b2c573a",
   "metadata": {},
   "source": [
    "## Q.10. Write a code to create the given structure using while loop.\n",
    "$$|||||||||$$\n",
    "$$|||||||$$\n",
    "$$|||||$$\n",
    "$$|||$$\n",
    "$$|$$"
   ]
  },
  {
   "cell_type": "code",
   "execution_count": 38,
   "id": "85cf3e2a-05a0-45f3-9db6-f75120822201",
   "metadata": {},
   "outputs": [
    {
     "name": "stdout",
     "output_type": "stream",
     "text": [
      "|||||||||\n",
      " |||||||\n",
      "  |||||\n",
      "   |||\n",
      "    |\n"
     ]
    }
   ],
   "source": [
    "rows = 5\n",
    "\n",
    "for i in reversed(range(1, rows + 1)):\n",
    "    for j in range(rows - i):\n",
    "        print(' ', end='')\n",
    "    for k in range(2 * i - 1):\n",
    "        print('|', end='')\n",
    "    print()"
   ]
  }
 ],
 "metadata": {
  "kernelspec": {
   "display_name": "Python 3 (ipykernel)",
   "language": "python",
   "name": "python3"
  },
  "language_info": {
   "codemirror_mode": {
    "name": "ipython",
    "version": 3
   },
   "file_extension": ".py",
   "mimetype": "text/x-python",
   "name": "python",
   "nbconvert_exporter": "python",
   "pygments_lexer": "ipython3",
   "version": "3.10.6"
  }
 },
 "nbformat": 4,
 "nbformat_minor": 5
}
