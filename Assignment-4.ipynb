{
 "cells": [
  {
   "cell_type": "markdown",
   "id": "d8e85234-dea5-44d4-a641-98793422d4d9",
   "metadata": {},
   "source": [
    "## Q1. What exactly is []?"
   ]
  },
  {
   "cell_type": "markdown",
   "id": "a4e5cbb8-1196-48f9-8fc9-d9800152f104",
   "metadata": {},
   "source": [
    "`Answer`\n",
    "\n",
    "'[]' represents an empty list.\n",
    "\n",
    "A list is a mutable, ordered collection of elements, enclosed within square brackets []. Lists can contain elements of different data types, such as numbers, strings, or even other lists. However, an empty list contains no elements."
   ]
  },
  {
   "cell_type": "markdown",
   "id": "081843a1-643a-4851-9fe3-d9b2a4adb823",
   "metadata": {},
   "source": [
    "## Q2. In a list of values stored in a variable called spam, how would you assign the value &#39;hello&#39; as the third value? (Assume [2, 4, 6, 8, 10] are in spam.)\n"
   ]
  },
  {
   "cell_type": "code",
   "execution_count": 1,
   "id": "7b3aa441-fb0e-49ad-9658-8ef52d52c0d4",
   "metadata": {},
   "outputs": [
    {
     "data": {
      "text/plain": [
       "[2, 4, 'hello', 8, 10]"
      ]
     },
     "execution_count": 1,
     "metadata": {},
     "output_type": "execute_result"
    }
   ],
   "source": [
    "spam=[2,4,6,8,10]\n",
    "\n",
    "spam[2] = 'hello'\n",
    "spam"
   ]
  },
  {
   "cell_type": "markdown",
   "id": "d9766771-51a8-481a-b809-cf7234c4f5b0",
   "metadata": {},
   "source": [
    "# Let&#39;s pretend the spam includes the list [&#39;a&#39;, &#39;b&#39;, &#39;c&#39;, &#39;d&#39;] for the next three queries.\n",
    "\n",
    "## Q3. What is the value of spam[int(int(&#39;3&#39; * 2) / 11)]?"
   ]
  },
  {
   "cell_type": "markdown",
   "id": "01ea6152-9215-4301-ba3c-ced795963147",
   "metadata": {},
   "source": [
    "`Answer`\n",
    "\n",
    "1. '3' * 2 multiplies the string '3' by 2, resulting in the string '33'.\n",
    "2. int('33') converts the string '33' into an integer with a value of 33.\n",
    "3. 33 / 11 performs division, resulting in a float value of 3.0.\n",
    "4. int(3.0) converts the float value 3.0 into an integer with a value of 3.\n",
    "\n",
    "Therefore, spam[int(int('3' * 2) / 11)] is equivalent to spam[3]."
   ]
  },
  {
   "cell_type": "code",
   "execution_count": 2,
   "id": "e2cc7637-cf0a-468f-acfc-a66799773edf",
   "metadata": {},
   "outputs": [
    {
     "data": {
      "text/plain": [
       "'d'"
      ]
     },
     "execution_count": 2,
     "metadata": {},
     "output_type": "execute_result"
    }
   ],
   "source": [
    "spam=[\"a\",\"b\",\"c\",\"d\"]\n",
    "\n",
    "spam[int(int('3' * 2) / 11)]"
   ]
  },
  {
   "cell_type": "markdown",
   "id": "8be53c8c-0f58-49ef-ba01-66d69429f0f6",
   "metadata": {},
   "source": [
    "## Q4. What is the value of spam[-1]?"
   ]
  },
  {
   "cell_type": "code",
   "execution_count": 3,
   "id": "24c92ca3-8f89-4ea8-bd06-ecabea01b21a",
   "metadata": {},
   "outputs": [
    {
     "data": {
      "text/plain": [
       "'d'"
      ]
     },
     "execution_count": 3,
     "metadata": {},
     "output_type": "execute_result"
    }
   ],
   "source": [
    "spam[-1]"
   ]
  },
  {
   "cell_type": "markdown",
   "id": "49bd34c0-fc92-4d05-bcb3-5b15f8df4755",
   "metadata": {},
   "source": [
    "## Q5. What is the value of spam[:2]?\n",
    "\n"
   ]
  },
  {
   "cell_type": "code",
   "execution_count": 4,
   "id": "c5e9d58e-5fc4-4620-93e3-ea236c4c7a63",
   "metadata": {},
   "outputs": [
    {
     "data": {
      "text/plain": [
       "['a', 'b']"
      ]
     },
     "execution_count": 4,
     "metadata": {},
     "output_type": "execute_result"
    }
   ],
   "source": [
    "spam[:2]"
   ]
  },
  {
   "cell_type": "markdown",
   "id": "9f304ea9-a058-477d-81eb-29811d97e877",
   "metadata": {},
   "source": [
    "# Let&#39;s pretend bacon has the list [3.14, &#39;cat,&#39; 11, &#39;cat,&#39; True] for the next three questions.\n",
    "\n",
    "## Q6. What is the value of bacon.index(&#39;cat&#39;)?"
   ]
  },
  {
   "cell_type": "code",
   "execution_count": 13,
   "id": "104611b1-08ef-40c6-8bb1-697b9a5d269d",
   "metadata": {},
   "outputs": [
    {
     "data": {
      "text/plain": [
       "1"
      ]
     },
     "execution_count": 13,
     "metadata": {},
     "output_type": "execute_result"
    }
   ],
   "source": [
    "bacon = [3.14, 'cat', 11, 'cat', True]\n",
    "# The index() method in Python returns the index of the first occurrence of a specified element in a list.\n",
    "bacon.index('cat')"
   ]
  },
  {
   "cell_type": "markdown",
   "id": "fc88a550-cdb3-4c1d-856b-b162a9ccbff6",
   "metadata": {},
   "source": [
    "## Q7. How does bacon.append(99) change the look of the list value in bacon?"
   ]
  },
  {
   "cell_type": "code",
   "execution_count": 14,
   "id": "decff12c-78a1-424a-adc1-f38434ca303a",
   "metadata": {},
   "outputs": [
    {
     "data": {
      "text/plain": [
       "[3.14, 'cat', 11, 'cat', True, 99]"
      ]
     },
     "execution_count": 14,
     "metadata": {},
     "output_type": "execute_result"
    }
   ],
   "source": [
    "bacon.append(99)\n",
    "# The append() method modifies the list in-place by adding the specified element as the last item in the list\n",
    "bacon"
   ]
  },
  {
   "cell_type": "markdown",
   "id": "68675346-5fde-4c34-89c6-36fb297a1981",
   "metadata": {},
   "source": [
    "## Q8. How does bacon.remove(&#39;cat&#39;) change the look of the list in bacon?"
   ]
  },
  {
   "cell_type": "code",
   "execution_count": 15,
   "id": "01e8d277-845f-47ae-887b-bf9dd72e5427",
   "metadata": {},
   "outputs": [
    {
     "data": {
      "text/plain": [
       "[3.14, 11, 'cat', True, 99]"
      ]
     },
     "execution_count": 15,
     "metadata": {},
     "output_type": "execute_result"
    }
   ],
   "source": [
    "bacon.remove('cat')\n",
    "# The remove() method modifies the list in-place by removing the specified element from the list.\n",
    "# In this case, it removes the first occurrence of 'cat' it encounters.\n",
    "bacon"
   ]
  },
  {
   "cell_type": "markdown",
   "id": "8aac4b63-04ed-474b-9d2b-110e2e0f7b64",
   "metadata": {},
   "source": [
    "## Q9. What are the list concatenation and list replication operators?"
   ]
  },
  {
   "cell_type": "markdown",
   "id": "45e067e4-a8a3-46ea-96b7-1d0bb0c360bc",
   "metadata": {},
   "source": [
    "`Answer`\n",
    "\n",
    "1. List Concatenation Operator (+):\n",
    "    - The + operator is used to concatenate two or more lists, creating a new list that contains all the elements from the concatenated lists.\n",
    "\n",
    "2. List Replication Operator (*):\n",
    "    - The * operator is used to replicate a list by a specified number of times, creating a new list with repeated elements."
   ]
  },
  {
   "cell_type": "markdown",
   "id": "e2174f3a-b4ed-4e87-96fc-752d0ad00fc0",
   "metadata": {},
   "source": [
    "## Q10. What is difference between the list methods append() and insert()?"
   ]
  },
  {
   "cell_type": "markdown",
   "id": "efbda370-4480-41a9-9608-cf01ad94641c",
   "metadata": {},
   "source": [
    "`Answer`\n",
    "\n",
    "1. `append()` method:\n",
    "\n",
    "    - The append() method is used to add an element to the end of a list.\n",
    "    - It takes a single argument, which is the element to be added.\n",
    "    \n",
    "2. `insert()` method:\n",
    "\n",
    "    - The insert() method is used to add an element at a specific position within a list.\n",
    "    - It takes two arguments: the index position and the element to be inserted."
   ]
  },
  {
   "cell_type": "markdown",
   "id": "bbfa0022-b610-4dd9-8ecb-174853d6e60c",
   "metadata": {},
   "source": [
    "## Q11. What are the two methods for removing items from a list?"
   ]
  },
  {
   "cell_type": "markdown",
   "id": "ceddfa61-a6c3-4e17-af8f-812fb734168f",
   "metadata": {},
   "source": [
    "`Answer`\n",
    "\n",
    "1. `remove()` method:\n",
    "\n",
    "    - The remove() method is used to remove the first occurrence of a specific value from a list.\n",
    "    - It takes a single argument, which is the value to be removed.\n",
    "    \n",
    "2. `pop()` method:\n",
    "\n",
    "    - The pop() method is used to remove and return an element at a specific index from a list.\n",
    "    - It takes an optional argument, which is the index of the element to be removed. If no index is provided, it removes the last element."
   ]
  },
  {
   "cell_type": "markdown",
   "id": "2cfbadfd-3cfe-46a2-84cb-9a0029b4b94e",
   "metadata": {},
   "source": [
    "## Q12. Describe how list values and string values are identical."
   ]
  },
  {
   "cell_type": "markdown",
   "id": "f3b666bf-094b-4695-a465-1542fb11e3ba",
   "metadata": {},
   "source": [
    "`Answer`\n",
    "\n",
    "1. Both lists and strings are sequential collections of elements. They store multiple values that can be accessed by their position or index.\n",
    "\n",
    "2. Lists and strings both allow slicing, which means extracting a subset of values from the collection by specifying a range of indices.\n",
    "\n",
    "3. Both lists and strings support common operations like concatenation (+), repetition (*), and length calculation (len()).\n",
    "\n",
    "4.  Both lists and strings can be iterated over using loops, such as for loops, to access each element sequentially."
   ]
  },
  {
   "cell_type": "markdown",
   "id": "f0847d8d-e584-4134-b06b-398048c4e034",
   "metadata": {},
   "source": [
    "## Q13. What&#39;s the difference between tuples and lists?"
   ]
  },
  {
   "cell_type": "markdown",
   "id": "2646faf9-a1f7-40f1-a1e4-9fff214ce67d",
   "metadata": {},
   "source": [
    "`Answer`\n",
    "\n",
    "\n",
    "|Lists                                                           |Tuples                                                                |\n",
    "|----------------------------------------------------------------|----------------------------------------------------------------------|\n",
    "|List are mutable                                                | Tuples are immutable                                                 |\n",
    "|Iterations are time-consuming|Iterations are comparatively Faster|\n",
    "|Inserting and deleting items is easier with a list.|Accessing the elements is best accomplished with a tuple data type.|\n",
    "|Lists consume more memory|Tuple consumes less than the list|\n",
    "|Lists have several built-in methods.|A tuple does not have many built-in methods because of immutability|\n",
    "|A unexpected change or error is more likely to occur in a list.|In a tuple, changes and errors don't usually occur because of immutability.|"
   ]
  },
  {
   "cell_type": "markdown",
   "id": "f7f67107-1983-467d-be1a-54ef687a9d73",
   "metadata": {},
   "source": [
    "## Q14. How do you type a tuple value that only contains the integer 42?"
   ]
  },
  {
   "cell_type": "code",
   "execution_count": 17,
   "id": "3c5e4b6d-e169-45f9-ad48-960106c49364",
   "metadata": {},
   "outputs": [
    {
     "data": {
      "text/plain": [
       "tuple"
      ]
     },
     "execution_count": 17,
     "metadata": {},
     "output_type": "execute_result"
    }
   ],
   "source": [
    "my_tuple = (42,)\n",
    "type(my_tuple)"
   ]
  },
  {
   "cell_type": "markdown",
   "id": "c5548477-3eef-4437-af7c-b584d2ebe25d",
   "metadata": {},
   "source": [
    "## Q15. How do you get a list value&#39;s tuple form? How do you get a tuple value&#39;s list form?"
   ]
  },
  {
   "cell_type": "code",
   "execution_count": 18,
   "id": "928908a7-7224-471e-a363-5ee6b346dbaf",
   "metadata": {},
   "outputs": [
    {
     "name": "stdout",
     "output_type": "stream",
     "text": [
      "(1, 2, 3, 4, 5)\n"
     ]
    },
    {
     "data": {
      "text/plain": [
       "tuple"
      ]
     },
     "execution_count": 18,
     "metadata": {},
     "output_type": "execute_result"
    }
   ],
   "source": [
    "my_list = [1, 2, 3, 4, 5]\n",
    "my_tuple = tuple(my_list)\n",
    "print(my_tuple)\n",
    "type(my_tuple)"
   ]
  },
  {
   "cell_type": "code",
   "execution_count": 19,
   "id": "e14990bb-7ae4-40c3-9be0-e8e8d274f169",
   "metadata": {},
   "outputs": [
    {
     "name": "stdout",
     "output_type": "stream",
     "text": [
      "[1, 2, 3, 4, 5]\n"
     ]
    },
    {
     "data": {
      "text/plain": [
       "list"
      ]
     },
     "execution_count": 19,
     "metadata": {},
     "output_type": "execute_result"
    }
   ],
   "source": [
    "my_tuple = (1, 2, 3, 4, 5)\n",
    "my_list = list(my_tuple)\n",
    "print(my_list)\n",
    "type(my_list)"
   ]
  },
  {
   "cell_type": "markdown",
   "id": "aa818de0-db94-4db1-9cb9-2324fb475ca6",
   "metadata": {},
   "source": [
    "## Q16. Variables that &quot;contain&quot; list values are not necessarily lists themselves. Instead, what do they contain?"
   ]
  },
  {
   "cell_type": "markdown",
   "id": "65116d1f-b161-417e-af7f-4b01ba142edd",
   "metadata": {},
   "source": [
    "`Answer`\n",
    "\n",
    "Variables that \"contain\" list values in Python are not the lists themselves, but rather references or pointers to the lists. In Python, variables are used to store references to objects rather than the objects themselves.\n",
    "\n",
    "When you assign a list to a variable, the variable stores a reference to the memory location where the list object is stored. This means that the variable does not directly contain the list's elements but holds a reference to the list's location in memory.\n",
    "\n",
    "This distinction is important because it allows multiple variables to refer to the same list object. If you assign the list to another variable, both variables will point to the same list in memory:"
   ]
  },
  {
   "cell_type": "markdown",
   "id": "25288ffb-a0fa-4b4c-a12b-a8706c3e7a4a",
   "metadata": {},
   "source": [
    "## Q17. How do you distinguish between copy.copy() and copy.deepcopy()?"
   ]
  },
  {
   "cell_type": "markdown",
   "id": "1c15997f-f925-40fd-8156-43287ef10884",
   "metadata": {},
   "source": [
    "`Answer`\n",
    "\n",
    "Both the functions will create a new object and copy the elements. The difference between shallow and deep copying is only relevant to compound object. Compound object is nothing but object containing another object."
   ]
  },
  {
   "cell_type": "code",
   "execution_count": 36,
   "id": "33242b1e-e821-4824-9152-4197ce5086fc",
   "metadata": {},
   "outputs": [],
   "source": [
    "import copy\n",
    "a = [1,2,3,4,5,[1,2,3,4,5,6,7]]\n",
    "deep = copy.deepcopy(a)\n",
    "shallow = copy.copy(a)"
   ]
  },
  {
   "cell_type": "markdown",
   "id": "16795816-c702-4675-887a-7ea84f557420",
   "metadata": {},
   "source": [
    "‘a’ is a compound object, because it’s a list containing another list, when we call deepcopy function, it creates new object of ‘a’ and new object of nested list, so everything is copied in completely new memory location.\n",
    "\n",
    "When we call copy() , it creates shallow copy of object, it means new object will get created , but no new object will create for nested object, it will point to same nested object of original object."
   ]
  },
  {
   "cell_type": "code",
   "execution_count": 34,
   "id": "ea502ad7-8052-46e5-bbcc-e8b853c90229",
   "metadata": {},
   "outputs": [
    {
     "name": "stdout",
     "output_type": "stream",
     "text": [
      "a: [1, 2, 3, 4, 5, [1, 2, 3, 4, 5, 6, 7], 10]\n",
      "shallow:  [1, 2, 3, 4, 5, [1, 2, 3, 4, 5, 6, 7]]\n",
      "deep:  [1, 2, 3, 4, 5, [1, 2, 3, 4, 5, 6, 7]]\n"
     ]
    }
   ],
   "source": [
    "# If we modify original object ‘a’ , it won’t get reflected in shallow and deep object,\n",
    "a = [1,2,3,4,5,[1,2,3,4,5,6,7]]\n",
    "b = a\n",
    "shallow = copy.copy(a)\n",
    "deep = copy.deepcopy(a)\n",
    "a.append(10)\n",
    "print('a:',a, end = '\\n')\n",
    "print('shallow: ',shallow,  end = '\\n')\n",
    "print('deep: ', deep)"
   ]
  },
  {
   "cell_type": "code",
   "execution_count": 35,
   "id": "1360d363-b1c0-49de-8c86-c146cf9dafb7",
   "metadata": {},
   "outputs": [
    {
     "name": "stdout",
     "output_type": "stream",
     "text": [
      "a: [1, 2, 3, 4, 5, [1, 2, 3, 4, 5, 6, 7, 23]]\n",
      "shallow:  [1, 2, 3, 4, 5, [1, 2, 3, 4, 5, 6, 7, 23]]\n",
      "deep:  [1, 2, 3, 4, 5, [1, 2, 3, 4, 5, 6, 7]]\n"
     ]
    }
   ],
   "source": [
    "# But, when we modify nested object, changes will get reflect in shallow copy but not in deep copy.\n",
    "a = [1,2,3,4,5,[1,2,3,4,5,6,7]]\n",
    "b = a\n",
    "shallow = copy.copy(a)\n",
    "deep = copy.deepcopy(a)\n",
    "a[5].append(23)\n",
    "print('a:',a, end = '\\n')\n",
    "print('shallow: ',shallow,  end = '\\n')\n",
    "print('deep: ', deep)"
   ]
  }
 ],
 "metadata": {
  "kernelspec": {
   "display_name": "Python 3 (ipykernel)",
   "language": "python",
   "name": "python3"
  },
  "language_info": {
   "codemirror_mode": {
    "name": "ipython",
    "version": 3
   },
   "file_extension": ".py",
   "mimetype": "text/x-python",
   "name": "python",
   "nbconvert_exporter": "python",
   "pygments_lexer": "ipython3",
   "version": "3.10.6"
  }
 },
 "nbformat": 4,
 "nbformat_minor": 5
}
