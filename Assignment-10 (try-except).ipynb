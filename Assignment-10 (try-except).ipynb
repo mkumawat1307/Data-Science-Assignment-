{
 "cells": [
  {
   "cell_type": "markdown",
   "id": "97f02613-3db8-4a4e-81bc-6889597e57dc",
   "metadata": {},
   "source": [
    "## Q1. What is the role of try and exception block?"
   ]
  },
  {
   "cell_type": "markdown",
   "id": "a1d99ce3-dd52-4f18-88d8-44b3bd7fa95d",
   "metadata": {},
   "source": [
    "`Answer`\n",
    "\n",
    ">The try block is used to check some code for errors i.e the code inside the try block will execute when there is no error in the program. Whereas the code inside the except block will execute whenever the program encounters some error in the preceding try block"
   ]
  },
  {
   "cell_type": "markdown",
   "id": "1bab5d31-2c31-412e-a112-89a301c36f45",
   "metadata": {},
   "source": [
    "## Q2. What is the syntax for a basic try-except block?"
   ]
  },
  {
   "cell_type": "code",
   "execution_count": 6,
   "id": "ab0065d7-4ef6-425b-8246-bb47cef42562",
   "metadata": {},
   "outputs": [],
   "source": [
    "try:\n",
    "    # Some Code\n",
    "    pass\n",
    "except:\n",
    "    # Executed if error in the\n",
    "    # try block\n",
    "    pass"
   ]
  },
  {
   "cell_type": "markdown",
   "id": "cf545054-17ec-4d09-9651-f5288d42702a",
   "metadata": {},
   "source": [
    "## Q3. What happens if an exception occurs inside a try block and there is no matching except block?"
   ]
  },
  {
   "cell_type": "markdown",
   "id": "8fc62bfb-ff2b-4dd8-8f26-161f53c76366",
   "metadata": {},
   "source": [
    "`Answer`\n",
    "\n",
    ">If an exception occurs inside a try block and there is no matching exception block is found, the program will terminate, and an error message will be displayed."
   ]
  },
  {
   "cell_type": "markdown",
   "id": "3504873d-c663-4b1c-87d9-10ed464e10a9",
   "metadata": {},
   "source": [
    "## Q4. What is the difference between using a bare except block and specifying a specific exception type?"
   ]
  },
  {
   "cell_type": "markdown",
   "id": "d95cb271-653e-4c1b-bb9c-3da4ccccab53",
   "metadata": {},
   "source": [
    "`Answer`\n",
    "\n",
    "1. Bare except block:\n",
    ">A bare except block, also known as catch-all except block, catches any exception that occurs within the try block. It does not specify a particular exception type, so it will handle all exceptions.\n",
    "\n",
    "2. Specific exception type:\n",
    ">we can specify the particular exception type or types that we want to handle. By doing so, we catch only those specific exceptions."
   ]
  },
  {
   "cell_type": "markdown",
   "id": "a703752a-694e-4436-aab6-fa7826dc76fa",
   "metadata": {},
   "source": [
    "## Q5. Can you have nested try-except blocks in Python? If yes, then give an example."
   ]
  },
  {
   "cell_type": "markdown",
   "id": "b2ddd3b7-333d-48c2-a2e2-5e9cf7796282",
   "metadata": {},
   "source": [
    "`Answer`\n",
    "\n",
    "Yes, we use nested try-except blocks."
   ]
  },
  {
   "cell_type": "code",
   "execution_count": 11,
   "id": "ae5641fa-4853-4218-8aaa-bf82b4f4aad6",
   "metadata": {},
   "outputs": [
    {
     "name": "stdin",
     "output_type": "stream",
     "text": [
      "Enter a number:  5\n",
      "Enter another number:  5\n"
     ]
    },
    {
     "name": "stdout",
     "output_type": "stream",
     "text": [
      "Result: 1.0\n"
     ]
    }
   ],
   "source": [
    "try:\n",
    "    num1 = int(input(\"Enter a number: \"))\n",
    "    num2 = int(input(\"Enter another number: \"))\n",
    "\n",
    "    try:\n",
    "        result = num1 / num2\n",
    "        print(\"Result:\", result)\n",
    "\n",
    "    except ZeroDivisionError:\n",
    "        print(\"Cannot divide by zero\")\n",
    "\n",
    "except ValueError:\n",
    "    print(\"Invalid input. Please enter a valid number.\")"
   ]
  },
  {
   "cell_type": "markdown",
   "id": "c48e9875-9ba0-4e78-83ee-f4552ad46d6a",
   "metadata": {},
   "source": [
    "## Q6. Can we use multiple exception blocks, if yes then give an example."
   ]
  },
  {
   "cell_type": "markdown",
   "id": "77839f35-865e-496c-b6d8-6c728fda0444",
   "metadata": {},
   "source": [
    "`Answer`\n",
    "\n",
    "Yes "
   ]
  },
  {
   "cell_type": "code",
   "execution_count": 13,
   "id": "24605238-5d06-4460-82cd-9c4b35d52c52",
   "metadata": {},
   "outputs": [
    {
     "name": "stdin",
     "output_type": "stream",
     "text": [
      "Enter a number:  10\n",
      "Enter another number:  r\n"
     ]
    },
    {
     "name": "stdout",
     "output_type": "stream",
     "text": [
      "Invalid input. Please enter a valid number.\n"
     ]
    }
   ],
   "source": [
    "try:\n",
    "    num1 = int(input(\"Enter a number: \"))\n",
    "    num2 = int(input(\"Enter another number: \"))\n",
    "\n",
    "    result = num1 / num2\n",
    "    print(\"Result:\", result)\n",
    "\n",
    "except ValueError:\n",
    "    print(\"Invalid input. Please enter a valid number.\")\n",
    "    \n",
    "except ZeroDivisionError:\n",
    "    print(\"Cannot divide by zero\")"
   ]
  },
  {
   "cell_type": "markdown",
   "id": "1e4d91a9-2efc-4e21-a960-7d5745ef2be3",
   "metadata": {},
   "source": [
    "## Q7. Write the reason due to which following errors are raised:\n",
    ">a. EOFError<br>\n",
    "b. FloatingPointError<br>\n",
    "c. IndexError<br>\n",
    "d. MemoryError<br>\n",
    "e. OverflowError<br>\n",
    "f. TabError<br>\n",
    "g. ValueError<br>"
   ]
  },
  {
   "cell_type": "markdown",
   "id": "657d3c08-76a4-4f48-9125-91d89b7e4d91",
   "metadata": {},
   "source": [
    "`Answer`\n",
    "\n",
    ">a. EOFError -  Raised when the input() function hits an end-of-file condition (EOF).<br>\n",
    "b. FloatingPointError - Raised when a floating point operation fails.<br>\n",
    "c. IndexError - Raised when a sequence subscript (index) is out of range.<br>\n",
    "d. MemoryError -  Raised when an operation runs out of memory.<br>\n",
    "e. OverflowError - Raised when the result of an arithmetic operation is too large to be expressed<br>\n",
    "f. TabError - Raised when indentation contains mixed tabs and spaces.<br>\n",
    "g. ValueError - Raised when a built-in operation or function receives an argument that has the right type but an inappropriate value."
   ]
  },
  {
   "cell_type": "markdown",
   "id": "9d21a0ff-1e03-4e81-bccf-056cbeb123b0",
   "metadata": {},
   "source": [
    "## Q8. Write code for the following given scenario and add try-exception block to it.\n",
    ">a. Program to divide two numbers<br>\n",
    "b. Program to convert a string to an integer<br>\n",
    "c. Program to access an element in a list<br>\n",
    "d. Program to handle a specific exception<br>\n",
    "e. Program to handle any exception<br>"
   ]
  },
  {
   "cell_type": "markdown",
   "id": "64049396-2201-4f10-886b-700e1c89ebfa",
   "metadata": {},
   "source": [
    "### `Answer`\n",
    "\n",
    "#### 1. Program to divide two numbers:-"
   ]
  },
  {
   "cell_type": "code",
   "execution_count": 26,
   "id": "3dbadc4c-a558-4020-908d-c2c96d962dc7",
   "metadata": {},
   "outputs": [
    {
     "name": "stdin",
     "output_type": "stream",
     "text": [
      "Enter first number:  4\n",
      "Enter second number:  0\n"
     ]
    },
    {
     "name": "stdout",
     "output_type": "stream",
     "text": [
      "Error: Cannot divide by zero.\n"
     ]
    }
   ],
   "source": [
    "try:\n",
    "    a = int(input(\"Enter first number: \"))\n",
    "    b = int(input(\"Enter second number: \"))\n",
    "    result = a / b\n",
    "    print(\"result: \",result)\n",
    "except ZeroDivisionError:\n",
    "    print(\"Error: Cannot divide by zero.\")"
   ]
  },
  {
   "cell_type": "markdown",
   "id": "fb79d06a-a3fd-4e6d-882b-4f6b7d1db4d2",
   "metadata": {},
   "source": [
    "#### 2. Program to convert a string to an integer:-"
   ]
  },
  {
   "cell_type": "code",
   "execution_count": 29,
   "id": "8ff1c014-8f12-4858-8323-eece695e44b2",
   "metadata": {},
   "outputs": [
    {
     "name": "stdin",
     "output_type": "stream",
     "text": [
      "Enter a string:  4\n"
     ]
    },
    {
     "name": "stdout",
     "output_type": "stream",
     "text": [
      "Result : 4\n"
     ]
    }
   ],
   "source": [
    "try:\n",
    "    string = input(\"Enter a string: \")\n",
    "    result = int(string)\n",
    "    print('Result :',result)\n",
    "except ValueError:\n",
    "    print(\"Error: Invalid string format.\")"
   ]
  },
  {
   "cell_type": "markdown",
   "id": "6913a341-b573-4cf3-bbbb-bc1340778c20",
   "metadata": {},
   "source": [
    "#### 3. Program to access an element in a list:-"
   ]
  },
  {
   "cell_type": "code",
   "execution_count": 31,
   "id": "df3a3667-4b5c-4543-84ea-0a97721dfe0b",
   "metadata": {},
   "outputs": [
    {
     "name": "stdin",
     "output_type": "stream",
     "text": [
      "enter the index number:  10\n"
     ]
    },
    {
     "name": "stdout",
     "output_type": "stream",
     "text": [
      "Error: Index out of range.\n"
     ]
    }
   ],
   "source": [
    "try:\n",
    "    index = int(input(\"enter the index number: \"))\n",
    "    lst = [11,12,13,41,51,16,71,18,19,110]\n",
    "    result = lst[index]\n",
    "    print(f\"The element at index {index} is: {result}\")\n",
    "except IndexError:\n",
    "    print(\"Error: Index out of range.\")"
   ]
  },
  {
   "cell_type": "markdown",
   "id": "7ffda124-12e8-44da-a718-1b4b6f85f1bf",
   "metadata": {},
   "source": [
    "#### 4. Program to handle a specific exception:-"
   ]
  },
  {
   "cell_type": "code",
   "execution_count": 32,
   "id": "a30690db-28ff-4b9f-9329-5d2f24291643",
   "metadata": {},
   "outputs": [
    {
     "name": "stdout",
     "output_type": "stream",
     "text": [
      "Error: Cannot divide by zero.\n"
     ]
    }
   ],
   "source": [
    "try:\n",
    "    x = 5 / 0  \n",
    "except ZeroDivisionError:\n",
    "    print(\"Error: Cannot divide by zero.\")"
   ]
  },
  {
   "cell_type": "markdown",
   "id": "ad6a0d60-3761-4973-8f29-b6640392ac24",
   "metadata": {},
   "source": [
    "#### 5. Program to handle any exception:-"
   ]
  },
  {
   "cell_type": "code",
   "execution_count": 36,
   "id": "885a385c-9fde-403b-9a9c-3857d3cb78a8",
   "metadata": {},
   "outputs": [
    {
     "name": "stdin",
     "output_type": "stream",
     "text": [
      "Enter first number:  fdf\n"
     ]
    },
    {
     "name": "stdout",
     "output_type": "stream",
     "text": [
      "Error: invalid literal for int() with base 10: 'fdf'\n",
      "program executed\n"
     ]
    }
   ],
   "source": [
    "try:\n",
    "    a=int(input(\"Enter first number: \"))\n",
    "    b=int(input(\"Enter second number: \"))\n",
    "    x = a/b\n",
    "    print(\"Result: \", x)\n",
    "except Exception as e:\n",
    "    print(f\"Error: {e}\")\n",
    "finally:\n",
    "    print(\"program executed\")"
   ]
  }
 ],
 "metadata": {
  "kernelspec": {
   "display_name": "Python 3 (ipykernel)",
   "language": "python",
   "name": "python3"
  },
  "language_info": {
   "codemirror_mode": {
    "name": "ipython",
    "version": 3
   },
   "file_extension": ".py",
   "mimetype": "text/x-python",
   "name": "python",
   "nbconvert_exporter": "python",
   "pygments_lexer": "ipython3",
   "version": "3.10.6"
  }
 },
 "nbformat": 4,
 "nbformat_minor": 5
}
