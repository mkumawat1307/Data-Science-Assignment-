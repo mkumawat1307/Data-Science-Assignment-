{
 "cells": [
  {
   "cell_type": "markdown",
   "id": "7d769542-1d78-4168-83f6-328ec28f95a6",
   "metadata": {},
   "source": [
    "## Q1. What are the two values of the Boolean data type? How do you write them?"
   ]
  },
  {
   "cell_type": "markdown",
   "id": "b6fc92f5-81b9-419e-9cbf-819f61205f42",
   "metadata": {},
   "source": [
    "`Answer`\n",
    "\n",
    "The Boolean data type in Python has two values: True and False. These values represent the logical concepts of true and false, respectively. In Python, the first letter of each value is capitalized."
   ]
  },
  {
   "cell_type": "code",
   "execution_count": 1,
   "id": "c7f16f9d-79b1-4b28-bfd3-5893b3fb4ea2",
   "metadata": {},
   "outputs": [
    {
     "data": {
      "text/plain": [
       "True"
      ]
     },
     "execution_count": 1,
     "metadata": {},
     "output_type": "execute_result"
    }
   ],
   "source": [
    "variable_name = True\n",
    "variable_name"
   ]
  },
  {
   "cell_type": "code",
   "execution_count": 2,
   "id": "7f3d5468-e57d-4a1c-a825-19629678e8ab",
   "metadata": {},
   "outputs": [
    {
     "data": {
      "text/plain": [
       "False"
      ]
     },
     "execution_count": 2,
     "metadata": {},
     "output_type": "execute_result"
    }
   ],
   "source": [
    "variable_name = False\n",
    "variable_name"
   ]
  },
  {
   "cell_type": "markdown",
   "id": "fd2a03c4-5636-4a1b-a3bb-790675aacf95",
   "metadata": {},
   "source": [
    "## Q2. What are the three different types of Boolean operators?"
   ]
  },
  {
   "cell_type": "markdown",
   "id": "23994b55-18c0-4ad9-867b-5d744bbc8ec5",
   "metadata": {},
   "source": [
    "`Answer`\n",
    "\n",
    "1. AND Operator (`and`): This operator returns True if both the operands are True, and False otherwise. It performs a logical AND operation on the two operands.\n",
    "\n",
    "2. OR Operator (`or`): This operator returns True if at least one of the operands is True, and False if both operands are False. It performs a logical OR operation on the two operands.\n",
    "\n",
    "3. NOT Operator (`not`): This operator returns the opposite of the operand. If the operand is True, the not operator will return False, and vice versa. It performs a logical NOT operation on the operand."
   ]
  },
  {
   "cell_type": "markdown",
   "id": "41f13c5c-ec2c-45b3-81d0-98053fab3d1b",
   "metadata": {},
   "source": [
    "## Q3. Make a list of each Boolean operator&#39;s truth tables (i.e. every possible combination of Boolean values for the operator and what it evaluate )."
   ]
  },
  {
   "cell_type": "markdown",
   "id": "3e4913ef-8266-4f7a-810c-34b4eee3ac07",
   "metadata": {},
   "source": [
    "`Answer`\n",
    "\n",
    "1. AND Operator (`and`):\n",
    "\n",
    "|Operand 1|\tOperand 2|\tResult|\n",
    "|---------|----------|--------|\n",
    "|False|\tFalse|\tFalse|\n",
    "|False|\tTrue|\tFalse|\n",
    "|True|\tFalse|\tFalse|\n",
    "|True|\tTrue|\tTrue|\n",
    "\n",
    "2. OR Operator (`or`):\n",
    "\n",
    "|Operand 1|\tOperand 2|\tResult|\n",
    "|---------|----------|--------|\n",
    "|False|\tFalse|\tFalse|\n",
    "|False|\tTrue|\tTrue|\n",
    "|True|\tFalse|\tTrue|\n",
    "|True|\tTrue|\tTrue|\n",
    "\n",
    "3. NOT Operator (`not`):\n",
    "\n",
    "|Operand|\tResult|\n",
    "|-------|---------|\n",
    "|False|\tTrue|\n",
    "|True|\tFalse|\n",
    "\n",
    "4.  XOR (exclusive OR)\n",
    "\n",
    "|Operand 1|\tOperand 2|\tResult|\n",
    "|---------|----------|--------|\n",
    "|False|\tFalse|\tFalse|\n",
    "|False|\tTrue\t|True|\n",
    "|True|\tFalse\t|True|\n",
    "|True|\tTrue\t|False|"
   ]
  },
  {
   "cell_type": "markdown",
   "id": "8bd2888d-481c-4866-ae08-3bbc64ffdb5f",
   "metadata": {},
   "source": [
    "## Q4. What are the values of the following expressions?\n",
    "(5 > 4) and (3 == 5)<br>\n",
    "not (5 > 4)<br>\n",
    "(5 > 4) or (3 == 5)<br>\n",
    "not ((5 > 4) or (3 == 5))<br>\n",
    "(True and True) and (True == False)<br>\n",
    "(not False) or (not True)<br>"
   ]
  },
  {
   "cell_type": "markdown",
   "id": "772ece6d-ae92-41b3-83df-f16be05bd4a8",
   "metadata": {},
   "source": [
    "`Answer`\n",
    "\n",
    "1. (5 > 4) and (3 == 5)\n",
    "\n",
    "- The expression (5 > 4) evaluates to True.\n",
    "- The expression (3 == 5) evaluates to False.\n",
    "- The and operator returns True only if both operands are True.\n",
    "- Therefore, (5 > 4) and (3 == 5) evaluates to False.\n",
    "\n",
    "2. not (5 > 4)\n",
    "\n",
    "- The expression (5 > 4) evaluates to True.\n",
    "    - The not operator negates the value of the operand.\n",
    "- Therefore, not (5 > 4) evaluates to False.\n",
    "\n",
    "3. (5 > 4) or (3 == 5)\n",
    "\n",
    "- The expression (5 > 4) evaluates to True.\n",
    "- The expression (3 == 5) evaluates to False.\n",
    "    - The or operator returns True if at least one of the operands is True.\n",
    "- Therefore, (5 > 4) or (3 == 5) evaluates to True.\n",
    "\n",
    "4. not ((5 > 4) or (3 == 5))\n",
    "\n",
    "- The expression (5 > 4) or (3 == 5) evaluates to True.\n",
    "    - The not operator negates the value of the operand.\n",
    "- Therefore, not ((5 > 4) or (3 == 5)) evaluates to False.\n",
    "\n",
    "5. (True and True) and (True == False)\n",
    "\n",
    "- The expressions True and True evaluate to True.\n",
    "- The expression True == False evaluates to False.\n",
    "    - The and operator returns True only if both operands are True.\n",
    "- Therefore, (True and True) and (True == False) evaluates to False.\n",
    "\n",
    "6. (not False) or (not True)\n",
    "\n",
    "- The expression not False evaluates to True.\n",
    "- The expression not True evaluates to False.\n",
    "   - The or operator returns True if at least one of the operands is True.\n",
    "- Therefore, (not False) or (not True) evaluates to True."
   ]
  },
  {
   "cell_type": "markdown",
   "id": "c997d53b-b8dd-4b4f-b871-b68c0a57c99a",
   "metadata": {},
   "source": [
    "## Q5. What are the six comparison operators?"
   ]
  },
  {
   "cell_type": "markdown",
   "id": "51fc6548-090e-410d-a738-eddf48e6c606",
   "metadata": {},
   "source": [
    "`Answer`\n",
    "\n",
    "1. Equal to (==): Checks if two operands are equal and returns True if they are, and False otherwise.\n",
    "\n",
    "2. Not equal to (!=): Checks if two operands are not equal and returns True if they are not, and False otherwise.\n",
    "\n",
    "3. Greater than (>): Checks if the left operand is greater than the right operand and returns True if it is, and False otherwise.\n",
    "\n",
    "4. Less than (<): Checks if the left operand is less than the right operand and returns True if it is, and False otherwise.\n",
    "\n",
    "5. Greater than or equal to (>=): Checks if the left operand is greater than or equal to the right operand and returns True if it is, and False otherwise.\n",
    "\n",
    "6. Less than or equal to (<=): Checks if the left operand is less than or equal to the right operand and returns True if it is, and False otherwise."
   ]
  },
  {
   "cell_type": "markdown",
   "id": "398ca4f5-25b1-47d5-912c-dc0904e93bab",
   "metadata": {},
   "source": [
    "## Q6. How do you tell the difference between the equal to and assignment operators?Describe a condition and when you would use one."
   ]
  },
  {
   "cell_type": "markdown",
   "id": "ab127ab5-52e7-448a-820d-e95710db8a19",
   "metadata": {},
   "source": [
    "`Answer`\n",
    "\n",
    "1. Equal to (==) operator: The double equal to operator (==) is used to compare whether two values or expressions are equal. It returns True if the operands are equal and False otherwise.\n",
    "\n",
    "For example, x == y compares the values of x and y and evaluates to True if they are equal, and False otherwise.\n",
    "\n",
    "Usage: The equal to operator is typically used in conditional statements and expressions where you want to check if two values are equal. For instance:"
   ]
  },
  {
   "cell_type": "code",
   "execution_count": 11,
   "id": "39db79b5-98db-4e47-977b-f01c15c4da1c",
   "metadata": {},
   "outputs": [
    {
     "name": "stdout",
     "output_type": "stream",
     "text": [
      "x is not equal to y\n"
     ]
    }
   ],
   "source": [
    "x = 5\n",
    "y = 10\n",
    "if x == y:\n",
    "    print(\"x is equal to y\")\n",
    "else:\n",
    "    print(\"x is not equal to y\")"
   ]
  },
  {
   "cell_type": "markdown",
   "id": "a69016bf-f0d7-4c44-a720-567acaef5408",
   "metadata": {},
   "source": [
    "2. Assignment (=) operator: The single equal to operator (=) is used for variable assignment. It assigns the value on the right-hand side to the variable on the left-hand side.\n",
    "\n",
    "For example, x = 5 assigns the value 5 to the variable x.\n",
    "\n",
    "Usage: The assignment operator is used when you want to store a value or assign a new value to a variable. It is commonly used to initialize variables or update their values:"
   ]
  },
  {
   "cell_type": "code",
   "execution_count": 12,
   "id": "ae89d387-51ba-4959-b42a-2cfebfc64666",
   "metadata": {},
   "outputs": [
    {
     "data": {
      "text/plain": [
       "6"
      ]
     },
     "execution_count": 12,
     "metadata": {},
     "output_type": "execute_result"
    }
   ],
   "source": [
    "x = 5  # Assigning initial value\n",
    "x = x + 1  # Updating value of x\n",
    "x"
   ]
  },
  {
   "cell_type": "markdown",
   "id": "273f88a8-654e-42a8-a176-9f0681d9286e",
   "metadata": {},
   "source": [
    "## 7. Identify the three blocks in this code:\n",
    "spam = 0<br>\n",
    "if spam == 10:<br>\n",
    "print('eggs')<br>\n",
    "if spam > 5:<br>\n",
    "print('bacon')<br>\n",
    "else:<br>\n",
    "print('ham')<br>\n",
    "print('spam')<br>\n",
    "print('spam')<br>"
   ]
  },
  {
   "cell_type": "code",
   "execution_count": 13,
   "id": "6dbb6932-8065-4179-8f43-27e7000c83d8",
   "metadata": {},
   "outputs": [
    {
     "name": "stdout",
     "output_type": "stream",
     "text": [
      "ham\n",
      "spam\n",
      "spam\n"
     ]
    }
   ],
   "source": [
    "spam = 0\n",
    "# Block 1:\n",
    "if spam == 10:\n",
    "    print('eggs')\n",
    "\n",
    "# Block 2:\n",
    "if spam > 5:\n",
    "    print('bacon')\n",
    "\n",
    "# Block 3:\n",
    "else:\n",
    "    print('ham')\n",
    "print('spam')\n",
    "print('spam')\n"
   ]
  },
  {
   "cell_type": "markdown",
   "id": "5ed5efab-85a6-439d-9a60-74f558876d52",
   "metadata": {},
   "source": [
    "## Q8. Write code that prints Hello if 1 is stored in spam, prints Howdy if 2 is stored in spam, and prints Greetings! if anything else is stored in spam."
   ]
  },
  {
   "cell_type": "code",
   "execution_count": 15,
   "id": "861ec990-06af-4a85-a8ac-1bbd7b105711",
   "metadata": {},
   "outputs": [
    {
     "name": "stdin",
     "output_type": "stream",
     "text": [
      "Enter number:  1\n"
     ]
    },
    {
     "name": "stdout",
     "output_type": "stream",
     "text": [
      "Hello\n"
     ]
    }
   ],
   "source": [
    "spam =  int(input(\"Enter number: \"))\n",
    "\n",
    "if spam == 1:\n",
    "    print(\"Hello\")\n",
    "elif spam == 2:\n",
    "    print(\"Howdy\")\n",
    "else:\n",
    "    print(\"Greetings!\")"
   ]
  },
  {
   "cell_type": "markdown",
   "id": "32576a5c-52e4-4972-a489-5018665e2a16",
   "metadata": {},
   "source": [
    "## Q9. If your programme is stuck in an endless loop, what keys you’ll press?"
   ]
  },
  {
   "cell_type": "markdown",
   "id": "d24ab54b-759b-4e84-a48d-0c3343d3a6c8",
   "metadata": {},
   "source": [
    "`Answer`\n",
    "\n",
    "In Jupyter Notebook, if your program is stuck in an endless loop and you need to interrupt its execution, you can use the following key combination:\n",
    "\n",
    "I + I (press the I key twice, quickly)"
   ]
  },
  {
   "cell_type": "markdown",
   "id": "6bfb4cd1-ba74-4c6a-9714-7cac556fad71",
   "metadata": {},
   "source": [
    "## Q10. How can you tell the difference between break and continue?"
   ]
  },
  {
   "cell_type": "markdown",
   "id": "f83bebda-ba19-4942-b0ea-8a7d928e78d4",
   "metadata": {
    "tags": []
   },
   "source": [
    "`Answer`\n",
    "\n",
    "1. break statement:\n",
    "\n",
    "- When encountered within a loop, the break statement immediately terminates the loop execution and transfers control to the next statement outside the loop.\n",
    "- After the break statement is executed, the program continues to execute the statements that follow the loop.\n",
    "- It is typically used to exit the loop prematurely based on certain conditions or when a specific condition is met.\n",
    "\n",
    "2. continue statement:\n",
    "\n",
    "- When encountered within a loop, the continue statement skips the current iteration and moves to the next iteration of the loop.\n",
    "- The remaining statements in the loop after the continue statement are not executed for the current iteration.\n",
    "- It is typically used to skip certain iterations or avoid executing specific code within a loop based on certain conditions."
   ]
  },
  {
   "cell_type": "markdown",
   "id": "78dd99c7-69de-401b-9bda-7e0810a2a2cc",
   "metadata": {},
   "source": [
    "## Q11. In a for loop, what is the difference between range(10), range(0, 10), and range(0, 10, 1)?"
   ]
  },
  {
   "cell_type": "markdown",
   "id": "973b1760-9a03-4dd3-ae2e-b078672a688c",
   "metadata": {},
   "source": [
    "`Answer`\n",
    "\n",
    "In a for loop, range(10), range(0, 10), and range(0, 10, 1) are three different ways of specifying the range of values to iterate over. However, they essentially produce the same result.\n",
    "\n",
    "1. range(10): This specifies a range starting from 0 (default start value) and ending at 10 (exclusive). It increments by 1 (default step value). It is equivalent to range(0, 10, 1).\n",
    "\n",
    "2. range(0, 10): This specifies a range starting from 0 (inclusive) and ending at 10 (exclusive). It increments by 1 (default step value). It explicitly mentions the start value but uses the default step value.\n",
    "\n",
    "3. range(0, 10, 1): This specifies a range starting from 0 (inclusive) and ending at 10 (exclusive). It increments by 1. It explicitly mentions both the start and step values."
   ]
  },
  {
   "cell_type": "code",
   "execution_count": 2,
   "id": "c53cdbfc-60f8-4b1e-a1c1-5ab3c78c7346",
   "metadata": {},
   "outputs": [
    {
     "data": {
      "text/plain": [
       "True"
      ]
     },
     "execution_count": 2,
     "metadata": {},
     "output_type": "execute_result"
    }
   ],
   "source": [
    "range(10)==range(0,10)==range(0,10,1)"
   ]
  },
  {
   "cell_type": "markdown",
   "id": "b9dd8099-d666-4c4f-a98f-8f261bdf4293",
   "metadata": {},
   "source": [
    "## Q12. Write a short program that prints the numbers 1 to 10 using a for loop. Then write an equivalent program that prints the numbers 1 to 10 using a while loop."
   ]
  },
  {
   "cell_type": "code",
   "execution_count": 4,
   "id": "9922b587-1ff3-4d4f-999c-c39f065de701",
   "metadata": {},
   "outputs": [
    {
     "name": "stdout",
     "output_type": "stream",
     "text": [
      "1 2 3 4 5 6 7 8 9 10 "
     ]
    }
   ],
   "source": [
    "for i in range(1, 11):\n",
    "    print(i, end=\" \")"
   ]
  },
  {
   "cell_type": "code",
   "execution_count": 5,
   "id": "9c0f8c4d-612c-4c5a-9f4b-0fa970c4b97c",
   "metadata": {},
   "outputs": [
    {
     "name": "stdout",
     "output_type": "stream",
     "text": [
      "1 2 3 4 5 6 7 8 9 10 "
     ]
    }
   ],
   "source": [
    "i = 1\n",
    "while i <= 10:\n",
    "    print(i, end=\" \")\n",
    "    i += 1"
   ]
  },
  {
   "cell_type": "markdown",
   "id": "3cfdcbb5-4847-4a3c-b2ff-0cf7da90dd14",
   "metadata": {},
   "source": [
    "## Q13. If you had a function named bacon() inside a module named spam, how would you call it after importing spam?"
   ]
  },
  {
   "cell_type": "markdown",
   "id": "d928265e-8f8c-4658-b95f-bdfc80783843",
   "metadata": {},
   "source": [
    "`Answer`\n",
    "\n",
    "import spam\n",
    "\n",
    "spam.bacon()"
   ]
  }
 ],
 "metadata": {
  "kernelspec": {
   "display_name": "Python 3 (ipykernel)",
   "language": "python",
   "name": "python3"
  },
  "language_info": {
   "codemirror_mode": {
    "name": "ipython",
    "version": 3
   },
   "file_extension": ".py",
   "mimetype": "text/x-python",
   "name": "python",
   "nbconvert_exporter": "python",
   "pygments_lexer": "ipython3",
   "version": "3.10.6"
  }
 },
 "nbformat": 4,
 "nbformat_minor": 5
}
