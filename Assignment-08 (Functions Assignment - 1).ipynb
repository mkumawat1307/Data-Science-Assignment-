{
 "cells": [
  {
   "cell_type": "markdown",
   "id": "3c8c9c06-5162-4dfc-8dac-edb23dd3bf8a",
   "metadata": {},
   "source": [
    "## Q1. In Python, what is the difference between a built-in function and a user-defined function? Provide an example of each."
   ]
  },
  {
   "cell_type": "markdown",
   "id": "f70c81f6-0c3f-42b0-a86b-c20d330b9f22",
   "metadata": {},
   "source": [
    "`Answer`\n",
    "\n",
    "1. User-Defined:\n",
    ">A user-defined function in Python is a code block that performs a specific task and is defined by the programmer. <br>\n",
    "Eg: def perimeter(b,l):<br>\n",
    "        p= 2 *(l+b)<br>\n",
    "        print(p)$<br>\n",
    "\n",
    "2. Built-in:\n",
    ">They are predefined functions which can be used anytime.<br>\n",
    "Eg: len( ), type( )<br>"
   ]
  },
  {
   "cell_type": "markdown",
   "id": "73ae9051-f8b1-4fb9-9634-2af363b7173b",
   "metadata": {},
   "source": [
    "## Q2. How can you pass arguments to a function in Python? Explain the difference between positional arguments and keyword arguments."
   ]
  },
  {
   "cell_type": "markdown",
   "id": "886c88ba-7f71-4eec-8760-7b8b02f14c63",
   "metadata": {},
   "source": [
    "`Answer`\n",
    "\n",
    "1. positional argument:\n",
    ">A positional argument is a name that is not followed by an equal sign (=) and default value.<br>\n",
    "ex:- function(*iterable)\n",
    "\n",
    "2. keyword argument:\n",
    ">A keyword argument is followed by an equal sign and an expression that gives its default value.<br>\n",
    "ex:- function(keyword=value)"
   ]
  },
  {
   "cell_type": "code",
   "execution_count": 1,
   "id": "c058673f-1631-4f3d-9689-0456ad121147",
   "metadata": {},
   "outputs": [],
   "source": [
    "def rectangle_area(height, width):\n",
    "    pass\n",
    "\n",
    "rectangle_area(1, 2) # positional arguments\n",
    "rectangle_area(width=2, height=1) # keyword arguments"
   ]
  },
  {
   "cell_type": "markdown",
   "id": "a4c3573f-e040-44ee-b42c-ee7468bdf221",
   "metadata": {},
   "source": [
    "## Q3. What is the purpose of the return statement in a function? Can a function have multiple return statements? Explain with an example."
   ]
  },
  {
   "cell_type": "markdown",
   "id": "9ab02d5e-f85c-45b7-ba52-8da9f9d5f82e",
   "metadata": {},
   "source": [
    "`Answer`\n",
    "\n",
    "- Return Statement:-\n",
    ">the return statement is crucial in user-defined functions as it enables the functions to produce outputs, pass data, allow result reusability, handle conditional returns, and control the flow of the function's execution.\n",
    "\n",
    "- We cannot use multiple return statement in a function(We only use multiple return statement in a conditional statements in a function)\n",
    "- We can use a return statement to return multiple values from a function. To do that, you just need to supply several return values separated by commas."
   ]
  },
  {
   "cell_type": "code",
   "execution_count": 2,
   "id": "dab1f6b8-f405-46ac-aca1-dc6850f41ca7",
   "metadata": {},
   "outputs": [
    {
     "data": {
      "text/plain": [
       "(13, 36, 5)"
      ]
     },
     "execution_count": 2,
     "metadata": {},
     "output_type": "execute_result"
    }
   ],
   "source": [
    "def example(a, b):\n",
    "    _sum=a+b\n",
    "    _mul=a*b\n",
    "    _sub=a-b\n",
    "    return _sum,_mul,_sub\n",
    "example(9,4)"
   ]
  },
  {
   "cell_type": "code",
   "execution_count": 6,
   "id": "f296c475-07e9-46d9-a258-96aa3ad8a643",
   "metadata": {},
   "outputs": [
    {
     "data": {
      "text/plain": [
       "13"
      ]
     },
     "execution_count": 6,
     "metadata": {},
     "output_type": "execute_result"
    }
   ],
   "source": [
    "def example(a, b):\n",
    "    if a>b:\n",
    "        return a+b\n",
    "    elif a<b:\n",
    "        return a*b\n",
    "    else:\n",
    "        return a-b\n",
    "\n",
    "example(9,4)"
   ]
  },
  {
   "cell_type": "markdown",
   "id": "4475e0bc-0111-441d-8773-56d8e0933319",
   "metadata": {},
   "source": [
    "## Q4. What are lambda functions in Python? How are they different from regular functions? Provide an example where a lambda function can be useful."
   ]
  },
  {
   "cell_type": "markdown",
   "id": "70e7db8c-3ef8-4c15-a971-aaf50d3be905",
   "metadata": {},
   "source": [
    "`Answer`\n",
    "\n",
    "- lambda function:-\n",
    ">a lambda function is just like any normal python function, except that it has no name when defining it, and it is contained in one line of code. Lambda functions do not require a return statement, the expression is implicitly returned\n",
    "\n",
    "- A lambda function is an anonymous function (i.e., defined without a name) that can take any number of arguments but, unlike normal functions, evaluates and returns only one expression. Note that, unlike a normal function, we don't surround the parameters of a lambda function with parentheses.\n",
    "\n",
    "- Lambda use in Filter() function.\n",
    "- Lambda use in Map() function.\n",
    "- Lambda use in reduce() function"
   ]
  },
  {
   "cell_type": "code",
   "execution_count": 7,
   "id": "8756de00-3014-4165-ba4a-3049adac2a38",
   "metadata": {},
   "outputs": [
    {
     "data": {
      "text/plain": [
       "<function __main__.<lambda>(x)>"
      ]
     },
     "execution_count": 7,
     "metadata": {},
     "output_type": "execute_result"
    }
   ],
   "source": [
    "#Normal python function\n",
    "def a_name(x):\n",
    "    return x+x\n",
    "#Lambda function\n",
    "lambda x: x+x"
   ]
  },
  {
   "cell_type": "markdown",
   "id": "afb0af3d-d4d0-4a58-a508-82e1c1bd495f",
   "metadata": {},
   "source": [
    "## Q5. How does the concept of \"scope\" apply to functions in Python? Explain the difference between local scope and global scope."
   ]
  },
  {
   "cell_type": "markdown",
   "id": "6a75e764-5ab8-4c8f-b6de-5ea3523385a2",
   "metadata": {},
   "source": [
    "`Answer`\n",
    "\n",
    "- the concept of \"scope\" refers to the visibility and accessibility of variables within different parts of your code. It determines where a variable can be accessed and modified. Understanding scope is crucial for writing clean and maintainable code.\n",
    "\n",
    "|Comparision Basis|Global Scope\t  |Local Scope|\n",
    "|-----------------|---------------|-----------|\n",
    "|Definition|declared outside the functions|\tdeclared within the functions|\n",
    "|Lifetime|They are created  the execution of the program begins and are lost when the program is ended|They are created when the function starts its execution and are lost when the function ends|\n",
    "|Data Sharing|\tOffers Data Sharing|It doesn’t offers Data Sharing|\n",
    "|Scope|Can be access throughout the code|Can access only inside the function|\n",
    "|Parameters needed|parameter passing is not necessary|parameter passing is necessary|\n",
    "|Storage| A fixed location selected by the compiler|They are  kept on the stack|\n",
    "|Value|Once the value changes it is reflected throughout the code|once changed the variable don’t affect other functions of the program|"
   ]
  },
  {
   "cell_type": "markdown",
   "id": "967731d3-7836-46cb-8166-a528ac757eb9",
   "metadata": {},
   "source": [
    "## Q6. How can you use the \"return\" statement in a Python function to return multiple values?"
   ]
  },
  {
   "cell_type": "markdown",
   "id": "3799b9d9-a1d7-44a7-952a-3ea818047683",
   "metadata": {},
   "source": [
    "`Answer`\n",
    "\n",
    "1. `Returning a tuple:` You can return multiple values as a tuple by separating them with commas. Tuples are ordered collections of elements enclosed in parentheses.\n",
    "2. `Returning a list:` Similar to returning a tuple, you can return multiple values as a list. Lists are ordered collections of elements enclosed in square brackets.\n",
    "3. `Returning a dictionary:` If you want to associate the returned values with specific keys, you can return them as a dictionary."
   ]
  },
  {
   "cell_type": "code",
   "execution_count": 10,
   "id": "b87bdf8d-1922-429d-a5fa-afea6e489b94",
   "metadata": {},
   "outputs": [
    {
     "data": {
      "text/plain": [
       "(13, 36, 5)"
      ]
     },
     "execution_count": 10,
     "metadata": {},
     "output_type": "execute_result"
    }
   ],
   "source": [
    "def example(a, b):\n",
    "    _sum=a+b\n",
    "    _mul=a*b\n",
    "    _sub=a-b\n",
    "    return _sum,_mul,_sub\n",
    "example(9,4)"
   ]
  },
  {
   "cell_type": "markdown",
   "id": "15823e9f-98d6-4b03-b575-c34422286903",
   "metadata": {},
   "source": [
    "## Q7. What is the difference between the \"pass by value\" and \"pass by reference\" concepts when it comes to function arguments in Python?"
   ]
  },
  {
   "cell_type": "markdown",
   "id": "5a37f44d-c73f-4ffe-9c25-b3c5f542a145",
   "metadata": {},
   "source": [
    "`Answer`\n",
    "\n",
    "|Pass by Value|Pass by Reference |\n",
    "|---------------|----------------|\n",
    "|Mechanism of copying the function parameter value to another variable|Mechanism of passing the actual parameters to the function|\n",
    "|changes made inside the function are not reflevted in the original value|changes made inside the function are reflevted in the original value|\n",
    "|makes a copy of the actual parameter|address of the actual parameter passes to the function|\n",
    "|function gets a copy of the actual content|function accesses the originak variable's content|\n",
    "|requires more memory|requires less memory|\n",
    "|requires more time as it involves copying values|requires a less amount of time as there is no copying|"
   ]
  },
  {
   "cell_type": "markdown",
   "id": "3eb8ce39-2d9e-447b-96b0-8bdeababe52e",
   "metadata": {},
   "source": [
    "## Q8. Create a function that can intake integer or decimal value and do following operations:\n",
    "a. Logarithmic function (log x)<br>\n",
    "b. Exponential function (exp(x))<br>\n",
    "c. Power function with base 2 (2^x)<br>\n",
    "d. Square root<br>"
   ]
  },
  {
   "cell_type": "code",
   "execution_count": 15,
   "id": "80949bae-09f9-474c-a9eb-5723c927db38",
   "metadata": {},
   "outputs": [
    {
     "name": "stdout",
     "output_type": "stream",
     "text": [
      "(2.0794415416798357, 2980.9579870417283, 256.0, 2.8284271247461903)\n"
     ]
    }
   ],
   "source": [
    "import math\n",
    "\n",
    "def operations(value):\n",
    "    log = math.log(value)  # Logarithmic function\n",
    "    exp = math.exp(value)  # Exponential function\n",
    "    power = math.pow(2, value)  # Power function with base 2\n",
    "    square_root = math.sqrt(value)  # Square root\n",
    "\n",
    "    return log, exp, power, square_root\n",
    "\n",
    "result = operations(8)\n",
    "print(result)"
   ]
  },
  {
   "cell_type": "markdown",
   "id": "8b3d96f4-3284-4fbf-91a8-91011c5fd7e6",
   "metadata": {},
   "source": [
    "## Q9. Create a function that takes a full name as an argument and returns first name and last name."
   ]
  },
  {
   "cell_type": "code",
   "execution_count": 21,
   "id": "05fbfb33-4578-46f3-913e-266537604657",
   "metadata": {},
   "outputs": [
    {
     "name": "stdout",
     "output_type": "stream",
     "text": [
      "('Manish', 'kumawat')\n"
     ]
    }
   ],
   "source": [
    "def extract(full_name):\n",
    "    names = full_name.split()  # Splitting the full name into a list of names\n",
    "    first_name = names[0]  # Extracting the first name\n",
    "    last_name = names[-1]  # Extracting the last name\n",
    "\n",
    "    return first_name, last_name\n",
    "\n",
    "result = extract(\"Manish kumar kumawat\")\n",
    "print(result)"
   ]
  }
 ],
 "metadata": {
  "kernelspec": {
   "display_name": "Python 3 (ipykernel)",
   "language": "python",
   "name": "python3"
  },
  "language_info": {
   "codemirror_mode": {
    "name": "ipython",
    "version": 3
   },
   "file_extension": ".py",
   "mimetype": "text/x-python",
   "name": "python",
   "nbconvert_exporter": "python",
   "pygments_lexer": "ipython3",
   "version": "3.10.6"
  }
 },
 "nbformat": 4,
 "nbformat_minor": 5
}
