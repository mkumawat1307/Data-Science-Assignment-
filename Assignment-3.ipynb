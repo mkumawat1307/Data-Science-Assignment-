{
 "cells": [
  {
   "cell_type": "markdown",
   "id": "7aa589e4-f8ee-4dd1-a4dc-c65f9b0d707e",
   "metadata": {},
   "source": [
    "## Q1. Why are functions advantageous to have in your programs?"
   ]
  },
  {
   "cell_type": "markdown",
   "id": "6454333f-6a32-4541-b3d2-4f1b8e627f22",
   "metadata": {},
   "source": [
    "`Answer`\n",
    "\n",
    "1. Modularity and Code Organization\n",
    "2. Code Reusability\n",
    "3. Abstraction and Encapsulation\n",
    "4. Code Readability and Maintainability\n",
    "5. Testing and Debugging"
   ]
  },
  {
   "cell_type": "markdown",
   "id": "e007fe26-c9e2-4108-800e-10129290d890",
   "metadata": {},
   "source": [
    "## Q2. When does the code in a function run: when it&#39;s specified or when it&#39;s called?"
   ]
  },
  {
   "cell_type": "markdown",
   "id": "2ce07c4b-6728-4dc8-8a38-c3cb34f5ebb0",
   "metadata": {},
   "source": [
    "`Answer`\n",
    "\n",
    "When you define a function, you are essentially creating a reusable block of code that specifies a set of instructions. These instructions are not executed immediately upon function definition, but rather when the function is called or invoked at a later point in the program.\n",
    "\n",
    "When you call a function by using its name followed by parentheses (e.g., function_name()), the program transfers control to the function's code block, and the instructions inside the function are executed in the order they appear."
   ]
  },
  {
   "cell_type": "code",
   "execution_count": 1,
   "id": "9ffac20e-c33f-4e14-8e70-40c0fc25ae0b",
   "metadata": {},
   "outputs": [
    {
     "name": "stdout",
     "output_type": "stream",
     "text": [
      "Before function call.\n",
      "Hello, World!\n",
      "After function call.\n"
     ]
    }
   ],
   "source": [
    "def greet():\n",
    "    print(\"Hello, World!\")\n",
    "\n",
    "print(\"Before function call.\")\n",
    "greet()\n",
    "print(\"After function call.\")"
   ]
  },
  {
   "cell_type": "markdown",
   "id": "8f8d9896-dd6d-455c-b428-04d1974d51d5",
   "metadata": {},
   "source": [
    "## Q3. What statement creates a function?"
   ]
  },
  {
   "cell_type": "markdown",
   "id": "e5c20d69-0df5-4ba9-ad76-cc252cb74eaf",
   "metadata": {},
   "source": [
    "`Answer`\n",
    "\n",
    "the `def` statement is used to create a function."
   ]
  },
  {
   "cell_type": "code",
   "execution_count": 4,
   "id": "94162468-3f79-41ff-8651-cf759e9b6e2f",
   "metadata": {},
   "outputs": [],
   "source": [
    "def function_name(parameters):\n",
    "    # Function body (code block)\n",
    "    # Perform desired operations here\n",
    "    # ...\n",
    "    # Optional return statement, if needed\n",
    "    return value"
   ]
  },
  {
   "cell_type": "markdown",
   "id": "359412b2-ce82-4ca7-9009-84a75b6056e1",
   "metadata": {},
   "source": [
    "## Q4. What is the difference between a function and a function call?"
   ]
  },
  {
   "cell_type": "markdown",
   "id": "71a18986-f2d2-44d4-bdee-502b440407bc",
   "metadata": {},
   "source": [
    "`Answer`\n",
    "\n",
    "1. Function:\n",
    "\n",
    "- A function is a named block of code that performs a specific task or operation. It is defined using the def statement and consists of a function header and a function body.\n",
    "- The function defines the instructions or logic that will be executed when the function is called.\n",
    "- It can accept zero or more parameters (inputs) and may optionally return a value as the result of its execution.\n",
    "- Functions provide modularity, code reuse, and abstraction by encapsulating specific functionality that can be called from different parts of the program.\n",
    "\n",
    "2. Function Call (Invocation):\n",
    "\n",
    "- A function call, also known as a function invocation, is the act of executing a function and transferring control to its code block.\n",
    "- It is performed by using the function's name followed by parentheses, optionally passing arguments (values) as inputs within the parentheses.\n",
    "- When a function call is encountered, the program jumps to the function's code block, executes the instructions defined within the function, and then returns back to the point where the function was called.\n",
    "- The function call may include arguments (if the function expects parameters) and can receive the returned value (if the function provides a return statement)."
   ]
  },
  {
   "cell_type": "markdown",
   "id": "7ba0d684-8185-4c6c-84da-fe392c627028",
   "metadata": {},
   "source": [
    "## Q5. How many global scopes are there in a Python program? How many local scopes?"
   ]
  },
  {
   "cell_type": "markdown",
   "id": "7f15135f-2e2b-4641-a1bc-f9af0466c3d1",
   "metadata": {},
   "source": [
    "`Answer`\n",
    "\n",
    "In a Python program, there is typically one global scope and multiple local scopes.\n",
    "\n",
    "1. Global Scope:\n",
    "\n",
    "- The global scope refers to the outermost scope of a program or module.\n",
    "- It is created when the program starts running, and variables defined in this scope are accessible from anywhere within the program.\n",
    "- The global scope remains active throughout the program's execution.\n",
    "\n",
    "2. Local Scopes:\n",
    "\n",
    "- Local scopes are created whenever a function is called or when a block of code, such as a loop or conditional statement, is executed.\n",
    "- Each function call or block of code creates its own local scope, separate from the global scope and other local scopes.\n",
    "- Variables defined within a local scope are accessible only within that scope and its nested scopes.\n",
    "- When the execution of a function or block of code finishes, the local scope is destroyed, and the variables defined within it are no longer accessible.\n",
    "\n",
    "To summarize, while there is one global scope that exists throughout the entire program, local scopes are created and destroyed dynamically as functions are called or blocks of code are executed."
   ]
  },
  {
   "cell_type": "markdown",
   "id": "5abd647c-2e38-4475-93a2-841d063ffcc5",
   "metadata": {},
   "source": [
    "## Q6. What happens to variables in a local scope when the function call returns?"
   ]
  },
  {
   "cell_type": "markdown",
   "id": "29e8fd76-3abd-4a23-9791-a10ace5b85e3",
   "metadata": {},
   "source": [
    "`Answer`\n",
    "\n",
    "When a function call returns in Python, the local variables within the function's local scope are destroyed."
   ]
  },
  {
   "cell_type": "markdown",
   "id": "7150c7ed-8d8f-47d8-b37f-61e216b1e160",
   "metadata": {},
   "source": [
    "## Q7. What is the concept of a return value? Is it possible to have a return value in an expression?"
   ]
  },
  {
   "cell_type": "markdown",
   "id": "a284e89b-f0b2-4484-8dd0-87d95f3ff7a4",
   "metadata": {},
   "source": [
    "`Answer`\n",
    "\n",
    "The concept of a return value in programming refers to the value that a function can provide as its result when it completes its execution. The return value is the output or outcome of the function's operation, which can be used for further computations, assignments, or any other desired purpose within the program. When a function has a return statement, it allows the function to send a value back to the caller. The return statement specifies the value that the function should return when it finishes executing. The returned value can be of any data type, such as numbers, strings, lists, or even other complex objects.\n",
    "\n",
    "it is not possible to have a return value in an expression directly. The return value of a function is separate from the evaluation of expressions."
   ]
  },
  {
   "cell_type": "markdown",
   "id": "c8f0076d-9f3d-4f79-8642-af015a013db5",
   "metadata": {},
   "source": [
    "## Q8. If a function does not have a return statement, what is the return value of a call to that function?"
   ]
  },
  {
   "cell_type": "markdown",
   "id": "5a11ed58-4aac-4194-9652-8b4adaf0b81a",
   "metadata": {},
   "source": [
    "`Answer`\n",
    "\n",
    "If a function does not have a return statement, the return value of a call to that function is `None`."
   ]
  },
  {
   "cell_type": "markdown",
   "id": "9aee4bb5-ed74-4aaf-9a39-a6ca876c48f0",
   "metadata": {},
   "source": [
    "## Q9. How do you make a function variable refer to the global variable?"
   ]
  },
  {
   "cell_type": "markdown",
   "id": "1a399a89-35e5-4b01-9c69-2beeca43bff3",
   "metadata": {},
   "source": [
    "`Answer`\n",
    "\n",
    "you can make a function variable refer to a global variable by using the global keyword. This allows you to access and modify the global variable within the function's scope."
   ]
  },
  {
   "cell_type": "code",
   "execution_count": 7,
   "id": "b88921fa-a327-40bf-b0c1-2f4b6ed1503a",
   "metadata": {},
   "outputs": [
    {
     "name": "stdout",
     "output_type": "stream",
     "text": [
      "10\n",
      "20\n"
     ]
    }
   ],
   "source": [
    "global_var = 10  # Global variable\n",
    "\n",
    "def update_global():\n",
    "    global global_var  # Declare global_var as a global variable within the function\n",
    "    global_var = 20  # Modify the value of the global variable\n",
    "\n",
    "print(global_var)  # Output: 10\n",
    "update_global()  # Call the function to update the global variable\n",
    "print(global_var)  # Output: 20"
   ]
  },
  {
   "cell_type": "markdown",
   "id": "83b22fad-c0e9-479c-a907-255f80b9b933",
   "metadata": {},
   "source": [
    "## Q10. What is the data type of None?"
   ]
  },
  {
   "cell_type": "markdown",
   "id": "e5b9d4a6-a40e-4a8c-81d8-914e6be69a5b",
   "metadata": {},
   "source": [
    "`Answer`\n",
    "\n",
    "The data type of None in Python is called NoneType. It is a built-in type that represents the absence of a value or the lack of a specific object."
   ]
  },
  {
   "cell_type": "code",
   "execution_count": 8,
   "id": "2b0a72f6-de63-455b-b559-26e3cfc0e9d6",
   "metadata": {},
   "outputs": [
    {
     "name": "stdout",
     "output_type": "stream",
     "text": [
      "<class 'NoneType'>\n"
     ]
    }
   ],
   "source": [
    "value = None\n",
    "\n",
    "print(type(value))"
   ]
  },
  {
   "cell_type": "markdown",
   "id": "06eb983e-b3f2-48eb-adc6-810bfd2493f2",
   "metadata": {},
   "source": [
    "## Q11. What does the sentence import areallyourpetsnamederic do?"
   ]
  },
  {
   "cell_type": "markdown",
   "id": "f844349d-792c-4052-854e-76c113dd4220",
   "metadata": {},
   "source": [
    "`Answer`\n",
    "\n",
    " the import statement is used to bring in functionality from other modules or packages, allowing you to access their functions, variables, and classes within your program. However, the sentence \"import areallyourpetsnamederic\" does not correspond to any existing module or package that can be imported.\n",
    "\n",
    "If you attempt to execute the statement \"import areallyourpetsnamederic\" in a Python program, it will raise a ModuleNotFoundError because Python cannot find a module with that name.\n",
    "\n",
    "To import a module successfully, you need to provide the name of a valid module or package that is installed or available in your Python environment."
   ]
  },
  {
   "cell_type": "markdown",
   "id": "ff6b5990-2499-4b68-a1e1-bb5ea4aba24b",
   "metadata": {},
   "source": [
    "## Q12. If you had a bacon() feature in a spam module, what would you call it after importing spam?"
   ]
  },
  {
   "cell_type": "markdown",
   "id": "413fdf43-2678-4efd-ad27-1295cda32b58",
   "metadata": {},
   "source": [
    "`Answer`\n",
    "\n",
    "After importing the spam module, you can call the bacon() feature using the dot notation, specifying both the module name (spam) and the function name (bacon()).\n",
    "\n",
    "By using the dot notation (spam.bacon()), you explicitly specify the module name followed by the function name to access and utilize the desired feature or functionality from the imported module."
   ]
  },
  {
   "cell_type": "markdown",
   "id": "28f2726d-e070-48f2-97c1-4031c4c24c73",
   "metadata": {},
   "source": [
    "## Q13. What can you do to save a programme from crashing if it encounters an error?"
   ]
  },
  {
   "cell_type": "markdown",
   "id": "c5e68b3e-77c0-4e01-b21f-121b70c122b6",
   "metadata": {},
   "source": [
    "`Answer`\n",
    "\n",
    "To prevent a program from crashing when it encounters an error, you can implement error handling techniques using exception handling. By catching and handling exceptions, you can gracefully handle errors and take appropriate actions rather than allowing the program to terminate abruptly."
   ]
  },
  {
   "cell_type": "markdown",
   "id": "96a293b3-5404-4362-9603-4d0bf82aa2e5",
   "metadata": {},
   "source": [
    "## Q14. What is the purpose of the try clause? What is the purpose of the except clause?"
   ]
  },
  {
   "cell_type": "markdown",
   "id": "ad7d3e8d-a586-4176-b142-fe13d7798646",
   "metadata": {},
   "source": [
    "`Answer`\n",
    "\n",
    "1. try:\n",
    "    - The purpose of the try clause in Python is to enclose a block of code that might raise exceptions. It allows you to specify a section of code where you anticipate potential errors or exceptions and want to handle them gracefully. The code within the try block is executed, and if any exceptions occur during its execution, they are caught and processed.\n",
    "\n",
    "2. except:\n",
    "    - The purpose of the except clause is to define the specific handling code for the caught exception(s). When an exception is raised within the try block, Python searches for a matching except block that handles that particular type of exception. If a matching except block is found, the code within that block is executed to handle the exception. It allows you to provide a specific response or action for different types of exceptions that may occur."
   ]
  }
 ],
 "metadata": {
  "kernelspec": {
   "display_name": "Python 3 (ipykernel)",
   "language": "python",
   "name": "python3"
  },
  "language_info": {
   "codemirror_mode": {
    "name": "ipython",
    "version": 3
   },
   "file_extension": ".py",
   "mimetype": "text/x-python",
   "name": "python",
   "nbconvert_exporter": "python",
   "pygments_lexer": "ipython3",
   "version": "3.10.6"
  }
 },
 "nbformat": 4,
 "nbformat_minor": 5
}
