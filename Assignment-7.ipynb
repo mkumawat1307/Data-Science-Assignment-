{
 "cells": [
  {
   "cell_type": "markdown",
   "id": "63b2aab4-1aca-424a-a94c-2a41657fd221",
   "metadata": {},
   "source": [
    "## Q.1. Create two int type variables, apply addition, subtraction, division and multiplications and store the results in variables. Then print the data in the following format by calling the\n",
    ">variables:\n",
    "\n",
    ">First variable is __ & second variable is __.<br>\n",
    "Addition: __ + __ = __<br>\n",
    "Subtraction: __ - __ = __<br>\n",
    "Multiplication: __ * __ = __<br>\n",
    "Division: __ / __ = __<br>"
   ]
  },
  {
   "cell_type": "code",
   "execution_count": 2,
   "id": "3bd14068-641e-4770-b4d4-3047077acf4c",
   "metadata": {},
   "outputs": [
    {
     "name": "stdout",
     "output_type": "stream",
     "text": [
      "First variable is 10 & second variable is 5\n",
      "Addition: 10 + 5 = 15\n",
      "Subtraction: 10 - 5 = 5\n",
      "Multiplication: 10 * 5 = 50\n",
      "Division: 10 / 5 = 2.0\n"
     ]
    }
   ],
   "source": [
    "first_variable = 10\n",
    "second_variable = 5\n",
    "\n",
    "addition_result = first_variable + second_variable\n",
    "subtraction_result = first_variable - second_variable\n",
    "multiplication_result = first_variable * second_variable\n",
    "division_result = first_variable / second_variable\n",
    "\n",
    "# Print the data\n",
    "print(\"First variable is\", first_variable, \"& second variable is\", second_variable)\n",
    "print(\"Addition:\", first_variable, \"+\", second_variable, \"=\", addition_result)\n",
    "print(\"Subtraction:\", first_variable, \"-\", second_variable, \"=\", subtraction_result)\n",
    "print(\"Multiplication:\", first_variable, \"*\", second_variable, \"=\", multiplication_result)\n",
    "print(\"Division:\", first_variable, \"/\", second_variable, \"=\", division_result)"
   ]
  },
  {
   "cell_type": "markdown",
   "id": "e05393bc-442c-4753-85ae-ba22a6fe88fd",
   "metadata": {},
   "source": [
    "## Q.2. What is the difference between the following operators:\n",
    "1.  ‘/’ & ‘//’\n",
    "2.  ‘**’ & ‘^’"
   ]
  },
  {
   "cell_type": "markdown",
   "id": "16a734d1-8d7d-40b0-8246-aadbb978cb89",
   "metadata": {},
   "source": [
    "`Answer`\n",
    "\n",
    "1. Division operators:\n",
    "\n",
    "    - `/` is the regular division operator in Python. It performs floating-point division, meaning it returns a floating-point result even if the division is evenly divisible. For example, 10 / 5 returns 2.0.\n",
    "    - `//` is the floor division operator in Python. It performs integer division, which returns the largest integer less than or equal to the quotient of the division. For example, 10 // 5 returns 2, and 11 // 5 returns 2 as well.\n",
    "    \n",
    "2. Exponentiation operators:\n",
    "\n",
    "    - `**` is the exponentiation operator in Python. It raises the left operand to the power of the right operand. For example, 2 ** 3 returns 8, as 2 raised to the power of 3 is 8.\n",
    "    - `^` is not the exponentiation operator in Python. Instead, it is the bitwise XOR operator, used for performing bitwise XOR (exclusive OR) operation on the binary representation of numbers."
   ]
  },
  {
   "cell_type": "markdown",
   "id": "2fe4e786-1130-4c8a-8f7c-533f91ee61bd",
   "metadata": {},
   "source": [
    "## Q.3. List the logical operators."
   ]
  },
  {
   "cell_type": "markdown",
   "id": "a8b20414-8b82-49b8-b478-1779b7d84812",
   "metadata": {},
   "source": [
    "`Answer`\n",
    "\n",
    "1. `and`: The and operator returns True if both operands are True, and False otherwise. It performs short-circuit evaluation.\n",
    "\n",
    "2. `or`: The or operator returns True if at least one of the operands is True, and False if both operands are False. It also performs short-circuit evaluation.\n",
    "\n",
    "3. `not`: The not operator is a unary operator that returns the opposite of the operand's truth value. If the operand is True, not returns False, and if the operand is False, not returns True"
   ]
  },
  {
   "cell_type": "markdown",
   "id": "b5a829ba-4493-4319-bb2c-cd43a4484d95",
   "metadata": {},
   "source": [
    "## Q.4. Explain right shift operator and left shift operator with examples."
   ]
  },
  {
   "cell_type": "markdown",
   "id": "ce3fc97d-dffd-411b-a12d-54a128de5104",
   "metadata": {},
   "source": [
    "`Answer`\n",
    "\n",
    "1. Right Shift Operator (`>>`):\n",
    "> The right shift operator shifts the bits of a number to the right by a specified number of positions. It moves each bit to the right by the specified amount, and fills the leftmost positions with zeros. The general syntax is number >> n, where number is the value to be shifted and n is the number of positions to shift."
   ]
  },
  {
   "cell_type": "code",
   "execution_count": 7,
   "id": "d23a3ea6-0a9a-481b-8f8b-01239b934c5e",
   "metadata": {},
   "outputs": [
    {
     "name": "stdout",
     "output_type": "stream",
     "text": [
      " input: 120, input Binary: 0b1111000, output: 30, output Binary: 0b11110\n"
     ]
    }
   ],
   "source": [
    "number = 120 \n",
    "result = number >> 2 # Right shifting by 2 positions\n",
    "print(f\" input: {number}, input Binary: {bin(number)}, output: {result}, output Binary: {bin(result)}\" )"
   ]
  },
  {
   "cell_type": "markdown",
   "id": "735a6404-0638-44ce-9287-34666bff83e3",
   "metadata": {},
   "source": [
    "2. Left Shift Operator (<<):\n",
    ">The left shift operator shifts the bits of a number to the left by a specified number of positions. It moves each bit to the left by the specified amount, and fills the rightmost positions with zeros. The general syntax is number << n, where number is the value to be shifted and n is the number of positions to shift."
   ]
  },
  {
   "cell_type": "code",
   "execution_count": 8,
   "id": "7cb1c6e7-f3c8-4af9-a4bd-3b61ad64910c",
   "metadata": {},
   "outputs": [
    {
     "name": "stdout",
     "output_type": "stream",
     "text": [
      " input: 120, input Binary: 0b1111000, output: 480, output Binary: 0b111100000\n"
     ]
    }
   ],
   "source": [
    "number = 120 \n",
    "result = number << 2  # Left shifting by 2 positions\n",
    "print(f\" input: {number}, input Binary: {bin(number)}, output: {result}, output Binary: {bin(result)}\" )"
   ]
  },
  {
   "cell_type": "markdown",
   "id": "ae18d851-3970-4408-874c-c1f21c32f120",
   "metadata": {},
   "source": [
    "## Q.5. Create a list containing int type data of length 15. Then write a code to check if 10 is present in the list or not."
   ]
  },
  {
   "cell_type": "code",
   "execution_count": 9,
   "id": "0a847c72-11bc-4997-aefa-f15034f2f6eb",
   "metadata": {},
   "outputs": [
    {
     "name": "stdout",
     "output_type": "stream",
     "text": [
      "The number 10 is present in the list.\n"
     ]
    }
   ],
   "source": [
    "my_list = [2, 5, 8, 10, 13, 15, 18, 20, 23, 25, 28, 30, 33, 35, 38]\n",
    "\n",
    "if 10 in my_list:\n",
    "    print(\"The number 10 is present in the list.\")\n",
    "else:\n",
    "    print(\"The number 10 is not present in the list.\")"
   ]
  }
 ],
 "metadata": {
  "kernelspec": {
   "display_name": "Python 3 (ipykernel)",
   "language": "python",
   "name": "python3"
  },
  "language_info": {
   "codemirror_mode": {
    "name": "ipython",
    "version": 3
   },
   "file_extension": ".py",
   "mimetype": "text/x-python",
   "name": "python",
   "nbconvert_exporter": "python",
   "pygments_lexer": "ipython3",
   "version": "3.10.6"
  }
 },
 "nbformat": 4,
 "nbformat_minor": 5
}
